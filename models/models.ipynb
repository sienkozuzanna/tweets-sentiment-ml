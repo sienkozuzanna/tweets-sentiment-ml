{
 "cells": [
  {
   "cell_type": "code",
   "execution_count": 2,
   "metadata": {},
   "outputs": [],
   "source": [
    "import pandas as pd\n",
    "import numpy as np\n",
    "import matplotlib.pyplot as plt\n",
    "import seaborn as sns\n",
    "\n",
    "from sklearn.model_selection import RandomizedSearchCV\n",
    "from tqdm import tqdm\n",
    "from sklearn.feature_extraction.text import TfidfVectorizer\n",
    "from scipy.stats import reciprocal\n",
    "from sklearn.svm import LinearSVC\n",
    "from sklearn.linear_model import LogisticRegression\n",
    "from sklearn.naive_bayes import GaussianNB\n",
    "from gensim.models import Word2Vec\n",
    "from sklearn.metrics import classification_report\n",
    "from sklearn.model_selection import GridSearchCV\n",
    "from sklearn.model_selection import ParameterGrid\n",
    "from sklearn.tree import DecisionTreeClassifier\n",
    "from sklearn.linear_model import LogisticRegression\n",
    "from sklearn.naive_bayes import MultinomialNB\n",
    "from lightgbm import LGBMClassifier\n",
    "from xgboost import XGBClassifier\n",
    "from sklearn.metrics import accuracy_score, precision_score, recall_score, f1_score, roc_auc_score, confusion_matrix, auc, roc_curve, make_scorer\n",
    "import joblib\n",
    "from sklearn.feature_extraction.text import CountVectorizer\n",
    "from nltk.tokenize import word_tokenize\n",
    "from sklearn.pipeline import Pipeline\n",
    "from sklearn.preprocessing import StandardScaler\n",
    "from sklearn.compose import ColumnTransformer\n",
    "from skopt import gp_minimize\n",
    "from skopt.space import Real, Categorical\n",
    "from tqdm import tqdm\n",
    "from sklearn.model_selection import StratifiedKFold\n",
    "from skopt import BayesSearchCV\n",
    "from scipy.stats import loguniform\n",
    "from sklearn.ensemble import RandomForestClassifier\n",
    "from sklearn.metrics import accuracy_score\n",
    "from sklearn.model_selection import train_test_split\n",
    "from sklearn.tree import DecisionTreeClassifier\n",
    "from sklearn.ensemble import AdaBoostClassifier, RandomForestClassifier\n",
    "from sklearn.linear_model import LogisticRegression\n",
    "from sklearn import metrics\n",
    "from sklearn.ensemble import RandomForestClassifier, GradientBoostingClassifier, AdaBoostClassifier\n",
    "from sklearn.linear_model import LogisticRegression, RidgeClassifier\n",
    "from skopt.space import Real, Categorical\n",
    "import math\n",
    "from sklearn.pipeline import Pipeline\n",
    "import os\n",
    "from joblib import dump\n",
    "\n",
    "\n",
    "import warnings\n",
    "warnings.filterwarnings(\"ignore\")"
   ]
  },
  {
   "cell_type": "code",
   "execution_count": 3,
   "metadata": {},
   "outputs": [],
   "source": [
    "processed_train_data=pd.read_csv('../data/processed data/processed_train_data.csv', encoding='ISO-8859-1')\n",
    "processed_test_data=pd.read_csv('../data/processed data/processed_val_data.csv', encoding='ISO-8859-1')"
   ]
  },
  {
   "cell_type": "code",
   "execution_count": 3,
   "metadata": {},
   "outputs": [],
   "source": [
    "X_train=processed_train_data.drop('target', axis=1)\n",
    "y_train=processed_train_data['target']\n",
    "X_test=processed_test_data.drop('target',axis=1)\n",
    "y_test=processed_test_data['target']"
   ]
  },
  {
   "cell_type": "code",
   "execution_count": 5,
   "metadata": {},
   "outputs": [
    {
     "data": {
      "text/plain": [
       "((505612, 3), (216619, 3), (505612,), (216619,))"
      ]
     },
     "execution_count": 5,
     "metadata": {},
     "output_type": "execute_result"
    }
   ],
   "source": [
    "X_train.shape, X_test.shape, y_train.shape, y_test.shape"
   ]
  },
  {
   "cell_type": "code",
   "execution_count": 6,
   "metadata": {},
   "outputs": [
    {
     "data": {
      "text/plain": [
       "(                                                text  polarity  contains_not\n",
       " 0  really bore nothing not want tomoz lazy nothin... -0.656250             1\n",
       " 1  run hrs sleep whoo hoo lol come around head ho...  1.000000             0\n",
       " 2  think reality finally set nowin day half heart... -0.153472             0\n",
       " 3                              explore twitter world  0.000000             0\n",
       " 4                                  hungover make day  0.000000             0,\n",
       " 0    0\n",
       " 1    1\n",
       " 2    0\n",
       " 3    1\n",
       " 4    0\n",
       " Name: target, dtype: int64)"
      ]
     },
     "execution_count": 6,
     "metadata": {},
     "output_type": "execute_result"
    }
   ],
   "source": [
    "X_train.head(), y_train.head()"
   ]
  },
  {
   "cell_type": "markdown",
   "metadata": {},
   "source": [
    "# Features for models"
   ]
  },
  {
   "cell_type": "markdown",
   "metadata": {},
   "source": [
    "## Word Embeddings"
   ]
  },
  {
   "cell_type": "code",
   "execution_count": 8,
   "metadata": {},
   "outputs": [],
   "source": [
    "tokenized_sentences = [word_tokenize(text) for text in X_train['text']]\n",
    "\n",
    "model = Word2Vec(tokenized_sentences, vector_size=100, window=7, min_count=5, sg=1)\n",
    "\n",
    "def text_to_vector(text, embedding_model, embedding_dim):\n",
    "    words = text.split()\n",
    "    vectors = []\n",
    "    for word in words:\n",
    "        if word in embedding_model.wv:\n",
    "            vectors.append(embedding_model.wv[word])\n",
    "    if not vectors:\n",
    "        return np.zeros(embedding_dim)\n",
    "    avg_vector = np.mean(vectors, axis=0)\n",
    "    return avg_vector\n",
    "\n",
    "embedding_dim = 10\n",
    "\n",
    "word2vec_vector = X_train['text'].apply(lambda x: text_to_vector(x, model, embedding_dim))\n",
    "word2vec_vector_test = X_test['text'].apply(lambda x: text_to_vector(x, model, embedding_dim))"
   ]
  },
  {
   "cell_type": "code",
   "execution_count": 9,
   "metadata": {},
   "outputs": [],
   "source": [
    "max_length = 100\n",
    "\n",
    "def pad_or_truncate_sequences(sequences, max_length):\n",
    "    padded_sequences = []\n",
    "    for seq in sequences:\n",
    "        if len(seq) < max_length:\n",
    "            padded_seq = np.pad(seq, (0, max_length - len(seq)), mode='constant')\n",
    "        else:\n",
    "            padded_seq = seq[:max_length]\n",
    "        padded_sequences.append(padded_seq)\n",
    "    return np.array(padded_sequences)\n",
    "\n",
    "X_train_w2v_pad = pad_or_truncate_sequences(word2vec_vector, max_length)\n",
    "X_test_w2v_pad = pad_or_truncate_sequences(word2vec_vector_test, max_length)"
   ]
  },
  {
   "cell_type": "markdown",
   "metadata": {},
   "source": [
    "# Basic Models"
   ]
  },
  {
   "cell_type": "code",
   "execution_count": 4,
   "metadata": {},
   "outputs": [],
   "source": [
    "numeric_features = ['contains_not', 'polarity']\n",
    "text_feature = 'text'"
   ]
  },
  {
   "cell_type": "code",
   "execution_count": 5,
   "metadata": {},
   "outputs": [],
   "source": [
    "def model_classification_reports(models, X_train, y_train, X_test, y_test):\n",
    "    reports = {}\n",
    "    for model_name, model in models.items():\n",
    "        model.fit(X_train, y_train)\n",
    "        if hasattr(model, \"predict_proba\"):\n",
    "            y_pred_proba = model.predict_proba(X_test)[:, 1]\n",
    "            roc_auc = roc_auc_score(y_test, y_pred_proba)\n",
    "        elif hasattr(model, \"decision_function\"):\n",
    "            y_score = model.decision_function(X_test)\n",
    "            roc_auc = roc_auc_score(y_test, y_score)\n",
    "\n",
    "        y_pred = model.predict(X_test)\n",
    "        report = classification_report(y_test, y_pred, output_dict=True)\n",
    "        report['roc_auc'] = roc_auc\n",
    "        reports[model_name] = report\n",
    "    return reports"
   ]
  },
  {
   "cell_type": "code",
   "execution_count": 6,
   "metadata": {},
   "outputs": [],
   "source": [
    "def print_classification_reports(reports):\n",
    "    for model_name, report in reports.items():\n",
    "        print(model_name.upper())\n",
    "        print('==================================')\n",
    "\n",
    "        print('Model Performance for Test Set:')\n",
    "        print('- Accuracy: {:.4f}'.format(report['accuracy']))\n",
    "        print('- F1 Score: {:.4f}'.format(report['weighted avg']['f1-score']))\n",
    "        print('- Precision: {:.4f}'.format(report['weighted avg']['precision']))\n",
    "        print('- Recall: {:.4f}'.format(report['weighted avg']['recall']))\n",
    "        print('- ROC AUC Score: {:.4f}'.format(report['roc_auc']))\n",
    "\n",
    "        print('==================================')\n",
    "        print('\\n')\n"
   ]
  },
  {
   "cell_type": "code",
   "execution_count": 7,
   "metadata": {},
   "outputs": [],
   "source": [
    "def roc_curve_plot(models, X_test, y_test):\n",
    "    plt.figure(figsize=(8, 8))\n",
    "    plt.title(\"ROC Curve for Different Models\")\n",
    "    for model_name, model in models.items():\n",
    "        if hasattr(model, \"predict_proba\"):\n",
    "            y_score = model.predict_proba(X_test)[:, 1]\n",
    "        elif hasattr(model, \"decision_function\"):\n",
    "            y_score = model.decision_function(X_test)\n",
    "\n",
    "        fpr, tpr, _ = roc_curve(y_test, y_score)\n",
    "        auc = round(roc_auc_score(y_test, y_score), 4)\n",
    "        plt.plot(fpr, tpr, label=f\"{model_name}, AUC={auc}\")\n",
    "    plt.legend()\n"
   ]
  },
  {
   "cell_type": "markdown",
   "metadata": {},
   "source": [
    "### bag of words"
   ]
  },
  {
   "cell_type": "code",
   "execution_count": 69,
   "metadata": {},
   "outputs": [],
   "source": [
    "bow_preprocessor = ColumnTransformer(\n",
    "    transformers=[\n",
    "        ('num', StandardScaler(), numeric_features),\n",
    "        ('text', CountVectorizer(max_df=0.8), text_feature)])"
   ]
  },
  {
   "cell_type": "code",
   "execution_count": 70,
   "metadata": {},
   "outputs": [],
   "source": [
    "X_train_bow = bow_preprocessor.fit_transform(X_train)\n",
    "X_test_bow = bow_preprocessor.transform(X_test)"
   ]
  },
  {
   "cell_type": "code",
   "execution_count": 10,
   "metadata": {},
   "outputs": [],
   "source": [
    "bow_models_to_test = {\n",
    "    'LinearSVC': Pipeline(steps=[('classifier', LinearSVC())]),\n",
    "    'LogisticRegression': Pipeline(steps=[('classifier', LogisticRegression())]),\n",
    "    'LGBMClassifier': Pipeline(steps=[('classifier', LGBMClassifier())]),\n",
    "    'XGBClassifier': Pipeline(steps=[('classifier', XGBClassifier())]),\n",
    "    'RandomForestClassifier': Pipeline(steps=[('classifier', RandomForestClassifier(n_estimators=10, random_state=42, n_jobs=-1))]),\n",
    "    'AdaBoostClassifier':  Pipeline(steps=[('classifier', AdaBoostClassifier(n_estimators=10))]),\n",
    "    'RidgeClassifier':  Pipeline(steps=[('classifier', RidgeClassifier())])\n",
    "}"
   ]
  },
  {
   "cell_type": "code",
   "execution_count": 12,
   "metadata": {},
   "outputs": [
    {
     "name": "stdout",
     "output_type": "stream",
     "text": [
      "[LightGBM] [Info] Number of positive: 119507, number of negative: 386105\n",
      "[LightGBM] [Info] Auto-choosing row-wise multi-threading, the overhead of testing was 12.455954 seconds.\n",
      "You can set `force_row_wise=true` to remove the overhead.\n",
      "And if memory is not enough, you can set `force_col_wise=true`.\n",
      "[LightGBM] [Info] Total Bins 23811\n",
      "[LightGBM] [Info] Number of data points in the train set: 505612, number of used features: 9847\n",
      "[LightGBM] [Info] [binary:BoostFromScore]: pavg=0.236361 -> initscore=-1.172734\n",
      "[LightGBM] [Info] Start training from score -1.172734\n",
      "LINEARSVC\n",
      "==================================\n",
      "Model Performance for Test Set:\n",
      "- Accuracy: 0.8245\n",
      "- F1 Score: 0.8141\n",
      "- Precision: 0.8130\n",
      "- Recall: 0.8245\n",
      "- ROC AUC Score: 0.8371\n",
      "==================================\n",
      "\n",
      "\n",
      "LOGISTICREGRESSION\n",
      "==================================\n",
      "Model Performance for Test Set:\n",
      "- Accuracy: 0.8319\n",
      "- F1 Score: 0.8209\n",
      "- Precision: 0.8212\n",
      "- Recall: 0.8319\n",
      "- ROC AUC Score: 0.8515\n",
      "==================================\n",
      "\n",
      "\n",
      "LGBMCLASSIFIER\n",
      "==================================\n",
      "Model Performance for Test Set:\n",
      "- Accuracy: 0.8176\n",
      "- F1 Score: 0.7959\n",
      "- Precision: 0.8046\n",
      "- Recall: 0.8176\n",
      "- ROC AUC Score: 0.8306\n",
      "==================================\n",
      "\n",
      "\n",
      "XGBCLASSIFIER\n",
      "==================================\n",
      "Model Performance for Test Set:\n",
      "- Accuracy: 0.8163\n",
      "- F1 Score: 0.7934\n",
      "- Precision: 0.8033\n",
      "- Recall: 0.8163\n",
      "- ROC AUC Score: 0.8279\n",
      "==================================\n",
      "\n",
      "\n",
      "RANDOMFORESTCLASSIFIER\n",
      "==================================\n",
      "Model Performance for Test Set:\n",
      "- Accuracy: 0.8194\n",
      "- F1 Score: 0.8053\n",
      "- Precision: 0.8061\n",
      "- Recall: 0.8194\n",
      "- ROC AUC Score: 0.8147\n",
      "==================================\n",
      "\n",
      "\n",
      "ADABOOSTCLASSIFIER\n",
      "==================================\n",
      "Model Performance for Test Set:\n",
      "- Accuracy: 0.7813\n",
      "- F1 Score: 0.7669\n",
      "- Precision: 0.7620\n",
      "- Recall: 0.7813\n",
      "- ROC AUC Score: 0.7427\n",
      "==================================\n",
      "\n",
      "\n",
      "RIDGECLASSIFIER\n",
      "==================================\n",
      "Model Performance for Test Set:\n",
      "- Accuracy: 0.8185\n",
      "- F1 Score: 0.8002\n",
      "- Precision: 0.8049\n",
      "- Recall: 0.8185\n",
      "- ROC AUC Score: 0.8306\n",
      "==================================\n",
      "\n",
      "\n"
     ]
    }
   ],
   "source": [
    "reports = model_classification_reports(bow_models_to_test, X_train_bow, y_train, X_test_bow, y_test)\n",
    "print_classification_reports(reports)"
   ]
  },
  {
   "cell_type": "code",
   "execution_count": 16,
   "metadata": {},
   "outputs": [
    {
     "data": {
      "image/png": "[encoded data removed]",
      "text/plain": [
       "<Figure size 576x576 with 1 Axes>"
      ]
     },
     "metadata": {
      "needs_background": "light"
     },
     "output_type": "display_data"
    }
   ],
   "source": [
    "roc_curve_plot(bow_models_to_test, X_train_bow, y_train, X_test_bow, y_test)"
   ]
  },
  {
   "cell_type": "markdown",
   "metadata": {},
   "source": [
    "### Bayes optimization for Logistic Regression"
   ]
  },
  {
   "cell_type": "code",
   "execution_count": 72,
   "metadata": {},
   "outputs": [
    {
     "name": "stdout",
     "output_type": "stream",
     "text": [
      "Best parameters found:  OrderedDict([('C', 1.3746626277890919), ('solver', 'saga')])\n",
      "Best score found:  0.8528573664753015\n"
     ]
    }
   ],
   "source": [
    "param_space = {\n",
    "    'C': Real(1e-5, 100.0, prior='log-uniform'),\n",
    "    'solver': Categorical(['newton-cg', 'lbfgs', 'liblinear', 'sag', 'saga'])\n",
    "}\n",
    "\n",
    "bow_lr_model = LogisticRegression()\n",
    "\n",
    "opt = BayesSearchCV(bow_lr_model,\n",
    "                     param_space,\n",
    "                     n_iter=20,\n",
    "                     cv=5,\n",
    "                     random_state=42,\n",
    "                     scoring='roc_auc',\n",
    "                     n_jobs=-1)\n",
    "opt.fit(X_train_bow, y_train)\n",
    "\n",
    "print(\"Best parameters found: \", opt.best_params_)\n",
    "print(\"Best score found: \", opt.best_score_)"
   ]
  },
  {
   "cell_type": "code",
   "execution_count": 73,
   "metadata": {},
   "outputs": [
    {
     "name": "stdout",
     "output_type": "stream",
     "text": [
      "Test score:  0.8543386824337968\n"
     ]
    }
   ],
   "source": [
    "test_score = opt.score(X_test_bow, y_test)\n",
    "print(\"Test score: \", test_score)"
   ]
  },
  {
   "cell_type": "code",
   "execution_count": 74,
   "metadata": {},
   "outputs": [
    {
     "name": "stdout",
     "output_type": "stream",
     "text": [
      "Best ROC AUC: 0.8543386824337968\n"
     ]
    }
   ],
   "source": [
    "best_bow_lr_estimator = opt.best_estimator_\n",
    "y_pred_proba = best_bow_lr_estimator.predict_proba(X_test_bow)[:, 1]\n",
    "\n",
    "roc_auc = roc_auc_score(y_test, y_pred_proba)\n",
    "print(\"Best ROC AUC:\", roc_auc)"
   ]
  },
  {
   "cell_type": "code",
   "execution_count": 75,
   "metadata": {},
   "outputs": [
    {
     "name": "stdout",
     "output_type": "stream",
     "text": [
      "              precision    recall  f1-score   support\n",
      "\n",
      "           0       0.85      0.94      0.90    165374\n",
      "           1       0.72      0.48      0.58     51245\n",
      "\n",
      "    accuracy                           0.83    216619\n",
      "   macro avg       0.79      0.71      0.74    216619\n",
      "weighted avg       0.82      0.83      0.82    216619\n",
      "\n"
     ]
    }
   ],
   "source": [
    "print(classification_report(y_test, best_bow_lr_estimator.predict(X_test_bow)))"
   ]
  },
  {
   "cell_type": "code",
   "execution_count": 76,
   "metadata": {},
   "outputs": [
    {
     "data": {
      "image/png": "[encoded data removed]",
      "text/plain": [
       "<Figure size 576x432 with 1 Axes>"
      ]
     },
     "metadata": {
      "needs_background": "light"
     },
     "output_type": "display_data"
    }
   ],
   "source": [
    "bow_lr_y_pred = best_bow_lr_estimator.predict(X_test_bow)\n",
    "cm = confusion_matrix(y_test, bow_lr_y_pred)\n",
    "\n",
    "plt.figure(figsize=(8, 6))\n",
    "sns.heatmap(cm, annot=True, fmt=\"d\", cmap=\"Blues\", cbar=False)\n",
    "plt.xlabel(\"Predicted labels\")\n",
    "plt.ylabel(\"True labels\")\n",
    "plt.title(\"Confusion Matrix - Test Data\")\n",
    "plt.show()"
   ]
  },
  {
   "cell_type": "code",
   "execution_count": 77,
   "metadata": {},
   "outputs": [
    {
     "name": "stdout",
     "output_type": "stream",
     "text": [
      "Best parameters:\n",
      "C: 1.3746626277890919\n",
      "solver: saga\n"
     ]
    }
   ],
   "source": [
    "bow_lr_best_params = opt.best_params_\n",
    "print(\"Best parameters:\")\n",
    "for param, value in bow_lr_best_params.items():\n",
    "    print(f\"{param}: {value}\")"
   ]
  },
  {
   "cell_type": "markdown",
   "metadata": {},
   "source": [
    "### Random Search for LGBM Classifier"
   ]
  },
  {
   "cell_type": "code",
   "execution_count": 86,
   "metadata": {},
   "outputs": [],
   "source": [
    "param_distributions = {\n",
    "    'learning_rate': [0.01, 0.05, 0.1],\n",
    "    'n_estimators': [50, 100, 200],\n",
    "    'max_depth': [3, 5, 7],\n",
    "    'min_child_samples': [10, 20, 30],\n",
    "    'subsample': [0.8, 0.9, 1.0],\n",
    "    'colsample_bytree': [0.8, 0.9, 1.0]\n",
    "}\n",
    "\n",
    "bow_lgbm_model=LGBMClassifier()\n",
    "\n",
    "bow_lgbm_random_search = RandomizedSearchCV(bow_lgbm_model, param_distributions, n_iter=10, cv=5, scoring='roc_auc', random_state=42, verbose=0)\n",
    "bow_lgbm_random_search.fit(X_train_bow, y_train)"
   ]
  },
  {
   "cell_type": "code",
   "execution_count": 52,
   "metadata": {},
   "outputs": [
    {
     "name": "stdout",
     "output_type": "stream",
     "text": [
      "[LightGBM] [Warning] Accuracy may be bad since you didn't explicitly set num_leaves OR 2^max_depth > num_leaves. (num_leaves=31).\n",
      "[LightGBM] [Warning] Accuracy may be bad since you didn't explicitly set num_leaves OR 2^max_depth > num_leaves. (num_leaves=31).\n",
      "[LightGBM] [Info] Number of positive: 119507, number of negative: 386105\n",
      "[LightGBM] [Info] Auto-choosing row-wise multi-threading, the overhead of testing was 11.843493 seconds.\n",
      "You can set `force_row_wise=true` to remove the overhead.\n",
      "And if memory is not enough, you can set `force_col_wise=true`.\n",
      "[LightGBM] [Info] Total Bins 18265\n",
      "[LightGBM] [Info] Number of data points in the train set: 505612, number of used features: 7200\n",
      "[LightGBM] [Info] [binary:BoostFromScore]: pavg=0.236361 -> initscore=-1.172734\n",
      "[LightGBM] [Info] Start training from score -1.172734\n",
      "[LightGBM] [Warning] No further splits with positive gain, best gain: -inf\n",
      "[LightGBM] [Warning] No further splits with positive gain, best gain: -inf\n",
      "[LightGBM] [Warning] No further splits with positive gain, best gain: -inf\n",
      "[LightGBM] [Warning] No further splits with positive gain, best gain: -inf\n",
      "[LightGBM] [Warning] No further splits with positive gain, best gain: -inf\n",
      "[LightGBM] [Warning] No further splits with positive gain, best gain: -inf\n",
      "[LightGBM] [Warning] No further splits with positive gain, best gain: -inf\n",
      "[LightGBM] [Warning] No further splits with positive gain, best gain: -inf\n",
      "[LightGBM] [Warning] No further splits with positive gain, best gain: -inf\n",
      "[LightGBM] [Warning] No further splits with positive gain, best gain: -inf\n",
      "[LightGBM] [Warning] No further splits with positive gain, best gain: -inf\n",
      "[LightGBM] [Warning] No further splits with positive gain, best gain: -inf\n",
      "[LightGBM] [Warning] No further splits with positive gain, best gain: -inf\n",
      "[LightGBM] [Warning] No further splits with positive gain, best gain: -inf\n",
      "[LightGBM] [Warning] No further splits with positive gain, best gain: -inf\n",
      "[LightGBM] [Warning] No further splits with positive gain, best gain: -inf\n",
      "[LightGBM] [Warning] No further splits with positive gain, best gain: -inf\n",
      "[LightGBM] [Warning] No further splits with positive gain, best gain: -inf\n",
      "[LightGBM] [Warning] No further splits with positive gain, best gain: -inf\n",
      "[LightGBM] [Warning] No further splits with positive gain, best gain: -inf\n",
      "[LightGBM] [Warning] No further splits with positive gain, best gain: -inf\n",
      "[LightGBM] [Warning] No further splits with positive gain, best gain: -inf\n",
      "[LightGBM] [Warning] No further splits with positive gain, best gain: -inf\n",
      "[LightGBM] [Warning] No further splits with positive gain, best gain: -inf\n",
      "[LightGBM] [Warning] No further splits with positive gain, best gain: -inf\n",
      "[LightGBM] [Warning] No further splits with positive gain, best gain: -inf\n",
      "[LightGBM] [Warning] No further splits with positive gain, best gain: -inf\n",
      "[LightGBM] [Warning] No further splits with positive gain, best gain: -inf\n",
      "[LightGBM] [Warning] No further splits with positive gain, best gain: -inf\n",
      "[LightGBM] [Warning] No further splits with positive gain, best gain: -inf\n",
      "[LightGBM] [Warning] No further splits with positive gain, best gain: -inf\n",
      "[LightGBM] [Warning] No further splits with positive gain, best gain: -inf\n",
      "[LightGBM] [Warning] No further splits with positive gain, best gain: -inf\n",
      "[LightGBM] [Warning] No further splits with positive gain, best gain: -inf\n",
      "[LightGBM] [Warning] No further splits with positive gain, best gain: -inf\n",
      "[LightGBM] [Warning] No further splits with positive gain, best gain: -inf\n",
      "[LightGBM] [Warning] No further splits with positive gain, best gain: -inf\n",
      "[LightGBM] [Warning] No further splits with positive gain, best gain: -inf\n",
      "[LightGBM] [Warning] No further splits with positive gain, best gain: -inf\n",
      "[LightGBM] [Warning] No further splits with positive gain, best gain: -inf\n",
      "[LightGBM] [Warning] No further splits with positive gain, best gain: -inf\n",
      "[LightGBM] [Warning] No further splits with positive gain, best gain: -inf\n",
      "[LightGBM] [Warning] No further splits with positive gain, best gain: -inf\n",
      "[LightGBM] [Warning] No further splits with positive gain, best gain: -inf\n",
      "[LightGBM] [Warning] No further splits with positive gain, best gain: -inf\n",
      "[LightGBM] [Warning] No further splits with positive gain, best gain: -inf\n",
      "[LightGBM] [Warning] No further splits with positive gain, best gain: -inf\n",
      "[LightGBM] [Warning] No further splits with positive gain, best gain: -inf\n",
      "[LightGBM] [Warning] No further splits with positive gain, best gain: -inf\n",
      "[LightGBM] [Warning] No further splits with positive gain, best gain: -inf\n",
      "[LightGBM] [Warning] No further splits with positive gain, best gain: -inf\n",
      "[LightGBM] [Warning] No further splits with positive gain, best gain: -inf\n",
      "[LightGBM] [Warning] No further splits with positive gain, best gain: -inf\n",
      "[LightGBM] [Warning] No further splits with positive gain, best gain: -inf\n",
      "[LightGBM] [Warning] No further splits with positive gain, best gain: -inf\n",
      "[LightGBM] [Warning] No further splits with positive gain, best gain: -inf\n",
      "[LightGBM] [Warning] No further splits with positive gain, best gain: -inf\n",
      "[LightGBM] [Warning] No further splits with positive gain, best gain: -inf\n",
      "[LightGBM] [Warning] No further splits with positive gain, best gain: -inf\n",
      "[LightGBM] [Warning] No further splits with positive gain, best gain: -inf\n",
      "[LightGBM] [Warning] No further splits with positive gain, best gain: -inf\n",
      "[LightGBM] [Warning] No further splits with positive gain, best gain: -inf\n",
      "[LightGBM] [Warning] No further splits with positive gain, best gain: -inf\n",
      "[LightGBM] [Warning] No further splits with positive gain, best gain: -inf\n",
      "[LightGBM] [Warning] No further splits with positive gain, best gain: -inf\n",
      "[LightGBM] [Warning] No further splits with positive gain, best gain: -inf\n",
      "[LightGBM] [Warning] No further splits with positive gain, best gain: -inf\n",
      "[LightGBM] [Warning] No further splits with positive gain, best gain: -inf\n",
      "[LightGBM] [Warning] No further splits with positive gain, best gain: -inf\n",
      "[LightGBM] [Warning] No further splits with positive gain, best gain: -inf\n",
      "[LightGBM] [Warning] No further splits with positive gain, best gain: -inf\n",
      "[LightGBM] [Warning] No further splits with positive gain, best gain: -inf\n",
      "[LightGBM] [Warning] No further splits with positive gain, best gain: -inf\n",
      "[LightGBM] [Warning] No further splits with positive gain, best gain: -inf\n",
      "[LightGBM] [Warning] No further splits with positive gain, best gain: -inf\n",
      "[LightGBM] [Warning] No further splits with positive gain, best gain: -inf\n",
      "[LightGBM] [Warning] No further splits with positive gain, best gain: -inf\n",
      "[LightGBM] [Warning] No further splits with positive gain, best gain: -inf\n",
      "[LightGBM] [Warning] No further splits with positive gain, best gain: -inf\n",
      "[LightGBM] [Warning] No further splits with positive gain, best gain: -inf\n",
      "[LightGBM] [Warning] No further splits with positive gain, best gain: -inf\n",
      "[LightGBM] [Warning] No further splits with positive gain, best gain: -inf\n",
      "[LightGBM] [Warning] No further splits with positive gain, best gain: -inf\n",
      "[LightGBM] [Warning] No further splits with positive gain, best gain: -inf\n",
      "[LightGBM] [Warning] No further splits with positive gain, best gain: -inf\n",
      "[LightGBM] [Warning] No further splits with positive gain, best gain: -inf\n",
      "[LightGBM] [Warning] No further splits with positive gain, best gain: -inf\n",
      "[LightGBM] [Warning] No further splits with positive gain, best gain: -inf\n",
      "[LightGBM] [Warning] No further splits with positive gain, best gain: -inf\n",
      "[LightGBM] [Warning] No further splits with positive gain, best gain: -inf\n",
      "[LightGBM] [Warning] No further splits with positive gain, best gain: -inf\n",
      "[LightGBM] [Warning] No further splits with positive gain, best gain: -inf\n",
      "[LightGBM] [Warning] No further splits with positive gain, best gain: -inf\n",
      "[LightGBM] [Warning] No further splits with positive gain, best gain: -inf\n",
      "[LightGBM] [Warning] No further splits with positive gain, best gain: -inf\n",
      "[LightGBM] [Warning] No further splits with positive gain, best gain: -inf\n",
      "[LightGBM] [Warning] No further splits with positive gain, best gain: -inf\n",
      "[LightGBM] [Warning] No further splits with positive gain, best gain: -inf\n",
      "[LightGBM] [Warning] No further splits with positive gain, best gain: -inf\n",
      "[LightGBM] [Warning] No further splits with positive gain, best gain: -inf\n",
      "[LightGBM] [Warning] No further splits with positive gain, best gain: -inf\n",
      "[LightGBM] [Warning] No further splits with positive gain, best gain: -inf\n",
      "[LightGBM] [Warning] No further splits with positive gain, best gain: -inf\n",
      "[LightGBM] [Warning] No further splits with positive gain, best gain: -inf\n",
      "[LightGBM] [Warning] No further splits with positive gain, best gain: -inf\n",
      "[LightGBM] [Warning] No further splits with positive gain, best gain: -inf\n",
      "[LightGBM] [Warning] No further splits with positive gain, best gain: -inf\n",
      "[LightGBM] [Warning] No further splits with positive gain, best gain: -inf\n",
      "[LightGBM] [Warning] No further splits with positive gain, best gain: -inf\n",
      "[LightGBM] [Warning] No further splits with positive gain, best gain: -inf\n",
      "[LightGBM] [Warning] No further splits with positive gain, best gain: -inf\n",
      "[LightGBM] [Warning] No further splits with positive gain, best gain: -inf\n",
      "[LightGBM] [Warning] No further splits with positive gain, best gain: -inf\n",
      "[LightGBM] [Warning] No further splits with positive gain, best gain: -inf\n",
      "[LightGBM] [Warning] No further splits with positive gain, best gain: -inf\n",
      "[LightGBM] [Warning] No further splits with positive gain, best gain: -inf\n",
      "[LightGBM] [Warning] No further splits with positive gain, best gain: -inf\n",
      "[LightGBM] [Warning] No further splits with positive gain, best gain: -inf\n",
      "[LightGBM] [Warning] No further splits with positive gain, best gain: -inf\n",
      "[LightGBM] [Warning] No further splits with positive gain, best gain: -inf\n",
      "[LightGBM] [Warning] No further splits with positive gain, best gain: -inf\n",
      "[LightGBM] [Warning] No further splits with positive gain, best gain: -inf\n",
      "[LightGBM] [Warning] No further splits with positive gain, best gain: -inf\n",
      "[LightGBM] [Warning] No further splits with positive gain, best gain: -inf\n",
      "[LightGBM] [Warning] No further splits with positive gain, best gain: -inf\n",
      "[LightGBM] [Warning] No further splits with positive gain, best gain: -inf\n",
      "[LightGBM] [Warning] No further splits with positive gain, best gain: -inf\n",
      "[LightGBM] [Warning] No further splits with positive gain, best gain: -inf\n",
      "[LightGBM] [Warning] No further splits with positive gain, best gain: -inf\n",
      "[LightGBM] [Warning] No further splits with positive gain, best gain: -inf\n",
      "[LightGBM] [Warning] No further splits with positive gain, best gain: -inf\n",
      "[LightGBM] [Warning] No further splits with positive gain, best gain: -inf\n",
      "[LightGBM] [Warning] No further splits with positive gain, best gain: -inf\n",
      "[LightGBM] [Warning] No further splits with positive gain, best gain: -inf\n",
      "[LightGBM] [Warning] No further splits with positive gain, best gain: -inf\n",
      "[LightGBM] [Warning] No further splits with positive gain, best gain: -inf\n",
      "[LightGBM] [Warning] No further splits with positive gain, best gain: -inf\n",
      "[LightGBM] [Warning] No further splits with positive gain, best gain: -inf\n",
      "[LightGBM] [Warning] No further splits with positive gain, best gain: -inf\n",
      "[LightGBM] [Warning] No further splits with positive gain, best gain: -inf\n",
      "[LightGBM] [Warning] No further splits with positive gain, best gain: -inf\n",
      "[LightGBM] [Warning] No further splits with positive gain, best gain: -inf\n",
      "[LightGBM] [Warning] No further splits with positive gain, best gain: -inf\n",
      "[LightGBM] [Warning] No further splits with positive gain, best gain: -inf\n",
      "[LightGBM] [Warning] No further splits with positive gain, best gain: -inf\n",
      "[LightGBM] [Warning] No further splits with positive gain, best gain: -inf\n",
      "[LightGBM] [Warning] No further splits with positive gain, best gain: -inf\n",
      "[LightGBM] [Warning] No further splits with positive gain, best gain: -inf\n",
      "[LightGBM] [Warning] No further splits with positive gain, best gain: -inf\n",
      "[LightGBM] [Warning] No further splits with positive gain, best gain: -inf\n",
      "[LightGBM] [Warning] No further splits with positive gain, best gain: -inf\n",
      "[LightGBM] [Warning] No further splits with positive gain, best gain: -inf\n",
      "[LightGBM] [Warning] No further splits with positive gain, best gain: -inf\n",
      "[LightGBM] [Warning] No further splits with positive gain, best gain: -inf\n",
      "[LightGBM] [Warning] No further splits with positive gain, best gain: -inf\n",
      "[LightGBM] [Warning] No further splits with positive gain, best gain: -inf\n",
      "[LightGBM] [Warning] No further splits with positive gain, best gain: -inf\n",
      "[LightGBM] [Warning] No further splits with positive gain, best gain: -inf\n",
      "[LightGBM] [Warning] No further splits with positive gain, best gain: -inf\n",
      "[LightGBM] [Warning] No further splits with positive gain, best gain: -inf\n",
      "[LightGBM] [Warning] No further splits with positive gain, best gain: -inf\n",
      "[LightGBM] [Warning] No further splits with positive gain, best gain: -inf\n",
      "[LightGBM] [Warning] No further splits with positive gain, best gain: -inf\n",
      "[LightGBM] [Warning] No further splits with positive gain, best gain: -inf\n",
      "[LightGBM] [Warning] No further splits with positive gain, best gain: -inf\n",
      "[LightGBM] [Warning] No further splits with positive gain, best gain: -inf\n",
      "[LightGBM] [Warning] No further splits with positive gain, best gain: -inf\n",
      "[LightGBM] [Warning] No further splits with positive gain, best gain: -inf\n",
      "[LightGBM] [Warning] No further splits with positive gain, best gain: -inf\n",
      "[LightGBM] [Warning] No further splits with positive gain, best gain: -inf\n",
      "[LightGBM] [Warning] No further splits with positive gain, best gain: -inf\n",
      "[LightGBM] [Warning] No further splits with positive gain, best gain: -inf\n",
      "[LightGBM] [Warning] No further splits with positive gain, best gain: -inf\n",
      "[LightGBM] [Warning] No further splits with positive gain, best gain: -inf\n",
      "[LightGBM] [Warning] No further splits with positive gain, best gain: -inf\n",
      "[LightGBM] [Warning] No further splits with positive gain, best gain: -inf\n",
      "[LightGBM] [Warning] Accuracy may be bad since you didn't explicitly set num_leaves OR 2^max_depth > num_leaves. (num_leaves=31).\n",
      "Test score:  0.8050955825666262\n"
     ]
    }
   ],
   "source": [
    "best_params = {'subsample': 0.9, 'n_estimators': 200, 'min_child_samples': 30, 'max_depth': 5, 'learning_rate': 0.05, 'colsample_bytree': 0.8}\n",
    "\n",
    "bow_lgbm_model = LGBMClassifier(**best_params, verbose=0)\n",
    "bow_lgbm_model.fit(X_train_bow, y_train)\n",
    "\n",
    "test_score = bow_lgbm_model.score(X_test_bow, y_test)\n",
    "print(\"Test score: \", test_score)"
   ]
  },
  {
   "cell_type": "code",
   "execution_count": 53,
   "metadata": {},
   "outputs": [
    {
     "name": "stdout",
     "output_type": "stream",
     "text": [
      "[LightGBM] [Warning] Accuracy may be bad since you didn't explicitly set num_leaves OR 2^max_depth > num_leaves. (num_leaves=31).\n",
      "Best ROC AUC: 0.8023997806959556\n"
     ]
    }
   ],
   "source": [
    "y_pred_proba = bow_lgbm_model.predict_proba(X_test_bow)[:, 1]\n",
    "\n",
    "roc_auc = roc_auc_score(y_test, y_pred_proba)\n",
    "print(\"Best ROC AUC:\", roc_auc)"
   ]
  },
  {
   "cell_type": "code",
   "execution_count": 54,
   "metadata": {},
   "outputs": [
    {
     "name": "stdout",
     "output_type": "stream",
     "text": [
      "[LightGBM] [Warning] Accuracy may be bad since you didn't explicitly set num_leaves OR 2^max_depth > num_leaves. (num_leaves=31).\n",
      "              precision    recall  f1-score   support\n",
      "\n",
      "           0       0.81      0.96      0.88    165374\n",
      "           1       0.72      0.29      0.41     51245\n",
      "\n",
      "    accuracy                           0.81    216619\n",
      "   macro avg       0.77      0.63      0.65    216619\n",
      "weighted avg       0.79      0.81      0.77    216619\n",
      "\n"
     ]
    }
   ],
   "source": [
    "print(classification_report(y_test,bow_lgbm_model.predict(X_test_bow)))"
   ]
  },
  {
   "cell_type": "code",
   "execution_count": 56,
   "metadata": {},
   "outputs": [
    {
     "name": "stdout",
     "output_type": "stream",
     "text": [
      "[LightGBM] [Warning] Accuracy may be bad since you didn't explicitly set num_leaves OR 2^max_depth > num_leaves. (num_leaves=31).\n"
     ]
    },
    {
     "data": {
      "image/png": "[encoded data removed]",
      "text/plain": [
       "<Figure size 576x432 with 1 Axes>"
      ]
     },
     "metadata": {
      "needs_background": "light"
     },
     "output_type": "display_data"
    }
   ],
   "source": [
    "bow_lgbm_y_pred = bow_lgbm_model.predict(X_test_bow)\n",
    "cm = confusion_matrix(y_test, bow_lgbm_y_pred)\n",
    "\n",
    "plt.figure(figsize=(8, 6))\n",
    "sns.heatmap(cm, annot=True, fmt=\"d\", cmap=\"Blues\", cbar=False)\n",
    "plt.xlabel(\"Predicted labels\")\n",
    "plt.ylabel(\"True labels\")\n",
    "plt.title(\"Confusion Matrix - Test Data\")\n",
    "plt.show()"
   ]
  },
  {
   "cell_type": "code",
   "execution_count": 55,
   "metadata": {},
   "outputs": [
    {
     "name": "stdout",
     "output_type": "stream",
     "text": [
      "Best parameters:\n",
      "{'boosting_type': 'gbdt', 'class_weight': None, 'colsample_bytree': 0.8, 'importance_type': 'split', 'learning_rate': 0.05, 'max_depth': 5, 'min_child_samples': 30, 'min_child_weight': 0.001, 'min_split_gain': 0.0, 'n_estimators': 200, 'n_jobs': None, 'num_leaves': 31, 'objective': None, 'random_state': None, 'reg_alpha': 0.0, 'reg_lambda': 0.0, 'subsample': 0.9, 'subsample_for_bin': 200000, 'subsample_freq': 0}\n"
     ]
    }
   ],
   "source": [
    "bow_lgbm_best_params = bow_lgbm_model.get_params()\n",
    "print(\"Best parameters:\")\n",
    "print(bow_lgbm_best_params)"
   ]
  },
  {
   "cell_type": "code",
   "execution_count": 84,
   "metadata": {},
   "outputs": [],
   "source": [
    "best_models = [\n",
    "    bow_lgbm_model,\n",
    "    best_bow_lr_estimator\n",
    "]"
   ]
  },
  {
   "cell_type": "code",
   "execution_count": 85,
   "metadata": {},
   "outputs": [
    {
     "name": "stdout",
     "output_type": "stream",
     "text": [
      "Saving model: LGBMClassifier\n",
      "Saving model: LogisticRegression\n"
     ]
    }
   ],
   "source": [
    "os.makedirs('bow_best_models', exist_ok=True)\n",
    "\n",
    "for model in best_models:\n",
    "    model_name = model.__class__.__name__\n",
    "    print(f'Saving model: {model_name}')\n",
    "    model_dir = os.path.join('bow_best_models', model_name)\n",
    "    os.makedirs(model_dir, exist_ok=True)\n",
    "    model_path = os.path.join(model_dir, 'bow_best_models.joblib')\n",
    "    dump(model, model_path)"
   ]
  },
  {
   "cell_type": "markdown",
   "metadata": {},
   "source": [
    "### Tf-Idf trigrams models"
   ]
  },
  {
   "cell_type": "code",
   "execution_count": 8,
   "metadata": {},
   "outputs": [],
   "source": [
    "tfidf_preprocessor = ColumnTransformer(\n",
    "    transformers=[\n",
    "        ('num', StandardScaler(), numeric_features),\n",
    "        ('text', TfidfVectorizer(ngram_range=(1, 3)), text_feature)])"
   ]
  },
  {
   "cell_type": "code",
   "execution_count": 9,
   "metadata": {},
   "outputs": [],
   "source": [
    "X_train_tfidf = tfidf_preprocessor.fit_transform(X_train)\n",
    "X_test_tfidf = tfidf_preprocessor.transform(X_test)"
   ]
  },
  {
   "cell_type": "code",
   "execution_count": 80,
   "metadata": {},
   "outputs": [],
   "source": [
    "tfidf_models_to_test = {\n",
    "    'LinearSVC': Pipeline(steps=[('classifier', LinearSVC())]),\n",
    "    'LogisticRegression': Pipeline(steps=[('classifier', LogisticRegression())]),\n",
    "    'LGBMClassifier': Pipeline(steps=[('classifier', LGBMClassifier())]),\n",
    "    'RandomForestClassifier': Pipeline(steps=[('classifier', RandomForestClassifier(n_estimators=10, random_state=42, n_jobs=-1))]),\n",
    "    'AdaBoostClassifier':  Pipeline(steps=[('classifier', AdaBoostClassifier(n_estimators=10))]),\n",
    "    'RidgeClassifier':  Pipeline(steps=[('classifier', RidgeClassifier())]),\n",
    "    'GradientBoostingClassifier': Pipeline(steps=[('classifier', GradientBoostingClassifier(n_estimators=3, max_depth=3))])\n",
    "}"
   ]
  },
  {
   "cell_type": "code",
   "execution_count": 81,
   "metadata": {},
   "outputs": [
    {
     "name": "stdout",
     "output_type": "stream",
     "text": [
      "[LightGBM] [Info] Number of positive: 119507, number of negative: 386105\n",
      "[LightGBM] [Info] Auto-choosing col-wise multi-threading, the overhead of testing was 76.157083 seconds.\n",
      "You can set `force_col_wise=true` to remove the overhead.\n",
      "[LightGBM] [Info] Total Bins 409868\n",
      "[LightGBM] [Info] Number of data points in the train set: 505612, number of used features: 29111\n",
      "[LightGBM] [Info] [binary:BoostFromScore]: pavg=0.236361 -> initscore=-1.172734\n",
      "[LightGBM] [Info] Start training from score -1.172734\n",
      "LINEARSVC\n",
      "==================================\n",
      "Model Performance for Test Set:\n",
      "- Accuracy: 0.8417\n",
      "- F1 Score: 0.8347\n",
      "- Precision: 0.8335\n",
      "- Recall: 0.8417\n",
      "- ROC AUC Score: 0.8691\n",
      "==================================\n",
      "\n",
      "\n",
      "LOGISTICREGRESSION\n",
      "==================================\n",
      "Model Performance for Test Set:\n",
      "- Accuracy: 0.8419\n",
      "- F1 Score: 0.8331\n",
      "- Precision: 0.8331\n",
      "- Recall: 0.8419\n",
      "- ROC AUC Score: 0.8676\n",
      "==================================\n",
      "\n",
      "\n",
      "LGBMCLASSIFIER\n",
      "==================================\n",
      "Model Performance for Test Set:\n",
      "- Accuracy: 0.8198\n",
      "- F1 Score: 0.8007\n",
      "- Precision: 0.8069\n",
      "- Recall: 0.8198\n",
      "- ROC AUC Score: 0.8320\n",
      "==================================\n",
      "\n",
      "\n",
      "RANDOMFORESTCLASSIFIER\n",
      "==================================\n",
      "Model Performance for Test Set:\n",
      "- Accuracy: 0.8177\n",
      "- F1 Score: 0.7984\n",
      "- Precision: 0.8040\n",
      "- Recall: 0.8177\n",
      "- ROC AUC Score: 0.8112\n",
      "==================================\n",
      "\n",
      "\n",
      "ADABOOSTCLASSIFIER\n",
      "==================================\n",
      "Model Performance for Test Set:\n",
      "- Accuracy: 0.7813\n",
      "- F1 Score: 0.7669\n",
      "- Precision: 0.7620\n",
      "- Recall: 0.7813\n",
      "- ROC AUC Score: 0.7427\n",
      "==================================\n",
      "\n",
      "\n",
      "RIDGECLASSIFIER\n",
      "==================================\n",
      "Model Performance for Test Set:\n",
      "- Accuracy: 0.8394\n",
      "- F1 Score: 0.8297\n",
      "- Precision: 0.8301\n",
      "- Recall: 0.8394\n",
      "- ROC AUC Score: 0.8599\n",
      "==================================\n",
      "\n",
      "\n",
      "GRADIENTBOOSTINGCLASSIFIER\n",
      "==================================\n",
      "Model Performance for Test Set:\n",
      "- Accuracy: 0.7634\n",
      "- F1 Score: 0.6610\n",
      "- Precision: 0.5828\n",
      "- Recall: 0.7634\n",
      "- ROC AUC Score: 0.7228\n",
      "==================================\n",
      "\n",
      "\n"
     ]
    }
   ],
   "source": [
    "tfidf_reports = model_classification_reports(tfidf_models_to_test, X_train_tfidf, y_train, X_test_tfidf, y_test)\n",
    "print_classification_reports(tfidf_reports)"
   ]
  },
  {
   "cell_type": "code",
   "execution_count": 83,
   "metadata": {},
   "outputs": [
    {
     "data": {
      "image/png": "[encoded data removed]",
      "text/plain": [
       "<Figure size 576x576 with 1 Axes>"
      ]
     },
     "metadata": {
      "needs_background": "light"
     },
     "output_type": "display_data"
    }
   ],
   "source": [
    "roc_curve_plot(tfidf_models_to_test, X_train_tfidf, y_train, X_test_tfidf, y_test)"
   ]
  },
  {
   "cell_type": "markdown",
   "metadata": {},
   "source": [
    "### Linear SVC for TF-IDF"
   ]
  },
  {
   "cell_type": "code",
   "execution_count": 87,
   "metadata": {},
   "outputs": [
    {
     "data": {
      "text/plain": [
       "LinearSVC(class_weight='balanced')"
      ]
     },
     "execution_count": 87,
     "metadata": {},
     "output_type": "execute_result"
    }
   ],
   "source": [
    "l_SVC_trigrams=LinearSVC(class_weight='balanced')\n",
    "l_SVC_trigrams.fit(X_train_tfidf,y_train)"
   ]
  },
  {
   "cell_type": "code",
   "execution_count": 88,
   "metadata": {},
   "outputs": [
    {
     "data": {
      "text/html": [
       "<div>\n",
       "<style scoped>\n",
       "    .dataframe tbody tr th:only-of-type {\n",
       "        vertical-align: middle;\n",
       "    }\n",
       "\n",
       "    .dataframe tbody tr th {\n",
       "        vertical-align: top;\n",
       "    }\n",
       "\n",
       "    .dataframe thead th {\n",
       "        text-align: right;\n",
       "    }\n",
       "</style>\n",
       "<table border=\"1\" class=\"dataframe\">\n",
       "  <thead>\n",
       "    <tr style=\"text-align: right;\">\n",
       "      <th></th>\n",
       "      <th>precision</th>\n",
       "      <th>recall</th>\n",
       "      <th>f1-score</th>\n",
       "      <th>support</th>\n",
       "    </tr>\n",
       "  </thead>\n",
       "  <tbody>\n",
       "    <tr>\n",
       "      <th>0</th>\n",
       "      <td>0.894422</td>\n",
       "      <td>0.876347</td>\n",
       "      <td>0.885292</td>\n",
       "      <td>165374.000000</td>\n",
       "    </tr>\n",
       "    <tr>\n",
       "      <th>1</th>\n",
       "      <td>0.625387</td>\n",
       "      <td>0.666172</td>\n",
       "      <td>0.645136</td>\n",
       "      <td>51245.000000</td>\n",
       "    </tr>\n",
       "    <tr>\n",
       "      <th>accuracy</th>\n",
       "      <td>0.826626</td>\n",
       "      <td>0.826626</td>\n",
       "      <td>0.826626</td>\n",
       "      <td>0.826626</td>\n",
       "    </tr>\n",
       "    <tr>\n",
       "      <th>macro avg</th>\n",
       "      <td>0.759905</td>\n",
       "      <td>0.771260</td>\n",
       "      <td>0.765214</td>\n",
       "      <td>216619.000000</td>\n",
       "    </tr>\n",
       "    <tr>\n",
       "      <th>weighted avg</th>\n",
       "      <td>0.830777</td>\n",
       "      <td>0.826626</td>\n",
       "      <td>0.828479</td>\n",
       "      <td>216619.000000</td>\n",
       "    </tr>\n",
       "  </tbody>\n",
       "</table>\n",
       "</div>"
      ],
      "text/plain": [
       "              precision    recall  f1-score        support\n",
       "0              0.894422  0.876347  0.885292  165374.000000\n",
       "1              0.625387  0.666172  0.645136   51245.000000\n",
       "accuracy       0.826626  0.826626  0.826626       0.826626\n",
       "macro avg      0.759905  0.771260  0.765214  216619.000000\n",
       "weighted avg   0.830777  0.826626  0.828479  216619.000000"
      ]
     },
     "execution_count": 88,
     "metadata": {},
     "output_type": "execute_result"
    }
   ],
   "source": [
    "y_pred_trigrams_test = l_SVC_trigrams.predict(X_test_tfidf)\n",
    "report = classification_report(y_test, y_pred_trigrams_test, output_dict=True)\n",
    "\n",
    "report_df = pd.DataFrame(report).transpose()\n",
    "report_df"
   ]
  },
  {
   "cell_type": "markdown",
   "metadata": {},
   "source": [
    "### Bayes optimization for LinearSVC"
   ]
  },
  {
   "cell_type": "code",
   "execution_count": 46,
   "metadata": {},
   "outputs": [
    {
     "name": "stdout",
     "output_type": "stream",
     "text": [
      "Best parameters: OrderedDict([('C', 5.434076336596356), ('dual', False), ('max_iter', 1496), ('penalty', 'l2'), ('tol', 0.001)])\n",
      "Best ROC AUC: 0.8610376851300039\n"
     ]
    }
   ],
   "source": [
    "params = {\n",
    "    'C': Real(1e-4, 10.0),\n",
    "    'penalty': ['l1', 'l2'],\n",
    "    'tol': [1e-3, 1e-4, 1e-5],\n",
    "    'dual': [False],\n",
    "    'max_iter': [1000, 2000]\n",
    "}\n",
    "\n",
    "def custom_scoring_function(model, X, y):\n",
    "    y_score = model.decision_function(X)\n",
    "    return roc_auc_score(y, y_score)\n",
    "\n",
    "tfidf_lSVC_model=LinearSVC()\n",
    "\n",
    "opt = BayesSearchCV(\n",
    "    estimator=tfidf_lSVC_model,\n",
    "    search_spaces=params,\n",
    "    scoring=custom_scoring_function,\n",
    "    n_iter=10,\n",
    "    cv=StratifiedKFold(n_splits=5),\n",
    "    random_state=42,\n",
    "    n_jobs=-1\n",
    ")\n",
    "\n",
    "opt.fit(X_train_tfidf, y_train)\n",
    "print(\"Best parameters:\", opt.best_params_)\n",
    "print(\"Best ROC AUC:\", opt.best_score_)\n"
   ]
  },
  {
   "cell_type": "code",
   "execution_count": 47,
   "metadata": {},
   "outputs": [
    {
     "name": "stdout",
     "output_type": "stream",
     "text": [
      "Test score:  0.8589201770681871\n"
     ]
    }
   ],
   "source": [
    "test_score = opt.score(X_test_tfidf, y_test)\n",
    "print(\"Test score: \", test_score)"
   ]
  },
  {
   "cell_type": "code",
   "execution_count": 61,
   "metadata": {},
   "outputs": [],
   "source": [
    "best_tfidf_lSVC_estimator = opt.best_estimator_"
   ]
  },
  {
   "cell_type": "code",
   "execution_count": 50,
   "metadata": {},
   "outputs": [
    {
     "name": "stdout",
     "output_type": "stream",
     "text": [
      "              precision    recall  f1-score   support\n",
      "\n",
      "           0       0.87      0.92      0.89    165374\n",
      "           1       0.68      0.56      0.62     51245\n",
      "\n",
      "    accuracy                           0.83    216619\n",
      "   macro avg       0.77      0.74      0.75    216619\n",
      "weighted avg       0.83      0.83      0.83    216619\n",
      "\n"
     ]
    }
   ],
   "source": [
    "print(classification_report(y_test,best_tfidf_lSVC_estimator.predict(X_test_tfidf)))"
   ]
  },
  {
   "cell_type": "code",
   "execution_count": 51,
   "metadata": {},
   "outputs": [
    {
     "data": {
      "image/png": "[encoded data removed]",
      "text/plain": [
       "<Figure size 576x432 with 1 Axes>"
      ]
     },
     "metadata": {
      "needs_background": "light"
     },
     "output_type": "display_data"
    }
   ],
   "source": [
    "tfidf_lSVC_y_pred = best_tfidf_lSVC_estimator.predict(X_test_tfidf)\n",
    "cm = confusion_matrix(y_test, tfidf_lSVC_y_pred)\n",
    "\n",
    "plt.figure(figsize=(8, 6))\n",
    "sns.heatmap(cm, annot=True, fmt=\"d\", cmap=\"Blues\", cbar=False)\n",
    "plt.xlabel(\"Predicted labels\")\n",
    "plt.ylabel(\"True labels\")\n",
    "plt.title(\"Confusion Matrix - Training Data\")\n",
    "plt.show()"
   ]
  },
  {
   "cell_type": "code",
   "execution_count": 52,
   "metadata": {},
   "outputs": [
    {
     "name": "stdout",
     "output_type": "stream",
     "text": [
      "Best parameters:\n",
      "C: 5.434076336596356\n",
      "dual: False\n",
      "max_iter: 1496\n",
      "penalty: l2\n",
      "tol: 0.001\n"
     ]
    }
   ],
   "source": [
    "tfidf_lSVC_best_params = opt.best_params_\n",
    "print(\"Best parameters:\")\n",
    "for param, value in tfidf_lSVC_best_params.items():\n",
    "    print(f\"{param}: {value}\")"
   ]
  },
  {
   "cell_type": "markdown",
   "metadata": {},
   "source": [
    "### Logistic Regression for Tf-Idf"
   ]
  },
  {
   "cell_type": "code",
   "execution_count": 27,
   "metadata": {},
   "outputs": [
    {
     "name": "stdout",
     "output_type": "stream",
     "text": [
      "Best parameters found:  OrderedDict([('C', 3.1562246465541888), ('class_weight', None), ('solver', 'liblinear')])\n",
      "Best score found:  0.8722762300903115\n"
     ]
    }
   ],
   "source": [
    "param_space = {\n",
    "    'C': Real(1e-6, 100.0, prior='log-uniform'),\n",
    "    'solver': Categorical(['newton-cg', 'lbfgs', 'liblinear', 'sag', 'saga']),\n",
    "    'class_weight': Categorical([None, 'balanced'])\n",
    "}\n",
    "\n",
    "def custom_scorer(model, X, y):\n",
    "    y_pred_proba = model.predict_proba(X)[:, 1]\n",
    "    return roc_auc_score(y, y_pred_proba)\n",
    "\n",
    "tfidf_lr_model = LogisticRegression()\n",
    "\n",
    "opt = BayesSearchCV(tfidf_lr_model,\n",
    "                    param_space,\n",
    "                    n_iter=10,\n",
    "                    scoring=custom_scorer,\n",
    "                    cv=5,\n",
    "                    random_state=42,\n",
    "                    n_jobs=-1)\n",
    "\n",
    "opt.fit(X_train_tfidf, y_train)\n",
    "\n",
    "print(\"Best parameters found: \", opt.best_params_)\n",
    "print(\"Best score found: \", opt.best_score_)"
   ]
  },
  {
   "cell_type": "code",
   "execution_count": 29,
   "metadata": {},
   "outputs": [
    {
     "name": "stdout",
     "output_type": "stream",
     "text": [
      "Best ROC AUC: 0.8750114376321207\n"
     ]
    }
   ],
   "source": [
    "best_tfidf_lr_estimator = opt.best_estimator_\n",
    "y_pred_proba = best_tfidf_lr_estimator.predict_proba(X_test_tfidf)[:, 1]\n",
    "\n",
    "roc_auc = roc_auc_score(y_test, y_pred_proba)\n",
    "print(\"Best ROC AUC:\", roc_auc)"
   ]
  },
  {
   "cell_type": "code",
   "execution_count": 30,
   "metadata": {},
   "outputs": [
    {
     "name": "stdout",
     "output_type": "stream",
     "text": [
      "              precision    recall  f1-score   support\n",
      "\n",
      "           0       0.87      0.94      0.90    165374\n",
      "           1       0.73      0.55      0.63     51245\n",
      "\n",
      "    accuracy                           0.85    216619\n",
      "   macro avg       0.80      0.74      0.77    216619\n",
      "weighted avg       0.84      0.85      0.84    216619\n",
      "\n"
     ]
    }
   ],
   "source": [
    "print(classification_report(y_test, best_tfidf_lr_estimator.predict(X_test_tfidf)))"
   ]
  },
  {
   "cell_type": "code",
   "execution_count": 31,
   "metadata": {},
   "outputs": [
    {
     "data": {
      "image/png": "[encoded data removed]",
      "text/plain": [
       "<Figure size 576x432 with 1 Axes>"
      ]
     },
     "metadata": {
      "needs_background": "light"
     },
     "output_type": "display_data"
    }
   ],
   "source": [
    "tfidf_lr_y_pred = best_tfidf_lr_estimator.predict(X_test_tfidf)\n",
    "cm = confusion_matrix(y_test, tfidf_lr_y_pred)\n",
    "\n",
    "plt.figure(figsize=(8, 6))\n",
    "sns.heatmap(cm, annot=True, fmt=\"d\", cmap=\"Blues\", cbar=False)\n",
    "plt.xlabel(\"Predicted labels\")\n",
    "plt.ylabel(\"True labels\")\n",
    "plt.title(\"Confusion Matrix - Test Data\")\n",
    "plt.show()"
   ]
  },
  {
   "cell_type": "code",
   "execution_count": 32,
   "metadata": {},
   "outputs": [
    {
     "name": "stdout",
     "output_type": "stream",
     "text": [
      "Best parameters:\n",
      "C: 3.1562246465541888\n",
      "class_weight: None\n",
      "solver: liblinear\n"
     ]
    }
   ],
   "source": [
    "tfidf_lr_best_params = opt.best_params_\n",
    "print(\"Best parameters:\")\n",
    "for param, value in tfidf_lr_best_params.items():\n",
    "    print(f\"{param}: {value}\")"
   ]
  },
  {
   "cell_type": "markdown",
   "metadata": {},
   "source": [
    "### Ridge for Tf-Idf"
   ]
  },
  {
   "cell_type": "code",
   "execution_count": 36,
   "metadata": {},
   "outputs": [
    {
     "name": "stdout",
     "output_type": "stream",
     "text": [
      "Best parameters: OrderedDict([('alpha', 4.101098578137253), ('max_iter', 2000), ('solver', 'sag'), ('tol', 0.001)])\n",
      "Best ROC AUC: 0.859791428615335\n"
     ]
    }
   ],
   "source": [
    "params = {\n",
    "    'alpha': Real(1e-4, 10.0), \n",
    "    'solver': ['auto', 'sparse_cg', 'sag'],\n",
    "    'tol': [1e-3, 1e-4, 1e-5],\n",
    "    'max_iter': [1000, 1500, 2000]\n",
    "}\n",
    "opt = BayesSearchCV(\n",
    "    estimator=RidgeClassifier(),\n",
    "    search_spaces=params,\n",
    "    scoring='roc_auc',\n",
    "    n_iter=10,\n",
    "    cv=StratifiedKFold(n_splits=10),\n",
    "    random_state=42,\n",
    "    n_jobs=-1\n",
    ")\n",
    "\n",
    "opt.fit(X_train_tfidf, y_train)\n",
    "print(\"Best parameters:\", opt.best_params_)\n",
    "print(\"Best ROC AUC:\", opt.best_score_)"
   ]
  },
  {
   "cell_type": "code",
   "execution_count": 37,
   "metadata": {},
   "outputs": [
    {
     "name": "stdout",
     "output_type": "stream",
     "text": [
      "Best ROC AUC: 0.8619121088448374\n"
     ]
    }
   ],
   "source": [
    "best_tfidf_ridge_estimator = opt.best_estimator_\n",
    "y_scores = best_tfidf_ridge_estimator.decision_function(X_test_tfidf)\n",
    "\n",
    "roc_auc = roc_auc_score(y_test, y_scores)\n",
    "print(\"Best ROC AUC:\", roc_auc)"
   ]
  },
  {
   "cell_type": "code",
   "execution_count": 38,
   "metadata": {},
   "outputs": [
    {
     "name": "stdout",
     "output_type": "stream",
     "text": [
      "              precision    recall  f1-score   support\n",
      "\n",
      "           0       0.86      0.95      0.90    165374\n",
      "           1       0.75      0.48      0.59     51245\n",
      "\n",
      "    accuracy                           0.84    216619\n",
      "   macro avg       0.80      0.72      0.74    216619\n",
      "weighted avg       0.83      0.84      0.83    216619\n",
      "\n"
     ]
    }
   ],
   "source": [
    "print(classification_report(y_test,best_tfidf_ridge_estimator.predict(X_test_tfidf)))"
   ]
  },
  {
   "cell_type": "code",
   "execution_count": 39,
   "metadata": {},
   "outputs": [
    {
     "data": {
      "image/png": "[encoded data removed]",
      "text/plain": [
       "<Figure size 576x432 with 1 Axes>"
      ]
     },
     "metadata": {
      "needs_background": "light"
     },
     "output_type": "display_data"
    }
   ],
   "source": [
    "tfidf_ridge_y_pred = best_tfidf_ridge_estimator.predict(X_test_tfidf)\n",
    "cm = confusion_matrix(y_test, tfidf_ridge_y_pred)\n",
    "\n",
    "plt.figure(figsize=(8, 6))\n",
    "sns.heatmap(cm, annot=True, fmt=\"d\", cmap=\"Blues\", cbar=False)\n",
    "plt.xlabel(\"Predicted labels\")\n",
    "plt.ylabel(\"True labels\")\n",
    "plt.title(\"Confusion Matrix - Test Data\")\n",
    "plt.show()"
   ]
  },
  {
   "cell_type": "code",
   "execution_count": 40,
   "metadata": {},
   "outputs": [
    {
     "name": "stdout",
     "output_type": "stream",
     "text": [
      "Best parameters:\n",
      "alpha: 4.101098578137253\n",
      "max_iter: 2000\n",
      "solver: sag\n",
      "tol: 0.001\n"
     ]
    }
   ],
   "source": [
    "best_tfidf_ridge_params = opt.best_params_\n",
    "print(\"Best parameters:\")\n",
    "for param, value in best_tfidf_ridge_params.items():\n",
    "    print(f\"{param}: {value}\")"
   ]
  },
  {
   "cell_type": "markdown",
   "metadata": {},
   "source": [
    "### RandomSearch for LinearSVC"
   ]
  },
  {
   "cell_type": "code",
   "execution_count": 54,
   "metadata": {},
   "outputs": [
    {
     "name": "stderr",
     "output_type": "stream",
     "text": [
      "Random Grid Search:  20%|████████████▌                                                  | 1/5 [09:17<37:11, 557.91s/it]"
     ]
    },
    {
     "name": "stdout",
     "output_type": "stream",
     "text": [
      "Best ROC AUC score: 0.788498 using {'C': 0.311954562091293, 'dual': False, 'max_iter': 1000, 'penalty': 'l1', 'tol': 0.0001}\n"
     ]
    },
    {
     "name": "stderr",
     "output_type": "stream",
     "text": [
      "\n"
     ]
    }
   ],
   "source": [
    "param_grid = {\n",
    "    'C': reciprocal(0.1, 10),\n",
    "    'penalty': ['l1', 'l2'],\n",
    "    'dual': [False],\n",
    "    'tol': [1e-3, 1e-4],\n",
    "    'max_iter': [1000]\n",
    "}\n",
    "\n",
    "roc_auc_scorer = make_scorer(roc_auc_score, greater_is_better=True)\n",
    "\n",
    "random = RandomizedSearchCV(estimator=l_SVC_trigrams, param_distributions=param_grid,\n",
    "                            cv=3, n_jobs=-1, n_iter=5, scoring=roc_auc_scorer)\n",
    "\n",
    "with tqdm(total=5, desc=\"Random Grid Search\") as pbar:\n",
    "    random_result = random.fit(X_train_tfidf, y_train)\n",
    "    pbar.update(1)\n",
    "\n",
    "print(\"Best ROC AUC score: %f using %s\" % (random_result.best_score_, random_result.best_params_))"
   ]
  },
  {
   "cell_type": "code",
   "execution_count": 62,
   "metadata": {},
   "outputs": [
    {
     "data": {
      "text/plain": [
       "LinearSVC(C=0.311954562091293, dual=False, penalty='l1')"
      ]
     },
     "execution_count": 62,
     "metadata": {},
     "output_type": "execute_result"
    }
   ],
   "source": [
    "params = {'C': 0.311954562091293,\n",
    "          'dual': False,\n",
    "          'max_iter': 1000,\n",
    "          'penalty': 'l1',\n",
    "          'tol': 0.0001}\n",
    "\n",
    "svc_model = LinearSVC(**params)\n",
    "\n",
    "svc_model.fit(X_train_tfidf, y_train)"
   ]
  },
  {
   "cell_type": "code",
   "execution_count": 63,
   "metadata": {},
   "outputs": [
    {
     "data": {
      "image/png": "[encoded data removed]",
      "text/plain": [
       "<Figure size 576x432 with 1 Axes>"
      ]
     },
     "metadata": {
      "needs_background": "light"
     },
     "output_type": "display_data"
    }
   ],
   "source": [
    "y_pred = svc_model.predict(X_test_tfidf)\n",
    "cm = confusion_matrix(y_test, y_pred)\n",
    "\n",
    "plt.figure(figsize=(8, 6))\n",
    "sns.heatmap(cm, annot=True, fmt=\"d\", cmap=\"Blues\", cbar=False)\n",
    "plt.xlabel(\"Predicted labels\")\n",
    "plt.ylabel(\"True labels\")\n",
    "plt.title(\"Confusion Matrix - Training Data\")\n",
    "plt.show()"
   ]
  },
  {
   "cell_type": "markdown",
   "metadata": {},
   "source": [
    "## Saving best models for Tf-Idf"
   ]
  },
  {
   "cell_type": "code",
   "execution_count": 66,
   "metadata": {},
   "outputs": [],
   "source": [
    "best_models={\n",
    "    'LogisticRegression': best_tfidf_lr_estimator,\n",
    "    'RidgeRegression': best_tfidf_ridge_estimator,\n",
    "    'LinearSVC_bayes': best_tfidf_lSVC_estimator,\n",
    "    'LinearSVC_random': svc_model\n",
    "}"
   ]
  },
  {
   "cell_type": "code",
   "execution_count": 67,
   "metadata": {},
   "outputs": [
    {
     "name": "stdout",
     "output_type": "stream",
     "text": [
      "Saving model: LogisticRegression\n",
      "Saving model: RidgeRegression\n",
      "Saving model: LinearSVC_bayes\n",
      "Saving model: LinearSVC_random\n"
     ]
    }
   ],
   "source": [
    "os.makedirs('tfidf_best_models', exist_ok=True)\n",
    "for model_name, model in best_models.items():\n",
    "    print(f'Saving model: {model_name}')\n",
    "    model_dir = os.path.join('tfidf_best_models', model_name)\n",
    "    os.makedirs(model_dir, exist_ok=True)\n",
    "    model_path = os.path.join(model_dir, f'{model_name}_best_model.joblib')\n",
    "    dump(model, model_path)"
   ]
  },
  {
   "cell_type": "markdown",
   "metadata": {},
   "source": [
    "## Word embeddings"
   ]
  },
  {
   "cell_type": "markdown",
   "metadata": {},
   "source": [
    "### Linear SVC for word embeddings"
   ]
  },
  {
   "cell_type": "code",
   "execution_count": 17,
   "metadata": {},
   "outputs": [
    {
     "data": {
      "text/html": [
       "<div>\n",
       "<style scoped>\n",
       "    .dataframe tbody tr th:only-of-type {\n",
       "        vertical-align: middle;\n",
       "    }\n",
       "\n",
       "    .dataframe tbody tr th {\n",
       "        vertical-align: top;\n",
       "    }\n",
       "\n",
       "    .dataframe thead th {\n",
       "        text-align: right;\n",
       "    }\n",
       "</style>\n",
       "<table border=\"1\" class=\"dataframe\">\n",
       "  <thead>\n",
       "    <tr style=\"text-align: right;\">\n",
       "      <th></th>\n",
       "      <th>precision</th>\n",
       "      <th>recall</th>\n",
       "      <th>f1-score</th>\n",
       "      <th>support</th>\n",
       "    </tr>\n",
       "  </thead>\n",
       "  <tbody>\n",
       "    <tr>\n",
       "      <th>0</th>\n",
       "      <td>0.824393</td>\n",
       "      <td>0.964916</td>\n",
       "      <td>0.889137</td>\n",
       "      <td>165374.0000</td>\n",
       "    </tr>\n",
       "    <tr>\n",
       "      <th>1</th>\n",
       "      <td>0.748352</td>\n",
       "      <td>0.336696</td>\n",
       "      <td>0.464435</td>\n",
       "      <td>51245.0000</td>\n",
       "    </tr>\n",
       "    <tr>\n",
       "      <th>accuracy</th>\n",
       "      <td>0.816300</td>\n",
       "      <td>0.816300</td>\n",
       "      <td>0.816300</td>\n",
       "      <td>0.8163</td>\n",
       "    </tr>\n",
       "    <tr>\n",
       "      <th>macro avg</th>\n",
       "      <td>0.786372</td>\n",
       "      <td>0.650806</td>\n",
       "      <td>0.676786</td>\n",
       "      <td>216619.0000</td>\n",
       "    </tr>\n",
       "    <tr>\n",
       "      <th>weighted avg</th>\n",
       "      <td>0.806404</td>\n",
       "      <td>0.816300</td>\n",
       "      <td>0.788666</td>\n",
       "      <td>216619.0000</td>\n",
       "    </tr>\n",
       "  </tbody>\n",
       "</table>\n",
       "</div>"
      ],
      "text/plain": [
       "              precision    recall  f1-score      support\n",
       "0              0.824393  0.964916  0.889137  165374.0000\n",
       "1              0.748352  0.336696  0.464435   51245.0000\n",
       "accuracy       0.816300  0.816300  0.816300       0.8163\n",
       "macro avg      0.786372  0.650806  0.676786  216619.0000\n",
       "weighted avg   0.806404  0.816300  0.788666  216619.0000"
      ]
     },
     "execution_count": 17,
     "metadata": {},
     "output_type": "execute_result"
    }
   ],
   "source": [
    "lsvc_word_embeddings = LinearSVC()\n",
    "\n",
    "lsvc_word_embeddings.fit(X_train_w2v_pad, y_train)\n",
    "y_pred_word_embeddings = lsvc_word_embeddings.predict(X_test_w2v_pad)\n",
    "report_word_embeddings = classification_report(y_test, y_pred_word_embeddings, output_dict=True)\n",
    "report_df_word_embeddings = pd.DataFrame(report_word_embeddings).transpose()\n",
    "\n",
    "report_df_word_embeddings"
   ]
  },
  {
   "cell_type": "markdown",
   "metadata": {},
   "source": [
    "### Logistic Regression for word embedding"
   ]
  },
  {
   "cell_type": "code",
   "execution_count": 75,
   "metadata": {},
   "outputs": [
    {
     "name": "stdout",
     "output_type": "stream",
     "text": [
      "Train Accuracy: 81.851%\n",
      "Test Accuracy: 81.819%\n"
     ]
    }
   ],
   "source": [
    "lr_wordembedding=LogisticRegression(solver='sag')\n",
    "lr_wordembedding.fit(X_train_w2v_pad,y_train)\n",
    "print(f\"Train Accuracy: {lr_wordembedding.score(X_train_w2v_pad, y_train) * 100:.3f}%\", )\n",
    "print(f\"Test Accuracy: {lr_wordembedding.score(X_test_w2v_pad, y_test) * 100:.3f}%\")"
   ]
  },
  {
   "cell_type": "markdown",
   "metadata": {},
   "source": [
    "### Hyperparameters for logistic regression for Word Embeddings"
   ]
  },
  {
   "cell_type": "code",
   "execution_count": 76,
   "metadata": {},
   "outputs": [
    {
     "name": "stdout",
     "output_type": "stream",
     "text": [
      "Fitting 3 folds for each of 28 candidates, totalling 84 fits\n",
      "[CV 1/3] END C=0.001, penalty=l1, solver=liblinear;, score=0.789 total time=   4.7s\n",
      "[CV 2/3] END C=0.001, penalty=l1, solver=liblinear;, score=0.789 total time=   5.3s\n",
      "[CV 3/3] END C=0.001, penalty=l1, solver=liblinear;, score=0.788 total time=   4.2s\n",
      "[CV 1/3] END ..C=0.001, penalty=l1, solver=saga;, score=0.789 total time=  11.4s\n",
      "[CV 2/3] END ..C=0.001, penalty=l1, solver=saga;, score=0.789 total time=  11.3s\n",
      "[CV 3/3] END ..C=0.001, penalty=l1, solver=saga;, score=0.788 total time=  10.9s\n",
      "[CV 1/3] END C=0.001, penalty=l2, solver=liblinear;, score=0.802 total time=   3.9s\n",
      "[CV 2/3] END C=0.001, penalty=l2, solver=liblinear;, score=0.803 total time=   3.9s\n",
      "[CV 3/3] END C=0.001, penalty=l2, solver=liblinear;, score=0.801 total time=   3.7s\n",
      "[CV 1/3] END ..C=0.001, penalty=l2, solver=saga;, score=0.802 total time=   9.2s\n",
      "[CV 2/3] END ..C=0.001, penalty=l2, solver=saga;, score=0.802 total time=   9.6s\n",
      "[CV 3/3] END ..C=0.001, penalty=l2, solver=saga;, score=0.801 total time=   9.4s\n",
      "[CV 1/3] END C=0.01, penalty=l1, solver=liblinear;, score=0.817 total time=  34.3s\n",
      "[CV 2/3] END C=0.01, penalty=l1, solver=liblinear;, score=0.817 total time=  48.4s\n",
      "[CV 3/3] END C=0.01, penalty=l1, solver=liblinear;, score=0.816 total time=  57.4s\n",
      "[CV 1/3] END ...C=0.01, penalty=l1, solver=saga;, score=0.817 total time=  15.4s\n",
      "[CV 2/3] END ...C=0.01, penalty=l1, solver=saga;, score=0.817 total time=  17.5s\n",
      "[CV 3/3] END ...C=0.01, penalty=l1, solver=saga;, score=0.815 total time=  16.8s\n",
      "[CV 1/3] END C=0.01, penalty=l2, solver=liblinear;, score=0.817 total time=   7.5s\n",
      "[CV 2/3] END C=0.01, penalty=l2, solver=liblinear;, score=0.818 total time=   7.3s\n",
      "[CV 3/3] END C=0.01, penalty=l2, solver=liblinear;, score=0.816 total time=   7.9s\n",
      "[CV 1/3] END ...C=0.01, penalty=l2, solver=saga;, score=0.818 total time=  11.4s\n",
      "[CV 2/3] END ...C=0.01, penalty=l2, solver=saga;, score=0.818 total time=  11.2s\n",
      "[CV 3/3] END ...C=0.01, penalty=l2, solver=saga;, score=0.816 total time=  13.5s\n",
      "[CV 1/3] END C=0.1, penalty=l1, solver=liblinear;, score=0.819 total time= 1.2min\n",
      "[CV 2/3] END C=0.1, penalty=l1, solver=liblinear;, score=0.819 total time= 1.1min\n",
      "[CV 3/3] END C=0.1, penalty=l1, solver=liblinear;, score=0.817 total time= 1.2min\n",
      "[CV 1/3] END ....C=0.1, penalty=l1, solver=saga;, score=0.819 total time=  15.7s\n",
      "[CV 2/3] END ....C=0.1, penalty=l1, solver=saga;, score=0.819 total time=  16.0s\n",
      "[CV 3/3] END ....C=0.1, penalty=l1, solver=saga;, score=0.817 total time=  16.4s\n",
      "[CV 1/3] END C=0.1, penalty=l2, solver=liblinear;, score=0.819 total time=   8.4s\n",
      "[CV 2/3] END C=0.1, penalty=l2, solver=liblinear;, score=0.819 total time=   7.8s\n",
      "[CV 3/3] END C=0.1, penalty=l2, solver=liblinear;, score=0.817 total time=   8.1s\n",
      "[CV 1/3] END ....C=0.1, penalty=l2, solver=saga;, score=0.819 total time=  12.3s\n",
      "[CV 2/3] END ....C=0.1, penalty=l2, solver=saga;, score=0.819 total time=  11.4s\n",
      "[CV 3/3] END ....C=0.1, penalty=l2, solver=saga;, score=0.817 total time=  12.1s\n",
      "[CV 1/3] END C=1.0, penalty=l1, solver=liblinear;, score=0.819 total time= 1.2min\n",
      "[CV 2/3] END C=1.0, penalty=l1, solver=liblinear;, score=0.819 total time= 1.3min\n",
      "[CV 3/3] END C=1.0, penalty=l1, solver=liblinear;, score=0.818 total time= 1.4min\n",
      "[CV 1/3] END ....C=1.0, penalty=l1, solver=saga;, score=0.819 total time=  18.8s\n",
      "[CV 2/3] END ....C=1.0, penalty=l1, solver=saga;, score=0.819 total time=  15.7s\n",
      "[CV 3/3] END ....C=1.0, penalty=l1, solver=saga;, score=0.818 total time=  15.5s\n",
      "[CV 1/3] END C=1.0, penalty=l2, solver=liblinear;, score=0.819 total time=   9.1s\n",
      "[CV 2/3] END C=1.0, penalty=l2, solver=liblinear;, score=0.819 total time=   9.6s\n",
      "[CV 3/3] END C=1.0, penalty=l2, solver=liblinear;, score=0.818 total time=   7.5s\n",
      "[CV 1/3] END ....C=1.0, penalty=l2, solver=saga;, score=0.819 total time=  11.5s\n",
      "[CV 2/3] END ....C=1.0, penalty=l2, solver=saga;, score=0.819 total time=  12.1s\n",
      "[CV 3/3] END ....C=1.0, penalty=l2, solver=saga;, score=0.818 total time=  13.0s\n",
      "[CV 1/3] END C=10.0, penalty=l1, solver=liblinear;, score=0.819 total time= 1.3min\n",
      "[CV 2/3] END C=10.0, penalty=l1, solver=liblinear;, score=0.819 total time= 1.2min\n",
      "[CV 3/3] END C=10.0, penalty=l1, solver=liblinear;, score=0.818 total time= 1.3min\n",
      "[CV 1/3] END ...C=10.0, penalty=l1, solver=saga;, score=0.819 total time=  14.7s\n",
      "[CV 2/3] END ...C=10.0, penalty=l1, solver=saga;, score=0.819 total time=  18.2s\n",
      "[CV 3/3] END ...C=10.0, penalty=l1, solver=saga;, score=0.817 total time=  16.9s\n",
      "[CV 1/3] END C=10.0, penalty=l2, solver=liblinear;, score=0.819 total time=   8.6s\n",
      "[CV 2/3] END C=10.0, penalty=l2, solver=liblinear;, score=0.819 total time=   9.8s\n",
      "[CV 3/3] END C=10.0, penalty=l2, solver=liblinear;, score=0.817 total time=   9.0s\n",
      "[CV 1/3] END ...C=10.0, penalty=l2, solver=saga;, score=0.819 total time=  13.5s\n",
      "[CV 2/3] END ...C=10.0, penalty=l2, solver=saga;, score=0.819 total time= 5.7min\n",
      "[CV 3/3] END ...C=10.0, penalty=l2, solver=saga;, score=0.817 total time=   9.6s\n",
      "[CV 1/3] END C=100.0, penalty=l1, solver=liblinear;, score=0.819 total time=  42.7s\n",
      "[CV 2/3] END C=100.0, penalty=l1, solver=liblinear;, score=0.819 total time=  45.7s\n",
      "[CV 3/3] END C=100.0, penalty=l1, solver=liblinear;, score=0.818 total time=  57.3s\n",
      "[CV 1/3] END ..C=100.0, penalty=l1, solver=saga;, score=0.819 total time=  14.9s\n",
      "[CV 2/3] END ..C=100.0, penalty=l1, solver=saga;, score=0.819 total time=  17.0s\n",
      "[CV 3/3] END ..C=100.0, penalty=l1, solver=saga;, score=0.817 total time=  13.8s\n",
      "[CV 1/3] END C=100.0, penalty=l2, solver=liblinear;, score=0.819 total time=  10.3s\n",
      "[CV 2/3] END C=100.0, penalty=l2, solver=liblinear;, score=0.819 total time=  10.8s\n",
      "[CV 3/3] END C=100.0, penalty=l2, solver=liblinear;, score=0.817 total time=   9.9s\n",
      "[CV 1/3] END ..C=100.0, penalty=l2, solver=saga;, score=0.819 total time=  10.5s\n",
      "[CV 2/3] END ..C=100.0, penalty=l2, solver=saga;, score=0.819 total time=  11.5s\n",
      "[CV 3/3] END ..C=100.0, penalty=l2, solver=saga;, score=0.817 total time=  12.1s\n",
      "[CV 1/3] END C=1000.0, penalty=l1, solver=liblinear;, score=0.819 total time= 1.3min\n",
      "[CV 2/3] END C=1000.0, penalty=l1, solver=liblinear;, score=0.819 total time= 1.4min\n",
      "[CV 3/3] END C=1000.0, penalty=l1, solver=liblinear;, score=0.818 total time= 1.3min\n",
      "[CV 1/3] END .C=1000.0, penalty=l1, solver=saga;, score=0.819 total time=  24.9s\n",
      "[CV 2/3] END .C=1000.0, penalty=l1, solver=saga;, score=0.819 total time=  25.1s\n",
      "[CV 3/3] END .C=1000.0, penalty=l1, solver=saga;, score=0.817 total time=  19.9s\n",
      "[CV 1/3] END C=1000.0, penalty=l2, solver=liblinear;, score=0.819 total time=  10.1s\n",
      "[CV 2/3] END C=1000.0, penalty=l2, solver=liblinear;, score=0.819 total time=   9.9s\n",
      "[CV 3/3] END C=1000.0, penalty=l2, solver=liblinear;, score=0.817 total time=   9.6s\n",
      "[CV 1/3] END .C=1000.0, penalty=l2, solver=saga;, score=0.819 total time=  15.4s\n",
      "[CV 2/3] END .C=1000.0, penalty=l2, solver=saga;, score=0.819 total time=  15.4s\n",
      "[CV 3/3] END .C=1000.0, penalty=l2, solver=saga;, score=0.817 total time=  16.6s\n",
      "tuned hpyerparameters :(best parameters)  {'C': 1.0, 'penalty': 'l1', 'solver': 'liblinear'}\n",
      "accuracy : 0.8185149870481947\n"
     ]
    }
   ],
   "source": [
    "grid = {\"C\": np.logspace(-3, 3, 7), \"penalty\": [\"l1\", \"l2\"], \"solver\": [\"liblinear\", \"saga\"]}\n",
    "logreg_wordembedding=LogisticRegression(max_iter=100)\n",
    "logreg_cv_wordembedding=GridSearchCV(logreg_wordembedding,grid,cv=3,verbose=3,refit=True)\n",
    "logreg_cv_wordembedding.fit(X_train_w2v_pad,y_train)\n",
    "\n",
    "print(\"tuned hpyerparameters :(best parameters) \", logreg_cv_wordembedding.best_params_)\n",
    "print(\"accuracy :\",logreg_cv_wordembedding.best_score_)"
   ]
  },
  {
   "cell_type": "markdown",
   "metadata": {},
   "source": [
    "### Random Forest for TFIDF"
   ]
  },
  {
   "cell_type": "code",
   "execution_count": 69,
   "metadata": {},
   "outputs": [
    {
     "name": "stdout",
     "output_type": "stream",
     "text": [
      "Accuracy Random Forest: 0.8176291091732489\n"
     ]
    }
   ],
   "source": [
    "X_train_rf_1, _, y_train_rf_1, _ = train_test_split(tfidf_vector_train, y_train, test_size=0.5, random_state=42)\n",
    "\n",
    "rf_model_1 = RandomForestClassifier(n_estimators=20, random_state=42, n_jobs=-1)\n",
    "rf_model_1.fit(X_train_rf_1, y_train_rf_1)\n",
    "\n",
    "y_pred_rf_1 = rf_model_1.predict(tfidf_vector_test)\n",
    "\n",
    "accuracy_rf_1 = accuracy_score(y_test, y_pred_rf_1)\n",
    "print(\"Accuracy Random Forest:\", accuracy_rf_1)\n"
   ]
  },
  {
   "cell_type": "markdown",
   "metadata": {},
   "source": [
    "### Random Forest for word embeddings"
   ]
  },
  {
   "cell_type": "code",
   "execution_count": 74,
   "metadata": {},
   "outputs": [
    {
     "name": "stdout",
     "output_type": "stream",
     "text": [
      "Accuracy Random Forest: 0.8115816248805506\n"
     ]
    }
   ],
   "source": [
    "X_train_rf_2, _, y_train_rf_2, _ = train_test_split(X_train_w2v_pad, y_train, test_size=0.5, random_state=42)\n",
    "\n",
    "rf_model_2 = RandomForestClassifier(n_estimators=100, random_state=42)\n",
    "rf_model_2.fit(X_train_rf_2, y_train_rf_2)\n",
    "\n",
    "y_pred_rf_2 = rf_model_2.predict(X_test_w2v_pad)\n",
    "\n",
    "accuracy_rf_2 = accuracy_score(y_test, y_pred_rf_2)\n",
    "print(\"Accuracy Random Forest:\", accuracy_rf_2)\n"
   ]
  },
  {
   "cell_type": "code",
   "execution_count": 83,
   "metadata": {},
   "outputs": [
    {
     "name": "stdout",
     "output_type": "stream",
     "text": [
      "Accuracy Multinomial Naive Bayes: 0.7839063055410652\n"
     ]
    }
   ],
   "source": [
    "from sklearn.naive_bayes import MultinomialNB\n",
    "from sklearn.metrics import accuracy_score\n",
    "\n",
    "nb_model = MultinomialNB()\n",
    "nb_model.fit(tfidf_vector_train, y_train)\n",
    "\n",
    "y_pred_nb = nb_model.predict(tfidf_vector_test)\n",
    "\n",
    "accuracy_nb = accuracy_score(y_test, y_pred_nb)\n",
    "print(\"Accuracy Multinomial Naive Bayes:\", accuracy_nb)\n"
   ]
  },
  {
   "cell_type": "code",
   "execution_count": null,
   "metadata": {},
   "outputs": [
    {
     "data": {
      "image/png": "[encoded data removed]",
      "text/plain": [
       "<Figure size 1000x600 with 1 Axes>"
      ]
     },
     "metadata": {},
     "output_type": "display_data"
    },
    {
     "data": {
      "image/png": "[encoded data removed]",
      "text/plain": [
       "<Figure size 1000x600 with 1 Axes>"
      ]
     },
     "metadata": {},
     "output_type": "display_data"
    },
    {
     "data": {
      "image/png": "[encoded data removed]",
      "text/plain": [
       "<Figure size 1000x600 with 1 Axes>"
      ]
     },
     "metadata": {},
     "output_type": "display_data"
    },
    {
     "data": {
      "image/png": "[encoded data removed]",
      "text/plain": [
       "<Figure size 1000x600 with 1 Axes>"
      ]
     },
     "metadata": {},
     "output_type": "display_data"
    },
    {
     "data": {
      "image/png": "[encoded data removed]",
      "text/plain": [
       "<Figure size 1000x600 with 1 Axes>"
      ]
     },
     "metadata": {},
     "output_type": "display_data"
    }
   ],
   "source": [
    "import matplotlib.pyplot as plt\n",
    "import numpy as np\n",
    "from sklearn.metrics import accuracy_score, precision_score, recall_score, f1_score, roc_auc_score\n",
    "from sklearn.ensemble import RandomForestClassifier, GradientBoostingClassifier, AdaBoostClassifier\n",
    "from sklearn.linear_model import LogisticRegression, RidgeClassifier\n",
    "from sklearn.svm import SVC, LinearSVC\n",
    "from sklearn.neighbors import KNeighborsClassifier\n",
    "from sklearn.naive_bayes import GaussianNB\n",
    "from sklearn.neural_network import MLPClassifier\n",
    "from sklearn.tree import DecisionTreeClassifier\n",
    "from xgboost import XGBClassifier\n",
    "\n",
    "def evaluate_models(X_train, y_train, X_test, y_test, models, metrics):\n",
    "    for model_name, model in models.items():\n",
    "        model_results = {}\n",
    "        for metric_name, metric_func in metrics.items():\n",
    "            model.fit(X_train, y_train)\n",
    "            y_pred = model.predict(X_test)\n",
    "            score = metric_func(y_test, y_pred)\n",
    "            model_results[metric_name] = score\n",
    "        \n",
    "        plt.figure(figsize=(10, 6))\n",
    "        plt.bar(np.arange(len(metrics)), list(model_results.values()), align='center')\n",
    "        plt.xticks(np.arange(len(metrics)), list(model_results.keys()))\n",
    "        plt.title(f'{model_name} Metrics Evaluation')\n",
    "        plt.xlabel('Metrics')\n",
    "        plt.ylabel('Score')\n",
    "        plt.ylim(0, 1) \n",
    "        plt.tight_layout()\n",
    "        plt.show()\n",
    "\n",
    "models = {\n",
    "    'GradientBoostingClassifier': GradientBoostingClassifier(n_estimators=3, max_depth=3),\n",
    "    'RandomForestClassifier': RandomForestClassifier(n_estimators=10, random_state=42, n_jobs=-1),\n",
    "    'LogisticRegression': LogisticRegression(),\n",
    "    'AdaBoostClassifier': AdaBoostClassifier(n_estimators=10),\n",
    "    'RidgeClassifier': RidgeClassifier(alpha=1.0),\n",
    "    'LinearSVC': LinearSVC(),\n",
    "    'KNeighborsClassifier': KNeighborsClassifier(n_neighbors=5),\n",
    "    'GaussianNB': GaussianNB(),\n",
    "    'MLPClassifier': MLPClassifier(hidden_layer_sizes=(100,), activation='relu', solver='adam', alpha=0.0001),\n",
    "    'DecisionTreeClassifier': DecisionTreeClassifier(max_depth=5, min_samples_split=2, min_samples_leaf=1, criterion='gini'),\n",
    "    'XGBClassifier': XGBClassifier(n_estimators=10)\n",
    "}\n",
    "\n",
    "metrics = {\n",
    "    'accuracy': accuracy_score,\n",
    "    'precision': precision_score,\n",
    "    'recall': recall_score,\n",
    "    'f1': f1_score,\n",
    "    'roc_auc': roc_auc_score\n",
    "}\n",
    "\n",
    "evaluate_models(X_train_w2v_pad, y_train, X_test_w2v_pad, y_test, models, metrics)\n",
    "\n"
   ]
  }
 ],
 "metadata": {
  "kernelspec": {
   "display_name": "Python 3 (ipykernel)",
   "language": "python",
   "name": "python3"
  },
  "language_info": {
   "codemirror_mode": {
    "name": "ipython",
    "version": 3
   },
   "file_extension": ".py",
   "mimetype": "text/x-python",
   "name": "python",
   "nbconvert_exporter": "python",
   "pygments_lexer": "ipython3",
   "version": "3.9.12"
  }
 },
 "nbformat": 4,
 "nbformat_minor": 2
}
