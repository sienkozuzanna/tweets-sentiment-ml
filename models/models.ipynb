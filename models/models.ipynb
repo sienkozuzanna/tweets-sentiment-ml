{
 "cells": [
  {
   "cell_type": "code",
   "execution_count": 1,
   "metadata": {},
   "outputs": [],
   "source": [
    "import pandas as pd\n",
    "import numpy as np\n",
    "import matplotlib.pyplot as plt\n",
    "from datetime import datetime\n",
    "\n",
    "from sklearn.model_selection import train_test_split\n",
    "from sklearn.feature_extraction.text import TfidfVectorizer\n",
    "from sklearn.svm import LinearSVC\n",
    "from sklearn.svm import SVC\n",
    "from sklearn.linear_model import LogisticRegression\n",
    "from sklearn.model_selection import validation_curve\n",
    "from gensim.models import Word2Vec\n",
    "from sklearn.metrics import classification_report\n",
    "from sklearn.model_selection import GridSearchCV\n",
    "from sklearn.ensemble import RandomForestClassifier\n",
    "from sklearn.tree import DecisionTreeClassifier\n",
    "from sklearn.linear_model import LogisticRegression\n",
    "from sklearn.naive_bayes import MultinomialNB\n",
    "import lightgbm as lgb\n",
    "from lightgbm import LGBMClassifier\n",
    "from xgboost import XGBClassifier\n",
    "from sklearn.metrics import accuracy_score, f1_score, classification_report, ConfusionMatrixDisplay, precision_score, \\\n",
    "    recall_score, roc_auc_score, roc_curve\n",
    "import joblib"
   ]
  },
  {
   "cell_type": "code",
   "execution_count": 2,
   "metadata": {},
   "outputs": [],
   "source": [
    "processed_train_data=pd.read_csv('../data/processed data/processed_train_data.csv', encoding='ISO-8859-1')\n",
    "processed_test_data=pd.read_csv('../data/processed data/processed_val_data.csv', encoding='ISO-8859-1')"
   ]
  },
  {
   "cell_type": "code",
   "execution_count": null,
   "metadata": {},
   "outputs": [],
   "source": [
    "X_train=processed_train_data.drop('target', axis=1)\n",
    "y_train=processed_train_data['target']\n",
    "X_test=processed_test_data.drop('target',axis=1)\n",
    "y_test=processed_test_data['target']"
   ]
  },
  {
   "cell_type": "code",
   "execution_count": null,
   "metadata": {},
   "outputs": [],
   "source": [
    "X_train.shape, X_test.shape, y_train.shape, y_test.shape"
   ]
  },
  {
   "cell_type": "code",
   "execution_count": null,
   "metadata": {},
   "outputs": [],
   "source": [
    "X_train.head(), y_train.head()"
   ]
  },
  {
   "cell_type": "code",
   "execution_count": 3,
   "metadata": {},
   "outputs": [
    {
     "data": {
      "text/html": [
       "<div>\n",
       "<style scoped>\n",
       "    .dataframe tbody tr th:only-of-type {\n",
       "        vertical-align: middle;\n",
       "    }\n",
       "\n",
       "    .dataframe tbody tr th {\n",
       "        vertical-align: top;\n",
       "    }\n",
       "\n",
       "    .dataframe thead th {\n",
       "        text-align: right;\n",
       "    }\n",
       "</style>\n",
       "<table border=\"1\" class=\"dataframe\">\n",
       "  <thead>\n",
       "    <tr style=\"text-align: right;\">\n",
       "      <th></th>\n",
       "      <th>target</th>\n",
       "      <th>text</th>\n",
       "    </tr>\n",
       "  </thead>\n",
       "  <tbody>\n",
       "    <tr>\n",
       "      <th>0</th>\n",
       "      <td>0</td>\n",
       "      <td>api call</td>\n",
       "    </tr>\n",
       "    <tr>\n",
       "      <th>1</th>\n",
       "      <td>0</td>\n",
       "      <td>okay may sound silly good use oil sound awesom...</td>\n",
       "    </tr>\n",
       "    <tr>\n",
       "      <th>2</th>\n",
       "      <td>0</td>\n",
       "      <td>lunch not food  go</td>\n",
       "    </tr>\n",
       "    <tr>\n",
       "      <th>3</th>\n",
       "      <td>0</td>\n",
       "      <td>suppose communicate twitter ahhh hard  miss sc...</td>\n",
       "    </tr>\n",
       "    <tr>\n",
       "      <th>4</th>\n",
       "      <td>1</td>\n",
       "      <td>goodmorning everyone go  degree outside today ...</td>\n",
       "    </tr>\n",
       "  </tbody>\n",
       "</table>\n",
       "</div>"
      ],
      "text/plain": [
       "   target                                               text\n",
       "0       0                                           api call\n",
       "1       0  okay may sound silly good use oil sound awesom...\n",
       "2       0                                 lunch not food  go\n",
       "3       0  suppose communicate twitter ahhh hard  miss sc...\n",
       "4       1  goodmorning everyone go  degree outside today ..."
      ]
     },
     "execution_count": 3,
     "metadata": {},
     "output_type": "execute_result"
    }
   ],
   "source": [
    "processed_df.head()"
   ]
  },
  {
   "cell_type": "code",
   "execution_count": 3,
   "metadata": {},
   "outputs": [],
   "source": [
    "processed_df.dropna(inplace=True)\n",
    "processed_df.reset_index(drop=True, inplace=True)"
   ]
  },
  {
   "cell_type": "code",
   "execution_count": 4,
   "metadata": {},
   "outputs": [],
   "source": [
    "X_train, X_test, y_train, y_test = train_test_split(\n",
    "    processed_df,\n",
    "    processed_df['target'],\n",
    "    test_size=0.3, random_state=1234, stratify=processed_df['target']\n",
    ")"
   ]
  },
  {
   "cell_type": "code",
   "execution_count": 6,
   "metadata": {},
   "outputs": [
    {
     "data": {
      "text/plain": [
       "(        target                                               text\n",
       " 683051       0                          see alot pleat khaki pant\n",
       " 229135       0                   wish new season hero stop season\n",
       " 108440       0  good nite tweet twitter time nyquil get rid bu...\n",
       " 20850        1                 everything come back david tennant\n",
       " 668462       1                                   4hours boom boom,\n",
       "         target                                               text\n",
       " 663294       0                       thats terrible  glad catch b\n",
       " 854          1  wel busy entire day let c come onlinetill priv...\n",
       " 253398       0  remember tried dance team not make  tina could...\n",
       " 551920       1          saw wee singsong last night log  nice one\n",
       " 562243       0             vicar dibley always make cry  love bit)"
      ]
     },
     "execution_count": 6,
     "metadata": {},
     "output_type": "execute_result"
    }
   ],
   "source": [
    "X_train.head(), X_test.head()"
   ]
  },
  {
   "cell_type": "code",
   "execution_count": 12,
   "metadata": {},
   "outputs": [
    {
     "name": "stdout",
     "output_type": "stream",
     "text": [
      "<class 'pandas.core.frame.DataFrame'>\n",
      "Int64Index: 506194 entries, 683051 to 284351\n",
      "Data columns (total 2 columns):\n",
      " #   Column  Non-Null Count   Dtype \n",
      "---  ------  --------------   ----- \n",
      " 0   target  506194 non-null  int64 \n",
      " 1   text    506194 non-null  object\n",
      "dtypes: int64(1), object(1)\n",
      "memory usage: 11.6+ MB\n"
     ]
    }
   ],
   "source": [
    "X_train.info()"
   ]
  },
  {
   "cell_type": "markdown",
   "metadata": {},
   "source": [
    "## TF-IDF"
   ]
  },
  {
   "cell_type": "code",
   "execution_count": 5,
   "metadata": {},
   "outputs": [],
   "source": [
    "tfidf = TfidfVectorizer(norm='l2')\n",
    "tfidf_vector_train=tfidf.fit_transform(X_train['text'])\n",
    "tfidf_vector_test = tfidf.transform(X_test['text'])\n",
    "\n",
    "tfidf_biagrams = TfidfVectorizer(ngram_range=(1, 2),norm='l2')\n",
    "tfidf_biagrams_vector_train=tfidf_biagrams.fit_transform(X_train['text'])\n",
    "tfidf_biagram_vector_test = tfidf_biagrams.transform(X_test['text'])\n",
    "\n",
    "\n",
    "tfidf_trigrams = TfidfVectorizer(ngram_range=(1, 3),norm='l2')\n",
    "tfidf_trigrams_vector_train=tfidf_trigrams.fit_transform(X_train['text'])\n",
    "tfidf_trigrams_vector_test = tfidf_trigrams.transform(X_test['text'])"
   ]
  },
  {
   "cell_type": "code",
   "execution_count": 14,
   "metadata": {},
   "outputs": [
    {
     "name": "stdout",
     "output_type": "stream",
     "text": [
      "  (0, 119054)\t0.38249411204964373\n",
      "  (0, 88966)\t0.5642478788341421\n",
      "  (0, 123334)\t0.6034713717865785\n",
      "  (0, 16543)\t0.35937130887716734\n",
      "  (0, 137947)\t0.20493206500804764\n",
      "  (1, 148612)\t0.323851344987834\n",
      "  (1, 75499)\t0.44875203603472036\n",
      "  (1, 137752)\t0.7490271823985599\n",
      "  (1, 109985)\t0.26347880137926866\n",
      "  (1, 174321)\t0.2515534093509417\n",
      "  (2, 112429)\t0.10174966441685704\n",
      "  (2, 26748)\t0.3322139483148243\n",
      "  (2, 176148)\t0.18365739052734814\n",
      "  (2, 173157)\t0.39201568733928377\n",
      "  (2, 140664)\t0.28313458682786735\n",
      "  (2, 32513)\t0.28882351439392234\n",
      "  (2, 132611)\t0.2960260741901003\n",
      "  (2, 67348)\t0.12140530664499194\n",
      "  (2, 113718)\t0.3948740854678386\n",
      "  (2, 157279)\t0.16101709514276127\n",
      "  (2, 163093)\t0.18625530457712983\n",
      "  (2, 162333)\t0.20695181323252412\n",
      "  (2, 111200)\t0.27434658547369734\n",
      "  (2, 69070)\t0.30212823695744623\n",
      "  (3, 154235)\t0.6805990734323293\n",
      "  :\t:\n",
      "  (506189, 103656)\t0.10120113666086965\n",
      "  (506190, 20691)\t0.45294601952772895\n",
      "  (506190, 74303)\t0.38720077056751334\n",
      "  (506190, 145307)\t0.40773460407299994\n",
      "  (506190, 102696)\t0.27701951005501396\n",
      "  (506190, 83229)\t0.34818769764142615\n",
      "  (506190, 172414)\t0.37513976074803884\n",
      "  (506190, 155975)\t0.19424065522502723\n",
      "  (506190, 154901)\t0.23124114557069023\n",
      "  (506190, 152669)\t0.22082060122687366\n",
      "  (506191, 48850)\t0.47788611535664854\n",
      "  (506191, 173799)\t0.46347063256322385\n",
      "  (506191, 33873)\t0.29171512923617393\n",
      "  (506191, 24185)\t0.28532774080322076\n",
      "  (506191, 59745)\t0.31712316899095133\n",
      "  (506191, 152000)\t0.29316253217160176\n",
      "  (506191, 82880)\t0.23380193938333024\n",
      "  (506191, 65776)\t0.33639667210268737\n",
      "  (506191, 149873)\t0.18966484851529875\n",
      "  (506192, 93926)\t1.0\n",
      "  (506193, 3758)\t0.8037453469399444\n",
      "  (506193, 53784)\t0.37209178320098457\n",
      "  (506193, 120731)\t0.3456947793758702\n",
      "  (506193, 93926)\t0.25672854356071245\n",
      "  (506193, 112429)\t0.1735704369417898\n"
     ]
    }
   ],
   "source": [
    "print(tfidf_vector_train)"
   ]
  },
  {
   "cell_type": "markdown",
   "metadata": {},
   "source": [
    "# Basic Models"
   ]
  },
  {
   "cell_type": "code",
   "execution_count": 22,
   "metadata": {},
   "outputs": [
    {
     "name": "stdout",
     "output_type": "stream",
     "text": [
      "[LightGBM] [Info] Number of positive: 119746, number of negative: 386375\n",
      "[LightGBM] [Info] Auto-choosing row-wise multi-threading, the overhead of testing was 81.896936 seconds.\n",
      "You can set `force_row_wise=true` to remove the overhead.\n",
      "And if memory is not enough, you can set `force_col_wise=true`.\n",
      "[LightGBM] [Info] Total Bins 423390\n",
      "[LightGBM] [Info] Number of data points in the train set: 506121, number of used features: 29550\n",
      "[LightGBM] [Info] [binary:BoostFromScore]: pavg=0.236596 -> initscore=-1.171436\n",
      "[LightGBM] [Info] Start training from score -1.171436\n",
      "LGBMCLASSIFIER\n",
      "==================================\n",
      "Model Performence for Training set:\n",
      "- F1 Score: 0.7912\n",
      "- Precision: 0.7637\n",
      "- Recall: 0.3393\n",
      "- ROC AUC Score: 0.6534\n",
      "----------------------------------\n",
      "Model Performence for Test set:\n",
      "- Accuracy: 0.8151\n",
      "- F1 Score: 0.7925\n",
      "- Precision: 0.7095\n",
      "- Recall: 0.3704\n",
      "- ROC AUC Score: 0.6617\n",
      "----------------------------------\n",
      "Report Test set:\n",
      "              precision    recall  f1-score        support\n",
      "0              0.830042  0.952992  0.887278  165589.000000\n",
      "1              0.709466  0.370382  0.486686   51320.000000\n",
      "accuracy       0.815148  0.815148  0.815148       0.815148\n",
      "macro avg      0.769754  0.661687  0.686982  216909.000000\n",
      "weighted avg   0.801514  0.815148  0.792499  216909.000000\n",
      "\n",
      "Model saved as LGBMClassifier_20240406_140516.pkl\n",
      "==================================\n",
      "\n",
      "\n",
      "XGBCLASSIFIER\n",
      "==================================\n",
      "Model Performence for Training set:\n",
      "- F1 Score: 0.7776\n",
      "- Precision: 0.7870\n",
      "- Recall: 0.2866\n",
      "- ROC AUC Score: 0.6313\n",
      "----------------------------------\n",
      "Model Performence for Test set:\n",
      "- Accuracy: 0.8115\n",
      "- F1 Score: 0.7843\n",
      "- Precision: 0.7182\n",
      "- Recall: 0.3345\n",
      "- ROC AUC Score: 0.6469\n",
      "----------------------------------\n",
      "Report Test set:\n",
      "              precision    recall  f1-score        support\n",
      "0              0.823046  0.959315  0.885971  165589.000000\n",
      "1              0.718164  0.334509  0.456423   51320.000000\n",
      "accuracy       0.811488  0.811488  0.811488       0.811488\n",
      "macro avg      0.770605  0.646912  0.671197  216909.000000\n",
      "weighted avg   0.798231  0.811488  0.784342  216909.000000\n",
      "\n",
      "Model saved as XGBClassifier_20240406_142847.pkl\n",
      "==================================\n",
      "\n",
      "\n",
      "LINEARSVC\n",
      "==================================\n",
      "Model Performence for Training set:\n",
      "- F1 Score: 0.9931\n",
      "- Precision: 0.9909\n",
      "- Recall: 0.9799\n",
      "- ROC AUC Score: 0.9886\n",
      "----------------------------------\n",
      "Model Performence for Test set:\n",
      "- Accuracy: 0.8422\n",
      "- F1 Score: 0.8347\n",
      "- Precision: 0.7157\n",
      "- Recall: 0.5522\n",
      "- ROC AUC Score: 0.7421\n",
      "----------------------------------\n",
      "Report Test set:\n",
      "              precision    recall  f1-score        support\n",
      "0              0.870404  0.932024  0.900161  165589.000000\n",
      "1              0.715736  0.552241  0.623448   51320.000000\n",
      "accuracy       0.842169  0.842169  0.842169       0.842169\n",
      "macro avg      0.793070  0.742133  0.761804  216909.000000\n",
      "weighted avg   0.833810  0.842169  0.834691  216909.000000\n",
      "\n",
      "Model saved as LinearSVC_20240406_142906.pkl\n",
      "==================================\n",
      "\n",
      "\n"
     ]
    },
    {
     "name": "stderr",
     "output_type": "stream",
     "text": [
      "c:\\Users\\abc\\anaconda3\\lib\\site-packages\\sklearn\\linear_model\\_logistic.py:814: ConvergenceWarning: lbfgs failed to converge (status=1):\n",
      "STOP: TOTAL NO. of ITERATIONS REACHED LIMIT.\n",
      "\n",
      "Increase the number of iterations (max_iter) or scale the data as shown in:\n",
      "    https://scikit-learn.org/stable/modules/preprocessing.html\n",
      "Please also refer to the documentation for alternative solver options:\n",
      "    https://scikit-learn.org/stable/modules/linear_model.html#logistic-regression\n",
      "  n_iter_i = _check_optimize_result(\n"
     ]
    },
    {
     "name": "stdout",
     "output_type": "stream",
     "text": [
      "LOGISTICREGRESSION\n",
      "==================================\n",
      "Model Performence for Training set:\n",
      "- F1 Score: 0.8789\n",
      "- Precision: 0.9212\n",
      "- Recall: 0.5786\n",
      "- ROC AUC Score: 0.7816\n",
      "----------------------------------\n",
      "Model Performence for Test set:\n",
      "- Accuracy: 0.8433\n",
      "- F1 Score: 0.8329\n",
      "- Precision: 0.7417\n",
      "- Recall: 0.5183\n",
      "- ROC AUC Score: 0.7312\n",
      "----------------------------------\n",
      "Report Test set:\n",
      "              precision    recall  f1-score        support\n",
      "0              0.863445  0.944054  0.901952  165589.000000\n",
      "1              0.741669  0.518258  0.610156   51320.000000\n",
      "accuracy       0.843312  0.843312  0.843312       0.843312\n",
      "macro avg      0.802557  0.731156  0.756054  216909.000000\n",
      "weighted avg   0.834633  0.843312  0.832914  216909.000000\n",
      "\n",
      "Model saved as LogisticRegression_20240406_143042.pkl\n",
      "==================================\n",
      "\n",
      "\n",
      "MULTINOMIALNB\n",
      "==================================\n",
      "Model Performence for Training set:\n",
      "- F1 Score: 0.7298\n",
      "- Precision: 0.9942\n",
      "- Recall: 0.1360\n",
      "- ROC AUC Score: 0.5679\n",
      "----------------------------------\n",
      "Model Performence for Test set:\n",
      "- Accuracy: 0.7744\n",
      "- F1 Score: 0.6867\n",
      "- Precision: 0.9700\n",
      "- Recall: 0.0479\n",
      "- ROC AUC Score: 0.5237\n",
      "----------------------------------\n",
      "Report Test set:\n",
      "              precision    recall  f1-score        support\n",
      "0              0.772072  0.999541  0.871204  165589.000000\n",
      "1              0.970008  0.047896  0.091284   51320.000000\n",
      "accuracy       0.774385  0.774385  0.774385       0.774385\n",
      "macro avg      0.871040  0.523718  0.481244  216909.000000\n",
      "weighted avg   0.818903  0.774385  0.686677  216909.000000\n",
      "\n",
      "Model saved as MultinomialNB_20240406_143045.pkl\n",
      "==================================\n",
      "\n",
      "\n",
      "DECISIONTREECLASSIFIER\n",
      "==================================\n",
      "Model Performence for Training set:\n",
      "- F1 Score: 0.6825\n",
      "- Precision: 0.6463\n",
      "- Recall: 0.0461\n",
      "- ROC AUC Score: 0.5191\n",
      "----------------------------------\n",
      "Model Performence for Test set:\n",
      "- Accuracy: 0.7673\n",
      "- F1 Score: 0.6838\n",
      "- Precision: 0.5973\n",
      "- Recall: 0.0512\n",
      "- ROC AUC Score: 0.5203\n",
      "----------------------------------\n",
      "Report Test set:\n",
      "              precision    recall  f1-score        support\n",
      "0              0.770871  0.989299  0.866532  165589.000000\n",
      "1              0.597273  0.051208  0.094329   51320.000000\n",
      "accuracy       0.767349  0.767349  0.767349       0.767349\n",
      "macro avg      0.684072  0.520253  0.480430  216909.000000\n",
      "weighted avg   0.729798  0.767349  0.683831  216909.000000\n",
      "\n",
      "Model saved as DecisionTreeClassifier_20240406_143049.pkl\n",
      "==================================\n",
      "\n",
      "\n"
     ]
    }
   ],
   "source": [
    "models = {\n",
    "    'LGBMClassifier': LGBMClassifier(),\n",
    "    'XGBClassifier': XGBClassifier(objective='binary:logistic', \n",
    "                                   eval_metric='logloss', \n",
    "                                   n_estimators=100, \n",
    "                                   max_depth=5),\n",
    "     'LinearSVC': LinearSVC(),\n",
    "     'LogisticRegression': LogisticRegression(),\n",
    "     'MultinomialNB': MultinomialNB(),\n",
    "     'DecisionTreeClassifier': DecisionTreeClassifier(max_depth=10,\n",
    "                                                       min_samples_split=10,\n",
    "                                                       min_samples_leaf=5,\n",
    "                                                       max_features='sqrt',\n",
    "                                                       criterion='gini')\n",
    "}\n",
    "\n",
    "classification_reports = {}\n",
    "\n",
    "for i in range(len(list(models))):\n",
    "    model=list(models.values())[i]\n",
    "    model.fit(tfidf_trigrams_vector_train,y_train)\n",
    "\n",
    "    y_train_pred=model.predict(tfidf_trigrams_vector_train)\n",
    "    y_test_pred=model.predict(tfidf_trigrams_vector_test)\n",
    "\n",
    "    report = classification_report(y_test, y_test_pred, output_dict=True)\n",
    "    report_df = pd.DataFrame(report).transpose()\n",
    "\n",
    "    classification_reports[list(models.keys())[i]] = report_df\n",
    "\n",
    "    #Training set performence\n",
    "    model_train_accuracy=accuracy_score(y_train,y_train_pred)\n",
    "    model_train_f1=f1_score(y_train,y_train_pred, average='weighted')\n",
    "    model_train_precision=precision_score(y_train,y_train_pred)\n",
    "    model_train_recall=recall_score(y_train,y_train_pred)\n",
    "    model_train_roc_auc_score=roc_auc_score(y_train,y_train_pred)\n",
    "\n",
    "    #Test set performence\n",
    "    model_test_accuracy=accuracy_score(y_test,y_test_pred)\n",
    "    model_test_f1=f1_score(y_test,y_test_pred, average='weighted')\n",
    "    model_test_precision=precision_score(y_test,y_test_pred)\n",
    "    model_test_recall=recall_score(y_test,y_test_pred)\n",
    "    model_test_roc_auc_score=roc_auc_score(y_test,y_test_pred)\n",
    "\n",
    "    print(list(models.keys())[i].upper())\n",
    "    print('==================================')\n",
    "\n",
    "    print('Model Performence for Training set:')\n",
    "    print('- F1 Score: {:.4f}'.format(model_train_f1))\n",
    "    print('- Precision: {:.4f}'.format(model_train_precision))\n",
    "    print('- Recall: {:.4f}'.format(model_train_recall))\n",
    "    print('- ROC AUC Score: {:.4f}'.format(model_train_roc_auc_score))\n",
    "\n",
    "    print('----------------------------------')\n",
    "    print('Model Performence for Test set:')\n",
    "    print('- Accuracy: {:.4f}'.format(model_test_accuracy))\n",
    "    print('- F1 Score: {:.4f}'.format(model_test_f1))\n",
    "    print('- Precision: {:.4f}'.format(model_test_precision))\n",
    "    print('- Recall: {:.4f}'.format(model_test_recall))\n",
    "    print('- ROC AUC Score: {:.4f}'.format(model_test_roc_auc_score))\n",
    "    print('----------------------------------')\n",
    "    print('Report Test set:')\n",
    "    print(report_df)\n",
    "\n",
    "    timestamp = datetime.now().strftime(\"%Y%m%d_%H%M%S\")\n",
    "    filename = f\"{list(models.keys())[i]}_{timestamp}.pkl\"\n",
    "    joblib.dump(model, filename)\n",
    "    print(f\"\\nModel saved as {filename}\")\n",
    "    print('==================================')\n",
    "\n",
    "    print('\\n')\n"
   ]
  },
  {
   "cell_type": "markdown",
   "metadata": {},
   "source": [
    "## Linear SVC for TF-IDF"
   ]
  },
  {
   "cell_type": "code",
   "execution_count": 15,
   "metadata": {},
   "outputs": [
    {
     "name": "stdout",
     "output_type": "stream",
     "text": [
      "Train Accuracy: 89.720%\n",
      "Test Accuracy: 83.143%\n"
     ]
    }
   ],
   "source": [
    "l_SVC=LinearSVC()\n",
    "l_SVC.fit(tfidf_vector_train,y_train)\n",
    "print(f\"Train Accuracy: {l_SVC.score(tfidf_vector_train, y_train) * 100:.3f}%\", )\n",
    "print(f\"Test Accuracy: {l_SVC.score(tfidf_vector_test, y_test) * 100:.3f}%\")"
   ]
  },
  {
   "cell_type": "code",
   "execution_count": 16,
   "metadata": {},
   "outputs": [
    {
     "data": {
      "text/html": [
       "<div>\n",
       "<style scoped>\n",
       "    .dataframe tbody tr th:only-of-type {\n",
       "        vertical-align: middle;\n",
       "    }\n",
       "\n",
       "    .dataframe tbody tr th {\n",
       "        vertical-align: top;\n",
       "    }\n",
       "\n",
       "    .dataframe thead th {\n",
       "        text-align: right;\n",
       "    }\n",
       "</style>\n",
       "<table border=\"1\" class=\"dataframe\">\n",
       "  <thead>\n",
       "    <tr style=\"text-align: right;\">\n",
       "      <th></th>\n",
       "      <th>precision</th>\n",
       "      <th>recall</th>\n",
       "      <th>f1-score</th>\n",
       "      <th>support</th>\n",
       "    </tr>\n",
       "  </thead>\n",
       "  <tbody>\n",
       "    <tr>\n",
       "      <th>0</th>\n",
       "      <td>0.858586</td>\n",
       "      <td>0.932825</td>\n",
       "      <td>0.894167</td>\n",
       "      <td>165613.000000</td>\n",
       "    </tr>\n",
       "    <tr>\n",
       "      <th>1</th>\n",
       "      <td>0.699389</td>\n",
       "      <td>0.504267</td>\n",
       "      <td>0.586012</td>\n",
       "      <td>51328.000000</td>\n",
       "    </tr>\n",
       "    <tr>\n",
       "      <th>accuracy</th>\n",
       "      <td>0.831429</td>\n",
       "      <td>0.831429</td>\n",
       "      <td>0.831429</td>\n",
       "      <td>0.831429</td>\n",
       "    </tr>\n",
       "    <tr>\n",
       "      <th>macro avg</th>\n",
       "      <td>0.778988</td>\n",
       "      <td>0.718546</td>\n",
       "      <td>0.740090</td>\n",
       "      <td>216941.000000</td>\n",
       "    </tr>\n",
       "    <tr>\n",
       "      <th>weighted avg</th>\n",
       "      <td>0.820920</td>\n",
       "      <td>0.831429</td>\n",
       "      <td>0.821258</td>\n",
       "      <td>216941.000000</td>\n",
       "    </tr>\n",
       "  </tbody>\n",
       "</table>\n",
       "</div>"
      ],
      "text/plain": [
       "              precision    recall  f1-score        support\n",
       "0              0.858586  0.932825  0.894167  165613.000000\n",
       "1              0.699389  0.504267  0.586012   51328.000000\n",
       "accuracy       0.831429  0.831429  0.831429       0.831429\n",
       "macro avg      0.778988  0.718546  0.740090  216941.000000\n",
       "weighted avg   0.820920  0.831429  0.821258  216941.000000"
      ]
     },
     "execution_count": 16,
     "metadata": {},
     "output_type": "execute_result"
    }
   ],
   "source": [
    "y_pred_test = l_SVC.predict(tfidf_vector_test)\n",
    "report = classification_report(y_test, y_pred_test, output_dict=True)\n",
    "\n",
    "report_df = pd.DataFrame(report).transpose()\n",
    "report_df"
   ]
  },
  {
   "cell_type": "markdown",
   "metadata": {},
   "source": [
    "### Using biagrams"
   ]
  },
  {
   "cell_type": "code",
   "execution_count": 17,
   "metadata": {},
   "outputs": [
    {
     "name": "stdout",
     "output_type": "stream",
     "text": [
      "Train Accuracy: 98.558%\n",
      "Test Accuracy: 84.123%\n"
     ]
    }
   ],
   "source": [
    "l_SVC_biagrams=LinearSVC()\n",
    "l_SVC_biagrams.fit(tfidf_biagrams_vector_train,y_train)\n",
    "print(f\"Train Accuracy: {l_SVC_biagrams.score(tfidf_biagrams_vector_train, y_train) * 100:.3f}%\", )\n",
    "print(f\"Test Accuracy: {l_SVC_biagrams.score(tfidf_biagram_vector_test, y_test) * 100:.3f}%\")"
   ]
  },
  {
   "cell_type": "code",
   "execution_count": 18,
   "metadata": {},
   "outputs": [
    {
     "data": {
      "text/html": [
       "<div>\n",
       "<style scoped>\n",
       "    .dataframe tbody tr th:only-of-type {\n",
       "        vertical-align: middle;\n",
       "    }\n",
       "\n",
       "    .dataframe tbody tr th {\n",
       "        vertical-align: top;\n",
       "    }\n",
       "\n",
       "    .dataframe thead th {\n",
       "        text-align: right;\n",
       "    }\n",
       "</style>\n",
       "<table border=\"1\" class=\"dataframe\">\n",
       "  <thead>\n",
       "    <tr style=\"text-align: right;\">\n",
       "      <th></th>\n",
       "      <th>precision</th>\n",
       "      <th>recall</th>\n",
       "      <th>f1-score</th>\n",
       "      <th>support</th>\n",
       "    </tr>\n",
       "  </thead>\n",
       "  <tbody>\n",
       "    <tr>\n",
       "      <th>0</th>\n",
       "      <td>0.870369</td>\n",
       "      <td>0.930633</td>\n",
       "      <td>0.899493</td>\n",
       "      <td>165613.000000</td>\n",
       "    </tr>\n",
       "    <tr>\n",
       "      <th>1</th>\n",
       "      <td>0.711798</td>\n",
       "      <td>0.552778</td>\n",
       "      <td>0.622290</td>\n",
       "      <td>51328.000000</td>\n",
       "    </tr>\n",
       "    <tr>\n",
       "      <th>accuracy</th>\n",
       "      <td>0.841233</td>\n",
       "      <td>0.841233</td>\n",
       "      <td>0.841233</td>\n",
       "      <td>0.841233</td>\n",
       "    </tr>\n",
       "    <tr>\n",
       "      <th>macro avg</th>\n",
       "      <td>0.791084</td>\n",
       "      <td>0.741706</td>\n",
       "      <td>0.760892</td>\n",
       "      <td>216941.000000</td>\n",
       "    </tr>\n",
       "    <tr>\n",
       "      <th>weighted avg</th>\n",
       "      <td>0.832852</td>\n",
       "      <td>0.841233</td>\n",
       "      <td>0.833907</td>\n",
       "      <td>216941.000000</td>\n",
       "    </tr>\n",
       "  </tbody>\n",
       "</table>\n",
       "</div>"
      ],
      "text/plain": [
       "              precision    recall  f1-score        support\n",
       "0              0.870369  0.930633  0.899493  165613.000000\n",
       "1              0.711798  0.552778  0.622290   51328.000000\n",
       "accuracy       0.841233  0.841233  0.841233       0.841233\n",
       "macro avg      0.791084  0.741706  0.760892  216941.000000\n",
       "weighted avg   0.832852  0.841233  0.833907  216941.000000"
      ]
     },
     "execution_count": 18,
     "metadata": {},
     "output_type": "execute_result"
    }
   ],
   "source": [
    "y_pred_biagram_test = l_SVC_biagrams.predict(tfidf_biagram_vector_test)\n",
    "report = classification_report(y_test, y_pred_biagram_test, output_dict=True)\n",
    "\n",
    "report_df = pd.DataFrame(report).transpose()\n",
    "report_df"
   ]
  },
  {
   "cell_type": "markdown",
   "metadata": {},
   "source": [
    "### Using trigrams"
   ]
  },
  {
   "cell_type": "code",
   "execution_count": 6,
   "metadata": {},
   "outputs": [
    {
     "name": "stdout",
     "output_type": "stream",
     "text": [
      "Train Accuracy: 99.298%\n",
      "Test Accuracy: 83.166%\n"
     ]
    }
   ],
   "source": [
    "l_SVC_trigrams=LinearSVC(class_weight='balanced')\n",
    "l_SVC_trigrams.fit(tfidf_trigrams_vector_train,y_train)\n",
    "print(f\"Train Accuracy: {l_SVC_trigrams.score(tfidf_trigrams_vector_train, y_train) * 100:.3f}%\", )\n",
    "print(f\"Test Accuracy: {l_SVC_trigrams.score(tfidf_trigrams_vector_test, y_test) * 100:.3f}%\")"
   ]
  },
  {
   "cell_type": "code",
   "execution_count": 7,
   "metadata": {},
   "outputs": [
    {
     "data": {
      "text/html": [
       "<div>\n",
       "<style scoped>\n",
       "    .dataframe tbody tr th:only-of-type {\n",
       "        vertical-align: middle;\n",
       "    }\n",
       "\n",
       "    .dataframe tbody tr th {\n",
       "        vertical-align: top;\n",
       "    }\n",
       "\n",
       "    .dataframe thead th {\n",
       "        text-align: right;\n",
       "    }\n",
       "</style>\n",
       "<table border=\"1\" class=\"dataframe\">\n",
       "  <thead>\n",
       "    <tr style=\"text-align: right;\">\n",
       "      <th></th>\n",
       "      <th>precision</th>\n",
       "      <th>recall</th>\n",
       "      <th>f1-score</th>\n",
       "      <th>support</th>\n",
       "    </tr>\n",
       "  </thead>\n",
       "  <tbody>\n",
       "    <tr>\n",
       "      <th>0</th>\n",
       "      <td>0.894151</td>\n",
       "      <td>0.884152</td>\n",
       "      <td>0.889123</td>\n",
       "      <td>165613.000000</td>\n",
       "    </tr>\n",
       "    <tr>\n",
       "      <th>1</th>\n",
       "      <td>0.639225</td>\n",
       "      <td>0.662290</td>\n",
       "      <td>0.650553</td>\n",
       "      <td>51328.000000</td>\n",
       "    </tr>\n",
       "    <tr>\n",
       "      <th>accuracy</th>\n",
       "      <td>0.831659</td>\n",
       "      <td>0.831659</td>\n",
       "      <td>0.831659</td>\n",
       "      <td>0.831659</td>\n",
       "    </tr>\n",
       "    <tr>\n",
       "      <th>macro avg</th>\n",
       "      <td>0.766688</td>\n",
       "      <td>0.773221</td>\n",
       "      <td>0.769838</td>\n",
       "      <td>216941.000000</td>\n",
       "    </tr>\n",
       "    <tr>\n",
       "      <th>weighted avg</th>\n",
       "      <td>0.833836</td>\n",
       "      <td>0.831659</td>\n",
       "      <td>0.832678</td>\n",
       "      <td>216941.000000</td>\n",
       "    </tr>\n",
       "  </tbody>\n",
       "</table>\n",
       "</div>"
      ],
      "text/plain": [
       "              precision    recall  f1-score        support\n",
       "0              0.894151  0.884152  0.889123  165613.000000\n",
       "1              0.639225  0.662290  0.650553   51328.000000\n",
       "accuracy       0.831659  0.831659  0.831659       0.831659\n",
       "macro avg      0.766688  0.773221  0.769838  216941.000000\n",
       "weighted avg   0.833836  0.831659  0.832678  216941.000000"
      ]
     },
     "execution_count": 7,
     "metadata": {},
     "output_type": "execute_result"
    }
   ],
   "source": [
    "y_pred_trigrams_test = l_SVC_trigrams.predict(tfidf_trigrams_vector_test)\n",
    "report = classification_report(y_test, y_pred_trigrams_test, output_dict=True)\n",
    "\n",
    "report_df = pd.DataFrame(report).transpose()\n",
    "report_df"
   ]
  },
  {
   "cell_type": "markdown",
   "metadata": {},
   "source": [
    "### Hyperparameters for LinearSVC\n",
    "using trigrams tfidf vectors"
   ]
  },
  {
   "cell_type": "code",
   "execution_count": 8,
   "metadata": {},
   "outputs": [
    {
     "name": "stderr",
     "output_type": "stream",
     "text": [
      "Random Grid Search:   0%|          | 0/10 [00:00<?, ?it/s]"
     ]
    }
   ],
   "source": [
    "#RandomGridSearch\n",
    "from sklearn.model_selection import RandomizedSearchCV\n",
    "from scipy.stats import reciprocal\n",
    "from tqdm import tqdm\n",
    "from sklearn.metrics import roc_auc_score, make_scorer\n",
    "\n",
    "param_grid = {\n",
    "    'C': reciprocal(0.001, 1000),   # Rozkład odwrotnie proporcjonalny\n",
    "    'penalty': ['l1', 'l2'],        # Rodzaj regularyzacji\n",
    "    'dual': [False],                # Ustawienie na False dla dużej liczby próbek\n",
    "    'tol': [1e-3, 1e-4, 1e-5],      # Tolerancja dla kryterium stopu\n",
    "    'max_iter': [1000, 2000, 3000]  # Maksymalna liczba iteracji\n",
    "}\n",
    "\n",
    "small_tfidf_trigrams_vector_train = tfidf_trigrams_vector_train[:50000]\n",
    "small_y_train = y_train[:50000]\n",
    "\n",
    "roc_auc_scorer = make_scorer(roc_auc_score, greater_is_better=True)\n",
    "\n",
    "random = RandomizedSearchCV(estimator=l_SVC_trigrams, param_distributions=param_grid,\n",
    "                            cv=3, n_jobs=-1, n_iter=10, scoring=roc_auc_scorer)\n",
    "\n",
    "with tqdm(total=10, desc=\"Random Grid Search\") as pbar:\n",
    "    random_result = random.fit(small_tfidf_trigrams_vector_train, small_y_train)\n",
    "    pbar.update(1)\n",
    "\n",
    "print(\"Best ROC AUC score: %f using %s\" % (random_result.best_score_, random_result.best_params_))"
   ]
  },
  {
   "cell_type": "code",
   "execution_count": null,
   "metadata": {},
   "outputs": [],
   "source": [
    "#dla 1000\n",
    "#cv=3 Best ROC AUC score: 0.581979 using {'C': 1.6710219312468042, 'dual': False, 'max_iter': 2000, 'penalty': 'l1', 'tol': 0.001}\n",
    "#cv=6 Best ROC AUC score: 0.592834 using {'C': 1.8006074553463385, 'dual': False, 'max_iter': 1000, 'penalty': 'l1', 'tol': 1e-05}"
   ]
  },
  {
   "cell_type": "code",
   "execution_count": null,
   "metadata": {},
   "outputs": [],
   "source": [
    "#dla 5000\n",
    "#cv=3 Best ROC AUC score: 0.680294 using {'C': 0.41490422570295576, 'dual': False, 'max_iter': 3000, 'penalty': 'l1', 'tol': 0.0001}"
   ]
  },
  {
   "cell_type": "code",
   "execution_count": null,
   "metadata": {},
   "outputs": [],
   "source": [
    "#dla 50 000\n",
    "#cv=3 "
   ]
  },
  {
   "cell_type": "code",
   "execution_count": null,
   "metadata": {},
   "outputs": [],
   "source": [
    "#Best ROC AUC score: 0.598597 using {'C': 180.05276095382368, 'dual': False, 'max_iter': 2000, 'penalty': 'l1', 'tol': 0.001}\n",
    "#Best ROC AUC score: 0.663885 using {'C': 1.9191191218692307, 'dual': False, 'max_iter': 3000, 'penalty': 'l2', 'tol': 1e-05}"
   ]
  },
  {
   "cell_type": "code",
   "execution_count": null,
   "metadata": {},
   "outputs": [],
   "source": [
    "best_model=random_result.best_estimator_\n",
    "best_model.score(X_test, y_test)"
   ]
  },
  {
   "cell_type": "code",
   "execution_count": 6,
   "metadata": {},
   "outputs": [
    {
     "name": "stdout",
     "output_type": "stream",
     "text": [
      "Fitting 5 folds for each of 3 candidates, totalling 15 fits\n"
     ]
    },
    {
     "name": "stdout",
     "output_type": "stream",
     "text": [
      "[CV 1/5] END .............................C=0.1;, score=0.835 total time=   6.6s\n",
      "[CV 2/5] END .............................C=0.1;, score=0.832 total time=   4.1s\n",
      "[CV 3/5] END .............................C=0.1;, score=0.833 total time=   4.1s\n",
      "[CV 4/5] END .............................C=0.1;, score=0.833 total time=   4.1s\n",
      "[CV 5/5] END .............................C=0.1;, score=0.832 total time=   4.2s\n",
      "[CV 1/5] END ...............................C=1;, score=0.841 total time=  12.8s\n",
      "[CV 2/5] END ...............................C=1;, score=0.840 total time=  12.5s\n",
      "[CV 3/5] END ...............................C=1;, score=0.839 total time=  12.2s\n",
      "[CV 4/5] END ...............................C=1;, score=0.840 total time=  12.3s\n",
      "[CV 5/5] END ...............................C=1;, score=0.840 total time=  12.7s\n",
      "[CV 1/5] END ..............................C=10;, score=0.828 total time= 3.0min\n",
      "[CV 2/5] END ..............................C=10;, score=0.829 total time= 3.2min\n",
      "[CV 3/5] END ..............................C=10;, score=0.829 total time= 2.6min\n",
      "[CV 4/5] END ..............................C=10;, score=0.829 total time= 2.2min\n",
      "[CV 5/5] END ..............................C=10;, score=0.829 total time= 2.8min\n",
      "Tuned hyperparameters (best parameters):  {'C': 1}\n",
      "Accuracy: 0.84014691968771\n"
     ]
    }
   ],
   "source": [
    "# Not using gamma and kernel since we use LinearSVC instead of SVC.\n",
    "\n",
    "param_grid = {'C': [0.1, 1, 10]}\n",
    "\n",
    "linearSVC_grid = GridSearchCV(LinearSVC(), param_grid, refit=True, verbose=3)\n",
    "linearSVC_grid.fit(tfidf_trigrams_vector_train, y_train)\n",
    "\n",
    "print(\"Tuned hyperparameters (best parameters): \", linearSVC_grid.best_params_)\n",
    "print(\"Accuracy:\", linearSVC_grid.best_score_)"
   ]
  },
  {
   "cell_type": "markdown",
   "metadata": {},
   "source": [
    "## Logistic Regression"
   ]
  },
  {
   "cell_type": "code",
   "execution_count": 10,
   "metadata": {},
   "outputs": [
    {
     "name": "stdout",
     "output_type": "stream",
     "text": [
      "Train Accuracy: 85.790%\n",
      "Test Accuracy: 83.763%\n"
     ]
    }
   ],
   "source": [
    "lr=LogisticRegression(solver='sag')\n",
    "lr.fit(tfidf_vector_train,y_train)\n",
    "print(f\"Train Accuracy: {lr.score(tfidf_vector_train, y_train) * 100:.3f}%\", )\n",
    "print(f\"Test Accuracy: {lr.score(tfidf_vector_test, y_test) * 100:.3f}%\")"
   ]
  },
  {
   "cell_type": "code",
   "execution_count": 11,
   "metadata": {},
   "outputs": [
    {
     "data": {
      "text/html": [
       "<div>\n",
       "<style scoped>\n",
       "    .dataframe tbody tr th:only-of-type {\n",
       "        vertical-align: middle;\n",
       "    }\n",
       "\n",
       "    .dataframe tbody tr th {\n",
       "        vertical-align: top;\n",
       "    }\n",
       "\n",
       "    .dataframe thead th {\n",
       "        text-align: right;\n",
       "    }\n",
       "</style>\n",
       "<table border=\"1\" class=\"dataframe\">\n",
       "  <thead>\n",
       "    <tr style=\"text-align: right;\">\n",
       "      <th></th>\n",
       "      <th>precision</th>\n",
       "      <th>recall</th>\n",
       "      <th>f1-score</th>\n",
       "      <th>support</th>\n",
       "    </tr>\n",
       "  </thead>\n",
       "  <tbody>\n",
       "    <tr>\n",
       "      <th>0</th>\n",
       "      <td>0.856170</td>\n",
       "      <td>0.946271</td>\n",
       "      <td>0.898968</td>\n",
       "      <td>165589.000000</td>\n",
       "    </tr>\n",
       "    <tr>\n",
       "      <th>1</th>\n",
       "      <td>0.737505</td>\n",
       "      <td>0.487081</td>\n",
       "      <td>0.586688</td>\n",
       "      <td>51320.000000</td>\n",
       "    </tr>\n",
       "    <tr>\n",
       "      <th>accuracy</th>\n",
       "      <td>0.837628</td>\n",
       "      <td>0.837628</td>\n",
       "      <td>0.837628</td>\n",
       "      <td>0.837628</td>\n",
       "    </tr>\n",
       "    <tr>\n",
       "      <th>macro avg</th>\n",
       "      <td>0.796838</td>\n",
       "      <td>0.716676</td>\n",
       "      <td>0.742828</td>\n",
       "      <td>216909.000000</td>\n",
       "    </tr>\n",
       "    <tr>\n",
       "      <th>weighted avg</th>\n",
       "      <td>0.828094</td>\n",
       "      <td>0.837628</td>\n",
       "      <td>0.825084</td>\n",
       "      <td>216909.000000</td>\n",
       "    </tr>\n",
       "  </tbody>\n",
       "</table>\n",
       "</div>"
      ],
      "text/plain": [
       "              precision    recall  f1-score        support\n",
       "0              0.856170  0.946271  0.898968  165589.000000\n",
       "1              0.737505  0.487081  0.586688   51320.000000\n",
       "accuracy       0.837628  0.837628  0.837628       0.837628\n",
       "macro avg      0.796838  0.716676  0.742828  216909.000000\n",
       "weighted avg   0.828094  0.837628  0.825084  216909.000000"
      ]
     },
     "execution_count": 11,
     "metadata": {},
     "output_type": "execute_result"
    }
   ],
   "source": [
    "y_pred_train = lr.predict(tfidf_vector_test)\n",
    "report = classification_report(y_test, y_pred_train, output_dict=True)\n",
    "\n",
    "report_df = pd.DataFrame(report).transpose()\n",
    "report_df"
   ]
  },
  {
   "cell_type": "markdown",
   "metadata": {},
   "source": [
    "### Hyperparameters for logistic regression"
   ]
  },
  {
   "cell_type": "code",
   "execution_count": 6,
   "metadata": {},
   "outputs": [
    {
     "name": "stdout",
     "output_type": "stream",
     "text": [
      "Fitting 3 folds for each of 28 candidates, totalling 84 fits\n",
      "[CV 1/3] END C=0.001, penalty=l1, solver=liblinear;, score=0.763 total time=   2.0s\n",
      "[CV 2/3] END C=0.001, penalty=l1, solver=liblinear;, score=0.763 total time=   0.9s\n",
      "[CV 3/3] END C=0.001, penalty=l1, solver=liblinear;, score=0.763 total time=   1.1s\n",
      "[CV 1/3] END ..C=0.001, penalty=l1, solver=saga;, score=0.763 total time=   6.9s\n",
      "[CV 2/3] END ..C=0.001, penalty=l1, solver=saga;, score=0.763 total time=   7.0s\n",
      "[CV 3/3] END ..C=0.001, penalty=l1, solver=saga;, score=0.763 total time=   5.2s\n",
      "[CV 1/3] END C=0.001, penalty=l2, solver=liblinear;, score=0.763 total time=   0.7s\n",
      "[CV 2/3] END C=0.001, penalty=l2, solver=liblinear;, score=0.763 total time=   0.8s\n",
      "[CV 3/3] END C=0.001, penalty=l2, solver=liblinear;, score=0.763 total time=   0.8s\n",
      "[CV 1/3] END ..C=0.001, penalty=l2, solver=saga;, score=0.763 total time=  14.2s\n",
      "[CV 2/3] END ..C=0.001, penalty=l2, solver=saga;, score=0.763 total time=  12.9s\n",
      "[CV 3/3] END ..C=0.001, penalty=l2, solver=saga;, score=0.763 total time=   6.6s\n",
      "[CV 1/3] END C=0.01, penalty=l1, solver=liblinear;, score=0.788 total time=   1.2s\n",
      "[CV 2/3] END C=0.01, penalty=l1, solver=liblinear;, score=0.789 total time=   1.4s\n",
      "[CV 3/3] END C=0.01, penalty=l1, solver=liblinear;, score=0.788 total time=   1.4s\n",
      "[CV 1/3] END ...C=0.01, penalty=l1, solver=saga;, score=0.788 total time=   7.2s\n",
      "[CV 2/3] END ...C=0.01, penalty=l1, solver=saga;, score=0.789 total time=   7.7s\n",
      "[CV 3/3] END ...C=0.01, penalty=l1, solver=saga;, score=0.788 total time=   7.6s\n",
      "[CV 1/3] END C=0.01, penalty=l2, solver=liblinear;, score=0.785 total time=   1.1s\n",
      "[CV 2/3] END C=0.01, penalty=l2, solver=liblinear;, score=0.786 total time=   1.0s\n",
      "[CV 3/3] END C=0.01, penalty=l2, solver=liblinear;, score=0.785 total time=   1.0s\n",
      "[CV 1/3] END ...C=0.01, penalty=l2, solver=saga;, score=0.785 total time=   6.5s\n",
      "[CV 2/3] END ...C=0.01, penalty=l2, solver=saga;, score=0.786 total time=   6.8s\n",
      "[CV 3/3] END ...C=0.01, penalty=l2, solver=saga;, score=0.785 total time=   5.9s\n",
      "[CV 1/3] END C=0.1, penalty=l1, solver=liblinear;, score=0.820 total time=   2.0s\n",
      "[CV 2/3] END C=0.1, penalty=l1, solver=liblinear;, score=0.821 total time=   2.5s\n",
      "[CV 3/3] END C=0.1, penalty=l1, solver=liblinear;, score=0.821 total time=   2.0s\n",
      "[CV 1/3] END ....C=0.1, penalty=l1, solver=saga;, score=0.820 total time=  13.1s\n",
      "[CV 2/3] END ....C=0.1, penalty=l1, solver=saga;, score=0.821 total time=  13.0s\n",
      "[CV 3/3] END ....C=0.1, penalty=l1, solver=saga;, score=0.821 total time=  13.9s\n",
      "[CV 1/3] END C=0.1, penalty=l2, solver=liblinear;, score=0.822 total time=   1.9s\n",
      "[CV 2/3] END C=0.1, penalty=l2, solver=liblinear;, score=0.822 total time=   2.2s\n",
      "[CV 3/3] END C=0.1, penalty=l2, solver=liblinear;, score=0.823 total time=   1.8s\n",
      "[CV 1/3] END ....C=0.1, penalty=l2, solver=saga;, score=0.822 total time=   7.0s\n",
      "[CV 2/3] END ....C=0.1, penalty=l2, solver=saga;, score=0.822 total time=   7.5s\n",
      "[CV 3/3] END ....C=0.1, penalty=l2, solver=saga;, score=0.823 total time=   8.4s\n",
      "[CV 1/3] END C=1.0, penalty=l1, solver=liblinear;, score=0.834 total time=   3.4s\n",
      "[CV 2/3] END C=1.0, penalty=l1, solver=liblinear;, score=0.836 total time=   3.7s\n",
      "[CV 3/3] END C=1.0, penalty=l1, solver=liblinear;, score=0.835 total time=   2.7s\n",
      "[CV 1/3] END ....C=1.0, penalty=l1, solver=saga;, score=0.834 total time= 4.0min\n"
     ]
    }
   ],
   "source": [
    "grid = {\"C\": np.logspace(-3, 3, 7), \"penalty\": [\"l1\", \"l2\"], \"solver\": [\"liblinear\", \"saga\"]} # l1 lasso l2 ridge\n",
    "logreg=LogisticRegression(max_iter=100)\n",
    "logreg_cv=GridSearchCV(logreg,grid,cv=3,verbose=3,refit=True)\n",
    "logreg_cv.fit(tfidf_vector_train,y_train)\n",
    "\n",
    "print(\"tuned hpyerparameters :(best parameters) \", logreg_cv.best_params_)\n",
    "print(\"accuracy :\",logreg_cv.best_score_)"
   ]
  },
  {
   "cell_type": "markdown",
   "metadata": {},
   "source": [
    "## CNN Network - Convolutional Neural Networks"
   ]
  },
  {
   "cell_type": "markdown",
   "metadata": {},
   "source": []
  }
 ],
 "metadata": {
  "kernelspec": {
   "display_name": "base",
   "language": "python",
   "name": "python3"
  },
  "language_info": {
   "codemirror_mode": {
    "name": "ipython",
    "version": 3
   },
   "file_extension": ".py",
   "mimetype": "text/x-python",
   "name": "python",
   "nbconvert_exporter": "python",
   "pygments_lexer": "ipython3",
   "version": "3.9.12"
  }
 },
 "nbformat": 4,
 "nbformat_minor": 2
}
