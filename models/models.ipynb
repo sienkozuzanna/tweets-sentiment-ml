{
 "cells": [
  {
   "cell_type": "code",
   "execution_count": 114,
   "metadata": {},
   "outputs": [],
   "source": [
    "import pandas as pd\n",
    "import numpy as np\n",
    "import matplotlib.pyplot as plt\n",
    "\n",
    "from sklearn.model_selection import RandomizedSearchCV\n",
    "from tqdm import tqdm\n",
    "from sklearn.feature_extraction.text import TfidfVectorizer\n",
    "from scipy.stats import reciprocal\n",
    "from sklearn.svm import LinearSVC\n",
    "from sklearn.linear_model import LogisticRegression\n",
    "from gensim.models import Word2Vec\n",
    "from sklearn.metrics import classification_report\n",
    "from sklearn.model_selection import GridSearchCV\n",
    "from sklearn.model_selection import ParameterGrid\n",
    "from sklearn.tree import DecisionTreeClassifier\n",
    "from sklearn.linear_model import LogisticRegression\n",
    "from sklearn.naive_bayes import MultinomialNB\n",
    "from lightgbm import LGBMClassifier\n",
    "from xgboost import XGBClassifier\n",
    "from sklearn.metrics import accuracy_score, precision_score, recall_score, f1_score, roc_auc_score, confusion_matrix, auc, roc_curve, make_scorer\n",
    "import joblib\n",
    "from sklearn.feature_extraction.text import CountVectorizer\n",
    "from nltk.tokenize import word_tokenize\n",
    "from sklearn.pipeline import Pipeline\n",
    "from sklearn.preprocessing import StandardScaler\n",
    "from sklearn.compose import ColumnTransformer\n",
    "from skopt import gp_minimize\n",
    "from skopt.space import Real, Categorical\n",
    "from tqdm import tqdm\n",
    "from sklearn.model_selection import StratifiedKFold\n",
    "from skopt import BayesSearchCV\n",
    "\n",
    "import warnings\n",
    "warnings.filterwarnings(\"ignore\")"
   ]
  },
  {
   "cell_type": "code",
   "execution_count": 2,
   "metadata": {},
   "outputs": [],
   "source": [
    "processed_train_data=pd.read_csv('../data/processed data/processed_train_data.csv', encoding='ISO-8859-1')\n",
    "processed_test_data=pd.read_csv('../data/processed data/processed_val_data.csv', encoding='ISO-8859-1')"
   ]
  },
  {
   "cell_type": "code",
   "execution_count": 3,
   "metadata": {},
   "outputs": [],
   "source": [
    "X_train=processed_train_data.drop('target', axis=1)\n",
    "y_train=processed_train_data['target']\n",
    "X_test=processed_test_data.drop('target',axis=1)\n",
    "y_test=processed_test_data['target']"
   ]
  },
  {
   "cell_type": "code",
   "execution_count": 4,
   "metadata": {},
   "outputs": [
    {
     "data": {
      "text/plain": [
       "((505612, 3), (216619, 3), (505612,), (216619,))"
      ]
     },
     "execution_count": 4,
     "metadata": {},
     "output_type": "execute_result"
    }
   ],
   "source": [
    "X_train.shape, X_test.shape, y_train.shape, y_test.shape"
   ]
  },
  {
   "cell_type": "code",
   "execution_count": 5,
   "metadata": {},
   "outputs": [
    {
     "data": {
      "text/plain": [
       "(                                                text  polarity  contains_not\n",
       " 0  really bore nothing not want tomoz lazy nothin... -0.656250             1\n",
       " 1  run hrs sleep whoo hoo lol come around head ho...  1.000000             0\n",
       " 2  think reality finally set nowin day half heart... -0.153472             0\n",
       " 3                              explore twitter world  0.000000             0\n",
       " 4                                  hungover make day  0.000000             0,\n",
       " 0    0\n",
       " 1    1\n",
       " 2    0\n",
       " 3    1\n",
       " 4    0\n",
       " Name: target, dtype: int64)"
      ]
     },
     "execution_count": 5,
     "metadata": {},
     "output_type": "execute_result"
    }
   ],
   "source": [
    "X_train.head(), y_train.head()"
   ]
  },
  {
   "cell_type": "markdown",
   "metadata": {},
   "source": [
    "# Features for models"
   ]
  },
  {
   "cell_type": "markdown",
   "metadata": {},
   "source": [
    "## Bag of words"
   ]
  },
  {
   "cell_type": "code",
   "execution_count": 11,
   "metadata": {},
   "outputs": [],
   "source": [
    "count_vectorizer = CountVectorizer(max_df=0.8)\n",
    "count_train = count_vectorizer.fit_transform(X_train['text']).astype('float32')\n",
    "count_test = count_vectorizer.transform(X_test['text']).astype('float32')"
   ]
  },
  {
   "cell_type": "markdown",
   "metadata": {},
   "source": [
    "## TF-IDF"
   ]
  },
  {
   "cell_type": "code",
   "execution_count": 5,
   "metadata": {},
   "outputs": [],
   "source": [
    "tfidf = TfidfVectorizer(norm='l2')\n",
    "tfidf_vector_train=tfidf.fit_transform(X_train['text'])\n",
    "tfidf_vector_test = tfidf.transform(X_test['text'])\n",
    "\n",
    "tfidf_biagrams = TfidfVectorizer(ngram_range=(1, 2),norm='l2')\n",
    "tfidf_biagrams_vector_train=tfidf_biagrams.fit_transform(X_train['text'])\n",
    "tfidf_biagram_vector_test = tfidf_biagrams.transform(X_test['text'])\n",
    "\n",
    "\n",
    "tfidf_trigrams = TfidfVectorizer(ngram_range=(1, 3),norm='l2')\n",
    "tfidf_trigrams_vector_train=tfidf_trigrams.fit_transform(X_train['text'])\n",
    "tfidf_trigrams_vector_test = tfidf_trigrams.transform(X_test['text'])"
   ]
  },
  {
   "cell_type": "code",
   "execution_count": 7,
   "metadata": {},
   "outputs": [
    {
     "name": "stdout",
     "output_type": "stream",
     "text": [
      "  (0, 50931)\t0.31352684174137296\n",
      "  (0, 82647)\t0.23266635722882933\n",
      "  (0, 79371)\t0.3622244908924406\n",
      "  (0, 144657)\t0.4650906585220032\n",
      "  (0, 155327)\t0.19125824123932605\n",
      "  (0, 99000)\t0.12743938740434393\n",
      "  (0, 99090)\t0.5700679234159668\n",
      "  (0, 17910)\t0.276934396103799\n",
      "  (0, 115796)\t0.21344969879975353\n",
      "  (1, 30657)\t0.2936496196756181\n",
      "  (1, 95247)\t0.2961765890801822\n",
      "  (1, 58527)\t0.24278231045931017\n",
      "  (1, 64368)\t0.19335152733216548\n",
      "  (1, 61352)\t0.23712170188258969\n",
      "  (1, 7973)\t0.26071005898521393\n",
      "  (1, 28385)\t0.19264203330271082\n",
      "  (1, 82126)\t0.19063176577744953\n",
      "  (1, 64887)\t0.3594132389115824\n",
      "  (1, 158279)\t0.41324509555658345\n",
      "  (1, 128743)\t0.2017864126421686\n",
      "  (1, 65966)\t0.3573677300382783\n",
      "  (1, 120471)\t0.2523778317665004\n",
      "  (2, 91729)\t0.233639827137946\n",
      "  (2, 10862)\t0.2215796981934975\n",
      "  (2, 90271)\t0.1507237524489683\n",
      "  :\t:\n",
      "  (505609, 52601)\t0.26382387436537597\n",
      "  (505609, 81346)\t0.2432440228958278\n",
      "  (505609, 160224)\t0.14863428697180106\n",
      "  (505609, 55845)\t0.1416464919746426\n",
      "  (505610, 161988)\t0.5444313582236552\n",
      "  (505610, 109142)\t0.3709155119335114\n",
      "  (505610, 145596)\t0.28961540184392115\n",
      "  (505610, 33779)\t0.2916161611650753\n",
      "  (505610, 158131)\t0.3070854059425952\n",
      "  (505610, 136930)\t0.23646970246392712\n",
      "  (505610, 24861)\t0.25264199267412013\n",
      "  (505610, 36835)\t0.35768704757043573\n",
      "  (505610, 85101)\t0.1782145233322163\n",
      "  (505610, 33955)\t0.1528114172342338\n",
      "  (505611, 148470)\t0.4805519752314351\n",
      "  (505611, 123500)\t0.43098592794034063\n",
      "  (505611, 20410)\t0.3164375084078087\n",
      "  (505611, 158054)\t0.31887838502128185\n",
      "  (505611, 124708)\t0.3350665875780134\n",
      "  (505611, 147815)\t0.27561801321404966\n",
      "  (505611, 24417)\t0.2275006658814846\n",
      "  (505611, 95104)\t0.24018874814368643\n",
      "  (505611, 48722)\t0.1837143301303072\n",
      "  (505611, 160224)\t0.1361096326067248\n",
      "  (505611, 148545)\t0.17761172721218907\n"
     ]
    }
   ],
   "source": [
    "print(tfidf_vector_train)"
   ]
  },
  {
   "cell_type": "markdown",
   "metadata": {},
   "source": [
    "## Word Embeddings"
   ]
  },
  {
   "cell_type": "code",
   "execution_count": 6,
   "metadata": {},
   "outputs": [],
   "source": [
    "tokenized_sentences = [word_tokenize(text) for text in X_train['text']]\n",
    "\n",
    "model = Word2Vec(tokenized_sentences, vector_size=100, window=7, min_count=5, sg=1)\n",
    "\n",
    "def text_to_vector(text, embedding_model, embedding_dim):\n",
    "    words = text.split()\n",
    "    vectors = []\n",
    "    for word in words:\n",
    "        if word in embedding_model.wv:\n",
    "            vectors.append(embedding_model.wv[word])\n",
    "    if not vectors:\n",
    "        return np.zeros(embedding_dim)\n",
    "    avg_vector = np.mean(vectors, axis=0)\n",
    "    return avg_vector\n",
    "\n",
    "embedding_dim = 10\n",
    "\n",
    "word2vec_vector = X_train['text'].apply(lambda x: text_to_vector(x, model, embedding_dim))\n",
    "word2vec_vector_test = X_test['text'].apply(lambda x: text_to_vector(x, model, embedding_dim))"
   ]
  },
  {
   "cell_type": "code",
   "execution_count": 7,
   "metadata": {},
   "outputs": [],
   "source": [
    "max_length = 100\n",
    "\n",
    "def pad_or_truncate_sequences(sequences, max_length):\n",
    "    padded_sequences = []\n",
    "    for seq in sequences:\n",
    "        if len(seq) < max_length:\n",
    "            padded_seq = np.pad(seq, (0, max_length - len(seq)), mode='constant')\n",
    "        else:\n",
    "            padded_seq = seq[:max_length]\n",
    "        padded_sequences.append(padded_seq)\n",
    "    return np.array(padded_sequences)\n",
    "\n",
    "X_train_w2v_pad = pad_or_truncate_sequences(word2vec_vector, max_length)\n",
    "X_test_w2v_pad = pad_or_truncate_sequences(word2vec_vector_test, max_length)"
   ]
  },
  {
   "cell_type": "markdown",
   "metadata": {},
   "source": [
    "# Basic Models"
   ]
  },
  {
   "cell_type": "code",
   "execution_count": 62,
   "metadata": {},
   "outputs": [],
   "source": [
    "numeric_features = ['contains_not', 'polarity']\n",
    "text_feature = 'text'"
   ]
  },
  {
   "cell_type": "code",
   "execution_count": 63,
   "metadata": {},
   "outputs": [],
   "source": [
    "def model_classification_reports(models, X_train, y_train, X_test, y_test):\n",
    "    reports = {}\n",
    "    for model_name, model in models.items():\n",
    "        model.fit(X_train, y_train)\n",
    "        y_pred = model.predict(X_test)\n",
    "        report = classification_report(y_test, y_pred, output_dict=True)\n",
    "        roc_auc = roc_auc_score(y_test, y_pred)\n",
    "        report['roc_auc'] = roc_auc\n",
    "        reports[model_name] = report\n",
    "    return reports"
   ]
  },
  {
   "cell_type": "code",
   "execution_count": 64,
   "metadata": {},
   "outputs": [],
   "source": [
    "def print_classification_reports(reports):\n",
    "    for model_name, report in reports.items():\n",
    "        print(model_name.upper())\n",
    "        print('==================================')\n",
    "\n",
    "        print('Model Performance for Test Set:')\n",
    "        print('- Accuracy: {:.4f}'.format(report['accuracy']))\n",
    "        print('- F1 Score: {:.4f}'.format(report['weighted avg']['f1-score']))\n",
    "        print('- Precision: {:.4f}'.format(report['weighted avg']['precision']))\n",
    "        print('- Recall: {:.4f}'.format(report['weighted avg']['recall']))\n",
    "        print('- ROC AUC Score: {:.4f}'.format(report['roc_auc']))\n",
    "\n",
    "        print('==================================')\n",
    "        print('\\n')\n"
   ]
  },
  {
   "cell_type": "markdown",
   "metadata": {},
   "source": [
    "### bag of words"
   ]
  },
  {
   "cell_type": "code",
   "execution_count": 123,
   "metadata": {},
   "outputs": [],
   "source": [
    "preprocessor = ColumnTransformer(\n",
    "    transformers=[\n",
    "        ('num', StandardScaler(), numeric_features),\n",
    "        ('text', CountVectorizer(max_df=0.8), text_feature)])"
   ]
  },
  {
   "cell_type": "code",
   "execution_count": 67,
   "metadata": {},
   "outputs": [
    {
     "name": "stdout",
     "output_type": "stream",
     "text": [
      "[LightGBM] [Info] Number of positive: 119507, number of negative: 386105\n",
      "[LightGBM] [Info] Auto-choosing row-wise multi-threading, the overhead of testing was 12.299360 seconds.\n",
      "You can set `force_row_wise=true` to remove the overhead.\n",
      "And if memory is not enough, you can set `force_col_wise=true`.\n",
      "[LightGBM] [Info] Total Bins 23811\n",
      "[LightGBM] [Info] Number of data points in the train set: 505612, number of used features: 9847\n",
      "[LightGBM] [Info] [binary:BoostFromScore]: pavg=0.236361 -> initscore=-1.172734\n",
      "[LightGBM] [Info] Start training from score -1.172734\n",
      "LINEARSVC\n",
      "==================================\n",
      "Model Performance for Test Set:\n",
      "- Accuracy: 0.8245\n",
      "- F1 Score: 0.8141\n",
      "- Precision: 0.8130\n",
      "- Recall: 0.8245\n",
      "- ROC AUC Score: 0.7096\n",
      "==================================\n",
      "\n",
      "\n",
      "LOGISTICREGRESSION\n",
      "==================================\n",
      "Model Performance for Test Set:\n",
      "- Accuracy: 0.8319\n",
      "- F1 Score: 0.8209\n",
      "- Precision: 0.8212\n",
      "- Recall: 0.8319\n",
      "- ROC AUC Score: 0.7161\n",
      "==================================\n",
      "\n",
      "\n",
      "LGBMCLASSIFIER\n",
      "==================================\n",
      "Model Performance for Test Set:\n",
      "- Accuracy: 0.8176\n",
      "- F1 Score: 0.7959\n",
      "- Precision: 0.8046\n",
      "- Recall: 0.8176\n",
      "- ROC AUC Score: 0.6668\n",
      "==================================\n",
      "\n",
      "\n",
      "XGBCLASSIFIER\n",
      "==================================\n",
      "Model Performance for Test Set:\n",
      "- Accuracy: 0.8152\n",
      "- F1 Score: 0.7915\n",
      "- Precision: 0.8020\n",
      "- Recall: 0.8152\n",
      "- ROC AUC Score: 0.6591\n",
      "==================================\n",
      "\n",
      "\n",
      "DECISIONTREECLASSIFIER\n",
      "==================================\n",
      "Model Performance for Test Set:\n",
      "- Accuracy: 0.7635\n",
      "- F1 Score: 0.6615\n",
      "- Precision: 0.7232\n",
      "- Recall: 0.7635\n",
      "- ROC AUC Score: 0.5004\n",
      "==================================\n",
      "\n",
      "\n"
     ]
    }
   ],
   "source": [
    "models_to_test = {\n",
    "    'LinearSVC': Pipeline(steps=[('preprocessor', preprocessor), ('classifier', LinearSVC())]),\n",
    "    'LogisticRegression': Pipeline(steps=[('preprocessor', preprocessor), ('classifier', LogisticRegression())]),\n",
    "    'LGBMClassifier': Pipeline(steps=[('preprocessor', preprocessor), ('classifier', LGBMClassifier())]),\n",
    "    'XGBClassifier': Pipeline(steps=[('preprocessor', preprocessor), ('classifier', XGBClassifier(objective='binary:logistic',\n",
    "                                   eval_metric='logloss',\n",
    "                                   n_estimators=100,\n",
    "                                   max_depth=5))] ),\n",
    "    'DecisionTreeClassifier': Pipeline(steps=[('preprocessor', preprocessor), ('classifier', DecisionTreeClassifier(max_depth=10,\n",
    "                                                      min_samples_split=10,\n",
    "                                                      min_samples_leaf=5,\n",
    "                                                      max_features='sqrt',\n",
    "                                                      criterion='gini'))])\n",
    "}\n",
    "\n",
    "reports = model_classification_reports(models_to_test, X_train, y_train, X_test, y_test)\n",
    "print_classification_reports(reports)\n"
   ]
  },
  {
   "cell_type": "markdown",
   "metadata": {},
   "source": [
    "### Bayes optimization for Logistic Regression"
   ]
  },
  {
   "cell_type": "code",
   "execution_count": 74,
   "metadata": {},
   "outputs": [
    {
     "name": "stderr",
     "output_type": "stream",
     "text": [
      "Optimizing:   5%|▌         | 1/20 [05:05<1:36:50, 305.82s/it]"
     ]
    },
    {
     "name": "stdout",
     "output_type": "stream",
     "text": [
      "Best parameters: [79.65429888948032, 'newton-cg']\n",
      "Best ROC AUC: 0.9422327922148419\n"
     ]
    },
    {
     "name": "stderr",
     "output_type": "stream",
     "text": [
      "\n"
     ]
    }
   ],
   "source": [
    "model = Pipeline(steps=[('preprocessor', preprocessor),\n",
    "                        ('classifier', LogisticRegression())])\n",
    "\n",
    "space = [\n",
    "    Real(1e-6, 100.0, name='classifier__C'),\n",
    "    Categorical(['newton-cg', 'lbfgs', 'liblinear', 'sag', 'saga'], name='classifier__solver')\n",
    "]\n",
    "\n",
    "def objective(params):\n",
    "    model.set_params(**{'classifier__C': params[0], 'classifier__solver': params[1]})\n",
    "    model.fit(X_train, y_train)\n",
    "    y_pred_proba = model.predict_proba(X_train)[:, 1]\n",
    "    roc_auc = roc_auc_score(y_train, y_pred_proba)\n",
    "    return -roc_auc\n",
    "\n",
    "n_calls = 20\n",
    "with tqdm(total=n_calls, desc=\"Optimizing\", position=0) as pbar:\n",
    "    result = gp_minimize(objective, space, n_calls=n_calls, random_state=42, callback=lambda _: pbar.update(1))\n",
    "\n",
    "best_params = result.x\n",
    "best_score = -result.fun\n",
    "print(\"Best parameters:\", best_params)\n",
    "print(\"Best ROC AUC:\", best_score)\n"
   ]
  },
  {
   "cell_type": "code",
   "execution_count": 76,
   "metadata": {},
   "outputs": [
    {
     "name": "stdout",
     "output_type": "stream",
     "text": [
      "Accuracy: 0.7729192730092929\n",
      "Precision: 0.5143648030868598\n",
      "Recall: 0.7179627280710313\n",
      "F1 Score: 0.5993451382214475\n",
      "ROC AUC: 0.8167890780465934\n",
      "Confusion Matrix:\n",
      "[[130637  34737]\n",
      " [ 14453  36792]]\n"
     ]
    }
   ],
   "source": [
    "best_C = 79.65429888948032\n",
    "best_solver = 'newton-cg'\n",
    "\n",
    "best_model = Pipeline(steps=[('preprocessor', preprocessor),\n",
    "                        ('classifier', LogisticRegression(C=best_C, solver=best_solver, class_weight='balanced'))])\n",
    "\n",
    "best_model.fit(X_train, y_train)\n",
    "\n",
    "y_pred = best_model.predict(X_test)\n",
    "y_pred_proba = best_model.predict_proba(X_test)[:, 1]\n",
    "\n",
    "print(\"Accuracy:\", accuracy_score(y_test, y_pred))\n",
    "print(\"Precision:\", precision_score(y_test, y_pred))\n",
    "print(\"Recall:\", recall_score(y_test, y_pred))\n",
    "print(\"F1 Score:\", f1_score(y_test, y_pred))\n",
    "print(\"ROC AUC:\", roc_auc_score(y_test, y_pred_proba))\n",
    "\n",
    "conf_matrix = confusion_matrix(y_test, y_pred)\n",
    "print(\"Confusion Matrix:\")\n",
    "print(conf_matrix)"
   ]
  },
  {
   "cell_type": "code",
   "execution_count": 77,
   "metadata": {},
   "outputs": [
    {
     "data": {
      "image/png": "[encoded data removed]",
      "text/plain": [
       "<Figure size 432x288 with 1 Axes>"
      ]
     },
     "metadata": {
      "needs_background": "light"
     },
     "output_type": "display_data"
    }
   ],
   "source": [
    "fpr, tpr, thresholds = roc_curve(y_test, y_pred_proba)\n",
    "roc_auc = auc(fpr, tpr)\n",
    "\n",
    "plt.figure() \n",
    "plt.plot(fpr, tpr, label='ROC curve (area = %0.2f)' % roc_auc)\n",
    "plt.plot([0, 1], [0, 1], 'k--', label='No Skill')\n",
    "plt.xlim([0.0, 1.0])\n",
    "plt.ylim([0.0, 1.05])\n",
    "plt.xlabel('False Positive Rate')\n",
    "plt.ylabel('True Positive Rate')\n",
    "plt.title('ROC Curve for Tweets Sentiment Prediction')\n",
    "plt.legend()\n",
    "plt.show()"
   ]
  },
  {
   "cell_type": "markdown",
   "metadata": {},
   "source": [
    "### tfidf trigrams models"
   ]
  },
  {
   "cell_type": "code",
   "execution_count": 124,
   "metadata": {},
   "outputs": [],
   "source": [
    "tfidf_preprocessor = ColumnTransformer(\n",
    "    transformers=[\n",
    "        ('num', StandardScaler(), numeric_features),\n",
    "        ('text', TfidfVectorizer(ngram_range=(1, 3)), text_feature)])"
   ]
  },
  {
   "cell_type": "code",
   "execution_count": 125,
   "metadata": {},
   "outputs": [
    {
     "name": "stdout",
     "output_type": "stream",
     "text": [
      "[LightGBM] [Info] Number of positive: 119507, number of negative: 386105\n",
      "[LightGBM] [Info] Auto-choosing row-wise multi-threading, the overhead of testing was 100.465971 seconds.\n",
      "You can set `force_row_wise=true` to remove the overhead.\n",
      "And if memory is not enough, you can set `force_col_wise=true`.\n",
      "[LightGBM] [Info] Total Bins 409868\n",
      "[LightGBM] [Info] Number of data points in the train set: 505612, number of used features: 29111\n",
      "[LightGBM] [Info] [binary:BoostFromScore]: pavg=0.236361 -> initscore=-1.172734\n",
      "[LightGBM] [Info] Start training from score -1.172734\n",
      "LINEARSVC\n",
      "==================================\n",
      "Model Performance for Test Set:\n",
      "- Accuracy: 0.8417\n",
      "- F1 Score: 0.8347\n",
      "- Precision: 0.8335\n",
      "- Recall: 0.8417\n",
      "- ROC AUC Score: 0.7439\n",
      "==================================\n",
      "\n",
      "\n",
      "LOGISTICREGRESSION\n",
      "==================================\n",
      "Model Performance for Test Set:\n",
      "- Accuracy: 0.8419\n",
      "- F1 Score: 0.8331\n",
      "- Precision: 0.8331\n",
      "- Recall: 0.8419\n",
      "- ROC AUC Score: 0.7361\n",
      "==================================\n",
      "\n",
      "\n",
      "LGBMCLASSIFIER\n",
      "==================================\n",
      "Model Performance for Test Set:\n",
      "- Accuracy: 0.8198\n",
      "- F1 Score: 0.8007\n",
      "- Precision: 0.8069\n",
      "- Recall: 0.8198\n",
      "- ROC AUC Score: 0.6761\n",
      "==================================\n",
      "\n",
      "\n",
      "XGBCLASSIFIER\n",
      "==================================\n",
      "Model Performance for Test Set:\n",
      "- Accuracy: 0.8167\n",
      "- F1 Score: 0.7962\n",
      "- Precision: 0.8030\n",
      "- Recall: 0.8167\n",
      "- ROC AUC Score: 0.6690\n",
      "==================================\n",
      "\n",
      "\n",
      "DECISIONTREECLASSIFIER\n",
      "==================================\n",
      "Model Performance for Test Set:\n",
      "- Accuracy: 0.7635\n",
      "- F1 Score: 0.6612\n",
      "- Precision: 0.7371\n",
      "- Recall: 0.7635\n",
      "- ROC AUC Score: 0.5001\n",
      "==================================\n",
      "\n",
      "\n"
     ]
    }
   ],
   "source": [
    "models_to_test = {\n",
    "    'LinearSVC': Pipeline(steps=[('preprocessor', tfidf_preprocessor), ('classifier', LinearSVC())]),\n",
    "    'LogisticRegression': Pipeline(steps=[('preprocessor', tfidf_preprocessor), ('classifier', LogisticRegression())]),\n",
    "    'LGBMClassifier': Pipeline(steps=[('preprocessor', tfidf_preprocessor), ('classifier', LGBMClassifier())]),\n",
    "    'XGBClassifier': Pipeline(steps=[('preprocessor', tfidf_preprocessor), ('classifier', XGBClassifier(objective='binary:logistic',\n",
    "                                   eval_metric='logloss',\n",
    "                                   n_estimators=100,\n",
    "                                   max_depth=5))] ),\n",
    "    'DecisionTreeClassifier': Pipeline(steps=[('preprocessor', tfidf_preprocessor), ('classifier', DecisionTreeClassifier(max_depth=10,\n",
    "                                                      min_samples_split=10,\n",
    "                                                      min_samples_leaf=5,\n",
    "                                                      max_features='sqrt',\n",
    "                                                      criterion='gini'))])\n",
    "}\n",
    "\n",
    "tfidf_reports = model_classification_reports(models_to_test, X_train, y_train, X_test, y_test)\n",
    "print_classification_reports(tfidf_reports)\n"
   ]
  },
  {
   "cell_type": "markdown",
   "metadata": {},
   "source": [
    "### Linear SVC for TF-IDF"
   ]
  },
  {
   "cell_type": "code",
   "execution_count": 127,
   "metadata": {},
   "outputs": [
    {
     "data": {
      "text/plain": [
       "LinearSVC()"
      ]
     },
     "execution_count": 127,
     "metadata": {},
     "output_type": "execute_result"
    }
   ],
   "source": [
    "l_SVC=LinearSVC()\n",
    "l_SVC.fit(tfidf_vector_train,y_train)"
   ]
  },
  {
   "cell_type": "code",
   "execution_count": 128,
   "metadata": {},
   "outputs": [
    {
     "data": {
      "text/html": [
       "<div>\n",
       "<style scoped>\n",
       "    .dataframe tbody tr th:only-of-type {\n",
       "        vertical-align: middle;\n",
       "    }\n",
       "\n",
       "    .dataframe tbody tr th {\n",
       "        vertical-align: top;\n",
       "    }\n",
       "\n",
       "    .dataframe thead th {\n",
       "        text-align: right;\n",
       "    }\n",
       "</style>\n",
       "<table border=\"1\" class=\"dataframe\">\n",
       "  <thead>\n",
       "    <tr style=\"text-align: right;\">\n",
       "      <th></th>\n",
       "      <th>precision</th>\n",
       "      <th>recall</th>\n",
       "      <th>f1-score</th>\n",
       "      <th>support</th>\n",
       "    </tr>\n",
       "  </thead>\n",
       "  <tbody>\n",
       "    <tr>\n",
       "      <th>0</th>\n",
       "      <td>0.856212</td>\n",
       "      <td>0.934065</td>\n",
       "      <td>0.893445</td>\n",
       "      <td>165374.000000</td>\n",
       "    </tr>\n",
       "    <tr>\n",
       "      <th>1</th>\n",
       "      <td>0.698851</td>\n",
       "      <td>0.493785</td>\n",
       "      <td>0.578688</td>\n",
       "      <td>51245.000000</td>\n",
       "    </tr>\n",
       "    <tr>\n",
       "      <th>accuracy</th>\n",
       "      <td>0.829909</td>\n",
       "      <td>0.829909</td>\n",
       "      <td>0.829909</td>\n",
       "      <td>0.829909</td>\n",
       "    </tr>\n",
       "    <tr>\n",
       "      <th>macro avg</th>\n",
       "      <td>0.777531</td>\n",
       "      <td>0.713925</td>\n",
       "      <td>0.736067</td>\n",
       "      <td>216619.000000</td>\n",
       "    </tr>\n",
       "    <tr>\n",
       "      <th>weighted avg</th>\n",
       "      <td>0.818985</td>\n",
       "      <td>0.829909</td>\n",
       "      <td>0.818984</td>\n",
       "      <td>216619.000000</td>\n",
       "    </tr>\n",
       "  </tbody>\n",
       "</table>\n",
       "</div>"
      ],
      "text/plain": [
       "              precision    recall  f1-score        support\n",
       "0              0.856212  0.934065  0.893445  165374.000000\n",
       "1              0.698851  0.493785  0.578688   51245.000000\n",
       "accuracy       0.829909  0.829909  0.829909       0.829909\n",
       "macro avg      0.777531  0.713925  0.736067  216619.000000\n",
       "weighted avg   0.818985  0.829909  0.818984  216619.000000"
      ]
     },
     "execution_count": 128,
     "metadata": {},
     "output_type": "execute_result"
    }
   ],
   "source": [
    "y_pred_test = l_SVC.predict(tfidf_vector_test)\n",
    "report = classification_report(y_test, y_pred_test, output_dict=True)\n",
    "\n",
    "report_df = pd.DataFrame(report).transpose()\n",
    "report_df"
   ]
  },
  {
   "cell_type": "markdown",
   "metadata": {},
   "source": [
    "### Using trigrams"
   ]
  },
  {
   "cell_type": "code",
   "execution_count": 129,
   "metadata": {},
   "outputs": [
    {
     "data": {
      "text/plain": [
       "LinearSVC(class_weight='balanced')"
      ]
     },
     "execution_count": 129,
     "metadata": {},
     "output_type": "execute_result"
    }
   ],
   "source": [
    "l_SVC_trigrams=LinearSVC(class_weight='balanced')\n",
    "l_SVC_trigrams.fit(tfidf_trigrams_vector_train,y_train)"
   ]
  },
  {
   "cell_type": "code",
   "execution_count": 130,
   "metadata": {},
   "outputs": [
    {
     "data": {
      "text/html": [
       "<div>\n",
       "<style scoped>\n",
       "    .dataframe tbody tr th:only-of-type {\n",
       "        vertical-align: middle;\n",
       "    }\n",
       "\n",
       "    .dataframe tbody tr th {\n",
       "        vertical-align: top;\n",
       "    }\n",
       "\n",
       "    .dataframe thead th {\n",
       "        text-align: right;\n",
       "    }\n",
       "</style>\n",
       "<table border=\"1\" class=\"dataframe\">\n",
       "  <thead>\n",
       "    <tr style=\"text-align: right;\">\n",
       "      <th></th>\n",
       "      <th>precision</th>\n",
       "      <th>recall</th>\n",
       "      <th>f1-score</th>\n",
       "      <th>support</th>\n",
       "    </tr>\n",
       "  </thead>\n",
       "  <tbody>\n",
       "    <tr>\n",
       "      <th>0</th>\n",
       "      <td>0.893035</td>\n",
       "      <td>0.880048</td>\n",
       "      <td>0.886494</td>\n",
       "      <td>165374.000000</td>\n",
       "    </tr>\n",
       "    <tr>\n",
       "      <th>1</th>\n",
       "      <td>0.630252</td>\n",
       "      <td>0.659830</td>\n",
       "      <td>0.644702</td>\n",
       "      <td>51245.000000</td>\n",
       "    </tr>\n",
       "    <tr>\n",
       "      <th>accuracy</th>\n",
       "      <td>0.827951</td>\n",
       "      <td>0.827951</td>\n",
       "      <td>0.827951</td>\n",
       "      <td>0.827951</td>\n",
       "    </tr>\n",
       "    <tr>\n",
       "      <th>macro avg</th>\n",
       "      <td>0.761643</td>\n",
       "      <td>0.769939</td>\n",
       "      <td>0.765598</td>\n",
       "      <td>216619.000000</td>\n",
       "    </tr>\n",
       "    <tr>\n",
       "      <th>weighted avg</th>\n",
       "      <td>0.830869</td>\n",
       "      <td>0.827951</td>\n",
       "      <td>0.829294</td>\n",
       "      <td>216619.000000</td>\n",
       "    </tr>\n",
       "  </tbody>\n",
       "</table>\n",
       "</div>"
      ],
      "text/plain": [
       "              precision    recall  f1-score        support\n",
       "0              0.893035  0.880048  0.886494  165374.000000\n",
       "1              0.630252  0.659830  0.644702   51245.000000\n",
       "accuracy       0.827951  0.827951  0.827951       0.827951\n",
       "macro avg      0.761643  0.769939  0.765598  216619.000000\n",
       "weighted avg   0.830869  0.827951  0.829294  216619.000000"
      ]
     },
     "execution_count": 130,
     "metadata": {},
     "output_type": "execute_result"
    }
   ],
   "source": [
    "y_pred_trigrams_test = l_SVC_trigrams.predict(tfidf_trigrams_vector_test)\n",
    "report = classification_report(y_test, y_pred_trigrams_test, output_dict=True)\n",
    "\n",
    "report_df = pd.DataFrame(report).transpose()\n",
    "report_df"
   ]
  },
  {
   "cell_type": "markdown",
   "metadata": {},
   "source": [
    "### Bayes optimization for LinearSVC"
   ]
  },
  {
   "cell_type": "code",
   "execution_count": null,
   "metadata": {},
   "outputs": [],
   "source": [
    "#TO RUN\n",
    "\n",
    "tfidf_model = Pipeline(steps=[('preprocessor', tfidf_preprocessor),\n",
    "                        ('classifier', LinearSVC())])\n",
    "\n",
    "opt = BayesSearchCV(\n",
    "    estimator=tfidf_model,\n",
    "    search_spaces={\n",
    "        #'classifier__C': reciprocal(0.001, 1000),\n",
    "        'classifier__penalty': ['l1', 'l2'],\n",
    "        'classifier__dual': [False],\n",
    "        'classifier__tol': [1e-3, 1e-4, 1e-5],\n",
    "        'classifier__max_iter': [1000, 2000, 3000]\n",
    "    },\n",
    "    n_iter=20,\n",
    "    cv=StratifiedKFold(n_splits=5),\n",
    "    random_state=42,\n",
    "    n_jobs=-1\n",
    ")\n",
    "\n",
    "opt.fit(X_train, y_train)\n",
    "print(\"Best parameters:\", opt.best_params_)\n",
    "print(\"Best ROC AUC:\", opt.best_score_)"
   ]
  },
  {
   "cell_type": "markdown",
   "metadata": {},
   "source": [
    "### Hyperparameters for LinearSVC\n",
    "using trigrams tfidf vectors"
   ]
  },
  {
   "cell_type": "code",
   "execution_count": 131,
   "metadata": {},
   "outputs": [
    {
     "name": "stderr",
     "output_type": "stream",
     "text": [
      "Random Grid Search:  10%|█         | 1/10 [06:52<1:01:50, 412.26s/it]"
     ]
    },
    {
     "name": "stdout",
     "output_type": "stream",
     "text": [
      "Best ROC AUC score: 0.749679 using {'C': 0.23929968493964868, 'dual': False, 'max_iter': 2000, 'penalty': 'l1', 'tol': 0.0001}\n"
     ]
    },
    {
     "name": "stderr",
     "output_type": "stream",
     "text": [
      "\n"
     ]
    }
   ],
   "source": [
    "#RandomGridSearch\n",
    "\n",
    "param_grid = {\n",
    "    'C': reciprocal(0.001, 1000),\n",
    "    'penalty': ['l1', 'l2'],\n",
    "    'dual': [False],\n",
    "    'tol': [1e-3, 1e-4, 1e-5],\n",
    "    'max_iter': [1000, 2000, 3000]\n",
    "}\n",
    "\n",
    "#small_tfidf_trigrams_vector_train = tfidf_trigrams_vector_train\n",
    "#small_y_train = y_train\n",
    "\n",
    "roc_auc_scorer = make_scorer(roc_auc_score, greater_is_better=True)\n",
    "\n",
    "random = RandomizedSearchCV(estimator=l_SVC_trigrams, param_distributions=param_grid,\n",
    "                            cv=3, n_jobs=-1, n_iter=10, scoring=roc_auc_scorer)\n",
    "\n",
    "with tqdm(total=10, desc=\"Random Grid Search\") as pbar:\n",
    "    random_result = random.fit(tfidf_biagrams_vector_train, y_train)\n",
    "    pbar.update(1)\n",
    "\n",
    "print(\"Best ROC AUC score: %f using %s\" % (random_result.best_score_, random_result.best_params_))"
   ]
  },
  {
   "cell_type": "code",
   "execution_count": null,
   "metadata": {},
   "outputs": [],
   "source": [
    "best_model=random_result.best_estimator_\n",
    "best_model.score(X_test, y_test)"
   ]
  },
  {
   "cell_type": "code",
   "execution_count": 6,
   "metadata": {},
   "outputs": [
    {
     "name": "stdout",
     "output_type": "stream",
     "text": [
      "Fitting 5 folds for each of 3 candidates, totalling 15 fits\n"
     ]
    },
    {
     "name": "stdout",
     "output_type": "stream",
     "text": [
      "[CV 1/5] END .............................C=0.1;, score=0.835 total time=   6.6s\n",
      "[CV 2/5] END .............................C=0.1;, score=0.832 total time=   4.1s\n",
      "[CV 3/5] END .............................C=0.1;, score=0.833 total time=   4.1s\n",
      "[CV 4/5] END .............................C=0.1;, score=0.833 total time=   4.1s\n",
      "[CV 5/5] END .............................C=0.1;, score=0.832 total time=   4.2s\n",
      "[CV 1/5] END ...............................C=1;, score=0.841 total time=  12.8s\n",
      "[CV 2/5] END ...............................C=1;, score=0.840 total time=  12.5s\n",
      "[CV 3/5] END ...............................C=1;, score=0.839 total time=  12.2s\n",
      "[CV 4/5] END ...............................C=1;, score=0.840 total time=  12.3s\n",
      "[CV 5/5] END ...............................C=1;, score=0.840 total time=  12.7s\n",
      "[CV 1/5] END ..............................C=10;, score=0.828 total time= 3.0min\n",
      "[CV 2/5] END ..............................C=10;, score=0.829 total time= 3.2min\n",
      "[CV 3/5] END ..............................C=10;, score=0.829 total time= 2.6min\n",
      "[CV 4/5] END ..............................C=10;, score=0.829 total time= 2.2min\n",
      "[CV 5/5] END ..............................C=10;, score=0.829 total time= 2.8min\n",
      "Tuned hyperparameters (best parameters):  {'C': 1}\n",
      "Accuracy: 0.84014691968771\n"
     ]
    }
   ],
   "source": [
    "param_grid = {'C': [0.1, 1, 10]}\n",
    "\n",
    "linearSVC_grid = GridSearchCV(LinearSVC(), param_grid, refit=True, verbose=3)\n",
    "linearSVC_grid.fit(tfidf_trigrams_vector_train, y_train)\n",
    "\n",
    "print(\"Tuned hyperparameters (best parameters): \", linearSVC_grid.best_params_)\n",
    "print(\"Accuracy:\", linearSVC_grid.best_score_)"
   ]
  },
  {
   "cell_type": "markdown",
   "metadata": {},
   "source": [
    "## Logistic Regression"
   ]
  },
  {
   "cell_type": "code",
   "execution_count": 10,
   "metadata": {},
   "outputs": [
    {
     "name": "stdout",
     "output_type": "stream",
     "text": [
      "Train Accuracy: 85.790%\n",
      "Test Accuracy: 83.763%\n"
     ]
    }
   ],
   "source": [
    "lr=LogisticRegression(solver='sag')\n",
    "lr.fit(tfidf_vector_train,y_train)\n",
    "print(f\"Train Accuracy: {lr.score(tfidf_vector_train, y_train) * 100:.3f}%\", )\n",
    "print(f\"Test Accuracy: {lr.score(tfidf_vector_test, y_test) * 100:.3f}%\")"
   ]
  },
  {
   "cell_type": "code",
   "execution_count": 11,
   "metadata": {},
   "outputs": [
    {
     "data": {
      "text/html": [
       "<div>\n",
       "<style scoped>\n",
       "    .dataframe tbody tr th:only-of-type {\n",
       "        vertical-align: middle;\n",
       "    }\n",
       "\n",
       "    .dataframe tbody tr th {\n",
       "        vertical-align: top;\n",
       "    }\n",
       "\n",
       "    .dataframe thead th {\n",
       "        text-align: right;\n",
       "    }\n",
       "</style>\n",
       "<table border=\"1\" class=\"dataframe\">\n",
       "  <thead>\n",
       "    <tr style=\"text-align: right;\">\n",
       "      <th></th>\n",
       "      <th>precision</th>\n",
       "      <th>recall</th>\n",
       "      <th>f1-score</th>\n",
       "      <th>support</th>\n",
       "    </tr>\n",
       "  </thead>\n",
       "  <tbody>\n",
       "    <tr>\n",
       "      <th>0</th>\n",
       "      <td>0.856170</td>\n",
       "      <td>0.946271</td>\n",
       "      <td>0.898968</td>\n",
       "      <td>165589.000000</td>\n",
       "    </tr>\n",
       "    <tr>\n",
       "      <th>1</th>\n",
       "      <td>0.737505</td>\n",
       "      <td>0.487081</td>\n",
       "      <td>0.586688</td>\n",
       "      <td>51320.000000</td>\n",
       "    </tr>\n",
       "    <tr>\n",
       "      <th>accuracy</th>\n",
       "      <td>0.837628</td>\n",
       "      <td>0.837628</td>\n",
       "      <td>0.837628</td>\n",
       "      <td>0.837628</td>\n",
       "    </tr>\n",
       "    <tr>\n",
       "      <th>macro avg</th>\n",
       "      <td>0.796838</td>\n",
       "      <td>0.716676</td>\n",
       "      <td>0.742828</td>\n",
       "      <td>216909.000000</td>\n",
       "    </tr>\n",
       "    <tr>\n",
       "      <th>weighted avg</th>\n",
       "      <td>0.828094</td>\n",
       "      <td>0.837628</td>\n",
       "      <td>0.825084</td>\n",
       "      <td>216909.000000</td>\n",
       "    </tr>\n",
       "  </tbody>\n",
       "</table>\n",
       "</div>"
      ],
      "text/plain": [
       "              precision    recall  f1-score        support\n",
       "0              0.856170  0.946271  0.898968  165589.000000\n",
       "1              0.737505  0.487081  0.586688   51320.000000\n",
       "accuracy       0.837628  0.837628  0.837628       0.837628\n",
       "macro avg      0.796838  0.716676  0.742828  216909.000000\n",
       "weighted avg   0.828094  0.837628  0.825084  216909.000000"
      ]
     },
     "execution_count": 11,
     "metadata": {},
     "output_type": "execute_result"
    }
   ],
   "source": [
    "y_pred_train = lr.predict(tfidf_vector_test)\n",
    "report = classification_report(y_test, y_pred_train, output_dict=True)\n",
    "\n",
    "report_df = pd.DataFrame(report).transpose()\n",
    "report_df"
   ]
  },
  {
   "cell_type": "markdown",
   "metadata": {},
   "source": [
    "### Hyperparameters for logistic regression"
   ]
  },
  {
   "cell_type": "code",
   "execution_count": 6,
   "metadata": {},
   "outputs": [
    {
     "name": "stdout",
     "output_type": "stream",
     "text": [
      "Fitting 3 folds for each of 28 candidates, totalling 84 fits\n",
      "[CV 1/3] END C=0.001, penalty=l1, solver=liblinear;, score=0.763 total time=   2.0s\n",
      "[CV 2/3] END C=0.001, penalty=l1, solver=liblinear;, score=0.763 total time=   0.9s\n",
      "[CV 3/3] END C=0.001, penalty=l1, solver=liblinear;, score=0.763 total time=   1.1s\n",
      "[CV 1/3] END ..C=0.001, penalty=l1, solver=saga;, score=0.763 total time=   6.9s\n",
      "[CV 2/3] END ..C=0.001, penalty=l1, solver=saga;, score=0.763 total time=   7.0s\n",
      "[CV 3/3] END ..C=0.001, penalty=l1, solver=saga;, score=0.763 total time=   5.2s\n",
      "[CV 1/3] END C=0.001, penalty=l2, solver=liblinear;, score=0.763 total time=   0.7s\n",
      "[CV 2/3] END C=0.001, penalty=l2, solver=liblinear;, score=0.763 total time=   0.8s\n",
      "[CV 3/3] END C=0.001, penalty=l2, solver=liblinear;, score=0.763 total time=   0.8s\n",
      "[CV 1/3] END ..C=0.001, penalty=l2, solver=saga;, score=0.763 total time=  14.2s\n",
      "[CV 2/3] END ..C=0.001, penalty=l2, solver=saga;, score=0.763 total time=  12.9s\n",
      "[CV 3/3] END ..C=0.001, penalty=l2, solver=saga;, score=0.763 total time=   6.6s\n",
      "[CV 1/3] END C=0.01, penalty=l1, solver=liblinear;, score=0.788 total time=   1.2s\n",
      "[CV 2/3] END C=0.01, penalty=l1, solver=liblinear;, score=0.789 total time=   1.4s\n",
      "[CV 3/3] END C=0.01, penalty=l1, solver=liblinear;, score=0.788 total time=   1.4s\n",
      "[CV 1/3] END ...C=0.01, penalty=l1, solver=saga;, score=0.788 total time=   7.2s\n",
      "[CV 2/3] END ...C=0.01, penalty=l1, solver=saga;, score=0.789 total time=   7.7s\n",
      "[CV 3/3] END ...C=0.01, penalty=l1, solver=saga;, score=0.788 total time=   7.6s\n",
      "[CV 1/3] END C=0.01, penalty=l2, solver=liblinear;, score=0.785 total time=   1.1s\n",
      "[CV 2/3] END C=0.01, penalty=l2, solver=liblinear;, score=0.786 total time=   1.0s\n",
      "[CV 3/3] END C=0.01, penalty=l2, solver=liblinear;, score=0.785 total time=   1.0s\n",
      "[CV 1/3] END ...C=0.01, penalty=l2, solver=saga;, score=0.785 total time=   6.5s\n",
      "[CV 2/3] END ...C=0.01, penalty=l2, solver=saga;, score=0.786 total time=   6.8s\n",
      "[CV 3/3] END ...C=0.01, penalty=l2, solver=saga;, score=0.785 total time=   5.9s\n",
      "[CV 1/3] END C=0.1, penalty=l1, solver=liblinear;, score=0.820 total time=   2.0s\n",
      "[CV 2/3] END C=0.1, penalty=l1, solver=liblinear;, score=0.821 total time=   2.5s\n",
      "[CV 3/3] END C=0.1, penalty=l1, solver=liblinear;, score=0.821 total time=   2.0s\n",
      "[CV 1/3] END ....C=0.1, penalty=l1, solver=saga;, score=0.820 total time=  13.1s\n",
      "[CV 2/3] END ....C=0.1, penalty=l1, solver=saga;, score=0.821 total time=  13.0s\n",
      "[CV 3/3] END ....C=0.1, penalty=l1, solver=saga;, score=0.821 total time=  13.9s\n",
      "[CV 1/3] END C=0.1, penalty=l2, solver=liblinear;, score=0.822 total time=   1.9s\n",
      "[CV 2/3] END C=0.1, penalty=l2, solver=liblinear;, score=0.822 total time=   2.2s\n",
      "[CV 3/3] END C=0.1, penalty=l2, solver=liblinear;, score=0.823 total time=   1.8s\n",
      "[CV 1/3] END ....C=0.1, penalty=l2, solver=saga;, score=0.822 total time=   7.0s\n",
      "[CV 2/3] END ....C=0.1, penalty=l2, solver=saga;, score=0.822 total time=   7.5s\n",
      "[CV 3/3] END ....C=0.1, penalty=l2, solver=saga;, score=0.823 total time=   8.4s\n",
      "[CV 1/3] END C=1.0, penalty=l1, solver=liblinear;, score=0.834 total time=   3.4s\n",
      "[CV 2/3] END C=1.0, penalty=l1, solver=liblinear;, score=0.836 total time=   3.7s\n",
      "[CV 3/3] END C=1.0, penalty=l1, solver=liblinear;, score=0.835 total time=   2.7s\n",
      "[CV 1/3] END ....C=1.0, penalty=l1, solver=saga;, score=0.834 total time= 4.0min\n"
     ]
    }
   ],
   "source": [
    "grid = {\"C\": np.logspace(-3, 3, 7), \"penalty\": [\"l1\", \"l2\"], \"solver\": [\"liblinear\", \"saga\"]} # l1 lasso l2 ridge\n",
    "logreg=LogisticRegression(max_iter=100)\n",
    "logreg_cv=GridSearchCV(logreg,grid,cv=3,verbose=3,refit=True)\n",
    "logreg_cv.fit(tfidf_vector_train,y_train)\n",
    "\n",
    "print(\"tuned hpyerparameters :(best parameters) \", logreg_cv.best_params_)\n",
    "print(\"accuracy :\",logreg_cv.best_score_)"
   ]
  }
 ],
 "metadata": {
  "kernelspec": {
   "display_name": "base",
   "language": "python",
   "name": "python3"
  },
  "language_info": {
   "codemirror_mode": {
    "name": "ipython",
    "version": 3
   },
   "file_extension": ".py",
   "mimetype": "text/x-python",
   "name": "python",
   "nbconvert_exporter": "python",
   "pygments_lexer": "ipython3",
   "version": "3.9.12"
  }
 },
 "nbformat": 4,
 "nbformat_minor": 2
}
