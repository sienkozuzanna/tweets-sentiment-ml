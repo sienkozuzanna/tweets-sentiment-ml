{
 "cells": [
  {
   "cell_type": "code",
   "execution_count": 24,
   "metadata": {},
   "outputs": [],
   "source": [
    "import pandas as pd\n",
    "import numpy as np\n",
    "import matplotlib.pyplot as plt\n",
    "\n",
    "from sklearn.model_selection import RandomizedSearchCV\n",
    "from tqdm import tqdm\n",
    "from sklearn.feature_extraction.text import TfidfVectorizer\n",
    "from scipy.stats import reciprocal\n",
    "from sklearn.svm import LinearSVC\n",
    "from sklearn.linear_model import LogisticRegression\n",
    "from gensim.models import Word2Vec\n",
    "from sklearn.metrics import classification_report\n",
    "from sklearn.model_selection import GridSearchCV\n",
    "from sklearn.model_selection import ParameterGrid\n",
    "from sklearn.tree import DecisionTreeClassifier\n",
    "from sklearn.linear_model import LogisticRegression\n",
    "from sklearn.naive_bayes import MultinomialNB\n",
    "from lightgbm import LGBMClassifier\n",
    "from xgboost import XGBClassifier\n",
    "from sklearn.metrics import accuracy_score, precision_score, recall_score, f1_score, roc_auc_score, confusion_matrix, auc, roc_curve, make_scorer\n",
    "import joblib\n",
    "from sklearn.feature_extraction.text import CountVectorizer\n",
    "from nltk.tokenize import word_tokenize\n",
    "from sklearn.pipeline import Pipeline\n",
    "from sklearn.preprocessing import StandardScaler\n",
    "from sklearn.compose import ColumnTransformer\n",
    "from skopt import gp_minimize\n",
    "from skopt.space import Real, Categorical\n",
    "from tqdm import tqdm\n",
    "from sklearn.model_selection import StratifiedKFold\n",
    "from skopt import BayesSearchCV\n",
    "from scipy.stats import loguniform\n",
    "from sklearn.ensemble import RandomForestClassifier\n",
    "from sklearn.metrics import accuracy_score\n",
    "from sklearn.model_selection import train_test_split\n",
    "\n",
    "\n",
    "import warnings\n",
    "warnings.filterwarnings(\"ignore\")"
   ]
  },
  {
   "cell_type": "code",
   "execution_count": 34,
   "metadata": {},
   "outputs": [],
   "source": [
    "processed_train_data=pd.read_csv('../data/processed data/processed_train_data.csv', encoding='ISO-8859-1')\n",
    "processed_test_data=pd.read_csv('../data/processed data/processed_val_data.csv', encoding='ISO-8859-1')"
   ]
  },
  {
   "cell_type": "code",
   "execution_count": 35,
   "metadata": {},
   "outputs": [],
   "source": [
    "X_train=processed_train_data.drop('target', axis=1)\n",
    "y_train=processed_train_data['target']\n",
    "X_test=processed_test_data.drop('target',axis=1)\n",
    "y_test=processed_test_data['target']"
   ]
  },
  {
   "cell_type": "code",
   "execution_count": 36,
   "metadata": {},
   "outputs": [
    {
     "data": {
      "text/plain": [
       "((505612, 3), (216619, 3), (505612,), (216619,))"
      ]
     },
     "execution_count": 36,
     "metadata": {},
     "output_type": "execute_result"
    }
   ],
   "source": [
    "X_train.shape, X_test.shape, y_train.shape, y_test.shape"
   ]
  },
  {
   "cell_type": "code",
   "execution_count": 37,
   "metadata": {},
   "outputs": [
    {
     "data": {
      "text/plain": [
       "(                                                text  polarity  contains_not\n",
       " 0  really bore nothing not want tomoz lazy nothin... -0.656250             1\n",
       " 1  run hrs sleep whoo hoo lol come around head ho...  1.000000             0\n",
       " 2  think reality finally set nowin day half heart... -0.153472             0\n",
       " 3                              explore twitter world  0.000000             0\n",
       " 4                                  hungover make day  0.000000             0,\n",
       " 0    0\n",
       " 1    1\n",
       " 2    0\n",
       " 3    1\n",
       " 4    0\n",
       " Name: target, dtype: int64)"
      ]
     },
     "execution_count": 37,
     "metadata": {},
     "output_type": "execute_result"
    }
   ],
   "source": [
    "X_train.head(), y_train.head()"
   ]
  },
  {
   "cell_type": "markdown",
   "metadata": {},
   "source": [
    "# Features for models"
   ]
  },
  {
   "cell_type": "markdown",
   "metadata": {},
   "source": [
    "## Bag of words"
   ]
  },
  {
   "cell_type": "code",
   "execution_count": 6,
   "metadata": {},
   "outputs": [],
   "source": [
    "count_vectorizer = CountVectorizer(max_df=0.8)\n",
    "count_train = count_vectorizer.fit_transform(X_train['text']).astype('float32')\n",
    "count_test = count_vectorizer.transform(X_test['text']).astype('float32')"
   ]
  },
  {
   "cell_type": "markdown",
   "metadata": {},
   "source": [
    "## TF-IDF"
   ]
  },
  {
   "cell_type": "code",
   "execution_count": 38,
   "metadata": {},
   "outputs": [],
   "source": [
    "tfidf = TfidfVectorizer(norm='l2')\n",
    "tfidf_vector_train=tfidf.fit_transform(X_train['text'])\n",
    "tfidf_vector_test = tfidf.transform(X_test['text'])\n",
    "\n",
    "tfidf_biagrams = TfidfVectorizer(ngram_range=(1, 2),norm='l2')\n",
    "tfidf_biagrams_vector_train=tfidf_biagrams.fit_transform(X_train['text'])\n",
    "tfidf_biagram_vector_test = tfidf_biagrams.transform(X_test['text'])\n",
    "\n",
    "\n",
    "tfidf_trigrams = TfidfVectorizer(ngram_range=(1, 3),norm='l2')\n",
    "tfidf_trigrams_vector_train=tfidf_trigrams.fit_transform(X_train['text'])\n",
    "tfidf_trigrams_vector_test = tfidf_trigrams.transform(X_test['text'])"
   ]
  },
  {
   "cell_type": "code",
   "execution_count": 39,
   "metadata": {},
   "outputs": [
    {
     "name": "stdout",
     "output_type": "stream",
     "text": [
      "  (0, 50931)\t0.31352684174137296\n",
      "  (0, 82647)\t0.23266635722882933\n",
      "  (0, 79371)\t0.3622244908924406\n",
      "  (0, 144657)\t0.4650906585220032\n",
      "  (0, 155327)\t0.19125824123932605\n",
      "  (0, 99000)\t0.12743938740434393\n",
      "  (0, 99090)\t0.5700679234159668\n",
      "  (0, 17910)\t0.276934396103799\n",
      "  (0, 115796)\t0.21344969879975353\n",
      "  (1, 30657)\t0.2936496196756181\n",
      "  (1, 95247)\t0.2961765890801822\n",
      "  (1, 58527)\t0.24278231045931017\n",
      "  (1, 64368)\t0.19335152733216548\n",
      "  (1, 61352)\t0.23712170188258969\n",
      "  (1, 7973)\t0.26071005898521393\n",
      "  (1, 28385)\t0.19264203330271082\n",
      "  (1, 82126)\t0.19063176577744953\n",
      "  (1, 64887)\t0.3594132389115824\n",
      "  (1, 158279)\t0.41324509555658345\n",
      "  (1, 128743)\t0.2017864126421686\n",
      "  (1, 65966)\t0.3573677300382783\n",
      "  (1, 120471)\t0.2523778317665004\n",
      "  (2, 91729)\t0.233639827137946\n",
      "  (2, 10862)\t0.2215796981934975\n",
      "  (2, 90271)\t0.1507237524489683\n",
      "  :\t:\n",
      "  (505609, 52601)\t0.26382387436537597\n",
      "  (505609, 81346)\t0.2432440228958278\n",
      "  (505609, 160224)\t0.14863428697180106\n",
      "  (505609, 55845)\t0.1416464919746426\n",
      "  (505610, 161988)\t0.5444313582236552\n",
      "  (505610, 109142)\t0.3709155119335114\n",
      "  (505610, 145596)\t0.28961540184392115\n",
      "  (505610, 33779)\t0.2916161611650753\n",
      "  (505610, 158131)\t0.3070854059425952\n",
      "  (505610, 136930)\t0.23646970246392712\n",
      "  (505610, 24861)\t0.25264199267412013\n",
      "  (505610, 36835)\t0.35768704757043573\n",
      "  (505610, 85101)\t0.1782145233322163\n",
      "  (505610, 33955)\t0.1528114172342338\n",
      "  (505611, 148470)\t0.4805519752314351\n",
      "  (505611, 123500)\t0.43098592794034063\n",
      "  (505611, 20410)\t0.3164375084078087\n",
      "  (505611, 158054)\t0.31887838502128185\n",
      "  (505611, 124708)\t0.3350665875780134\n",
      "  (505611, 147815)\t0.27561801321404966\n",
      "  (505611, 24417)\t0.2275006658814846\n",
      "  (505611, 95104)\t0.24018874814368643\n",
      "  (505611, 48722)\t0.1837143301303072\n",
      "  (505611, 160224)\t0.1361096326067248\n",
      "  (505611, 148545)\t0.17761172721218907\n"
     ]
    }
   ],
   "source": [
    "print(tfidf_vector_train)"
   ]
  },
  {
   "cell_type": "markdown",
   "metadata": {},
   "source": [
    "## Word Embeddings"
   ]
  },
  {
   "cell_type": "code",
   "execution_count": 8,
   "metadata": {},
   "outputs": [],
   "source": [
    "tokenized_sentences = [word_tokenize(text) for text in X_train['text']]\n",
    "\n",
    "model = Word2Vec(tokenized_sentences, vector_size=100, window=7, min_count=5, sg=1)\n",
    "\n",
    "def text_to_vector(text, embedding_model, embedding_dim):\n",
    "    words = text.split()\n",
    "    vectors = []\n",
    "    for word in words:\n",
    "        if word in embedding_model.wv:\n",
    "            vectors.append(embedding_model.wv[word])\n",
    "    if not vectors:\n",
    "        return np.zeros(embedding_dim)\n",
    "    avg_vector = np.mean(vectors, axis=0)\n",
    "    return avg_vector\n",
    "\n",
    "embedding_dim = 10\n",
    "\n",
    "word2vec_vector = X_train['text'].apply(lambda x: text_to_vector(x, model, embedding_dim))\n",
    "word2vec_vector_test = X_test['text'].apply(lambda x: text_to_vector(x, model, embedding_dim))"
   ]
  },
  {
   "cell_type": "code",
   "execution_count": 9,
   "metadata": {},
   "outputs": [],
   "source": [
    "max_length = 100\n",
    "\n",
    "def pad_or_truncate_sequences(sequences, max_length):\n",
    "    padded_sequences = []\n",
    "    for seq in sequences:\n",
    "        if len(seq) < max_length:\n",
    "            padded_seq = np.pad(seq, (0, max_length - len(seq)), mode='constant')\n",
    "        else:\n",
    "            padded_seq = seq[:max_length]\n",
    "        padded_sequences.append(padded_seq)\n",
    "    return np.array(padded_sequences)\n",
    "\n",
    "X_train_w2v_pad = pad_or_truncate_sequences(word2vec_vector, max_length)\n",
    "X_test_w2v_pad = pad_or_truncate_sequences(word2vec_vector_test, max_length)"
   ]
  },
  {
   "cell_type": "markdown",
   "metadata": {},
   "source": [
    "# Basic Models"
   ]
  },
  {
   "cell_type": "code",
   "execution_count": 41,
   "metadata": {},
   "outputs": [],
   "source": [
    "numeric_features = ['contains_not', 'polarity']\n",
    "text_feature = 'text'"
   ]
  },
  {
   "cell_type": "code",
   "execution_count": 42,
   "metadata": {},
   "outputs": [],
   "source": [
    "def model_classification_reports(models, X_train, y_train, X_test, y_test):\n",
    "    reports = {}\n",
    "    for model_name, model in models.items():\n",
    "        model.fit(X_train, y_train)\n",
    "        y_pred = model.predict(X_test)\n",
    "        report = classification_report(y_test, y_pred, output_dict=True)\n",
    "        roc_auc = roc_auc_score(y_test, y_pred)\n",
    "        report['roc_auc'] = roc_auc\n",
    "        reports[model_name] = report\n",
    "    return reports"
   ]
  },
  {
   "cell_type": "code",
   "execution_count": 43,
   "metadata": {},
   "outputs": [],
   "source": [
    "def print_classification_reports(reports):\n",
    "    for model_name, report in reports.items():\n",
    "        print(model_name.upper())\n",
    "        print('==================================')\n",
    "\n",
    "        print('Model Performance for Test Set:')\n",
    "        print('- Accuracy: {:.4f}'.format(report['accuracy']))\n",
    "        print('- F1 Score: {:.4f}'.format(report['weighted avg']['f1-score']))\n",
    "        print('- Precision: {:.4f}'.format(report['weighted avg']['precision']))\n",
    "        print('- Recall: {:.4f}'.format(report['weighted avg']['recall']))\n",
    "        print('- ROC AUC Score: {:.4f}'.format(report['roc_auc']))\n",
    "\n",
    "        print('==================================')\n",
    "        print('\\n')\n"
   ]
  },
  {
   "cell_type": "markdown",
   "metadata": {},
   "source": [
    "### bag of words"
   ]
  },
  {
   "cell_type": "code",
   "execution_count": 44,
   "metadata": {},
   "outputs": [],
   "source": [
    "preprocessor = ColumnTransformer(\n",
    "    transformers=[\n",
    "        ('num', StandardScaler(), numeric_features),\n",
    "        ('text', CountVectorizer(max_df=0.8), text_feature)])"
   ]
  },
  {
   "cell_type": "code",
   "execution_count": 45,
   "metadata": {},
   "outputs": [
    {
     "name": "stdout",
     "output_type": "stream",
     "text": [
      "[LightGBM] [Info] Number of positive: 119507, number of negative: 386105\n",
      "[LightGBM] [Info] Auto-choosing row-wise multi-threading, the overhead of testing was 13.029767 seconds.\n",
      "You can set `force_row_wise=true` to remove the overhead.\n",
      "And if memory is not enough, you can set `force_col_wise=true`.\n",
      "[LightGBM] [Info] Total Bins 23811\n",
      "[LightGBM] [Info] Number of data points in the train set: 505612, number of used features: 9847\n",
      "[LightGBM] [Info] [binary:BoostFromScore]: pavg=0.236361 -> initscore=-1.172734\n",
      "[LightGBM] [Info] Start training from score -1.172734\n",
      "LINEARSVC\n",
      "==================================\n",
      "Model Performance for Test Set:\n",
      "- Accuracy: 0.8245\n",
      "- F1 Score: 0.8141\n",
      "- Precision: 0.8130\n",
      "- Recall: 0.8245\n",
      "- ROC AUC Score: 0.7096\n",
      "==================================\n",
      "\n",
      "\n",
      "LOGISTICREGRESSION\n",
      "==================================\n",
      "Model Performance for Test Set:\n",
      "- Accuracy: 0.8319\n",
      "- F1 Score: 0.8209\n",
      "- Precision: 0.8212\n",
      "- Recall: 0.8319\n",
      "- ROC AUC Score: 0.7161\n",
      "==================================\n",
      "\n",
      "\n",
      "LGBMCLASSIFIER\n",
      "==================================\n",
      "Model Performance for Test Set:\n",
      "- Accuracy: 0.8176\n",
      "- F1 Score: 0.7959\n",
      "- Precision: 0.8046\n",
      "- Recall: 0.8176\n",
      "- ROC AUC Score: 0.6668\n",
      "==================================\n",
      "\n",
      "\n",
      "XGBCLASSIFIER\n",
      "==================================\n",
      "Model Performance for Test Set:\n",
      "- Accuracy: 0.8152\n",
      "- F1 Score: 0.7915\n",
      "- Precision: 0.8020\n",
      "- Recall: 0.8152\n",
      "- ROC AUC Score: 0.6591\n",
      "==================================\n",
      "\n",
      "\n",
      "DECISIONTREECLASSIFIER\n",
      "==================================\n",
      "Model Performance for Test Set:\n",
      "- Accuracy: 0.7638\n",
      "- F1 Score: 0.6626\n",
      "- Precision: 0.7369\n",
      "- Recall: 0.7638\n",
      "- ROC AUC Score: 0.5013\n",
      "==================================\n",
      "\n",
      "\n"
     ]
    }
   ],
   "source": [
    "models_to_test = {\n",
    "    'LinearSVC': Pipeline(steps=[('preprocessor', preprocessor), ('classifier', LinearSVC())]),\n",
    "    'LogisticRegression': Pipeline(steps=[('preprocessor', preprocessor), ('classifier', LogisticRegression())]),\n",
    "    'LGBMClassifier': Pipeline(steps=[('preprocessor', preprocessor), ('classifier', LGBMClassifier())]),\n",
    "    'XGBClassifier': Pipeline(steps=[('preprocessor', preprocessor), ('classifier', XGBClassifier(objective='binary:logistic',\n",
    "                                   eval_metric='logloss',\n",
    "                                   n_estimators=100,\n",
    "                                   max_depth=5))] ),\n",
    "    'DecisionTreeClassifier': Pipeline(steps=[('preprocessor', preprocessor), ('classifier', DecisionTreeClassifier(max_depth=10,\n",
    "                                                      min_samples_split=10,\n",
    "                                                      min_samples_leaf=5,\n",
    "                                                      max_features='sqrt',\n",
    "                                                      criterion='gini'))])\n",
    "}\n",
    "\n",
    "reports = model_classification_reports(models_to_test, X_train, y_train, X_test, y_test)\n",
    "print_classification_reports(reports)\n"
   ]
  },
  {
   "cell_type": "markdown",
   "metadata": {},
   "source": [
    "### Bayes optimization for Logistic Regression"
   ]
  },
  {
   "cell_type": "code",
   "execution_count": 16,
   "metadata": {},
   "outputs": [
    {
     "name": "stderr",
     "output_type": "stream",
     "text": [
      "Optimizing:   5%|███▍                                                                | 1/20 [06:10<1:57:13, 370.20s/it]"
     ]
    },
    {
     "name": "stdout",
     "output_type": "stream",
     "text": [
      "Best parameters: [79.65429888948032, 'newton-cg']\n",
      "Best ROC AUC: 0.9422327926699563\n"
     ]
    },
    {
     "name": "stderr",
     "output_type": "stream",
     "text": [
      "\n"
     ]
    }
   ],
   "source": [
    "model = Pipeline(steps=[('preprocessor', preprocessor),\n",
    "                        ('classifier', LogisticRegression())])\n",
    "\n",
    "space = [\n",
    "    Real(1e-6, 100.0, name='classifier__C'),\n",
    "    Categorical(['newton-cg', 'lbfgs', 'liblinear', 'sag', 'saga'], name='classifier__solver')\n",
    "]\n",
    "\n",
    "def objective(params):\n",
    "    model.set_params(**{'classifier__C': params[0], 'classifier__solver': params[1]})\n",
    "    model.fit(X_train, y_train)\n",
    "    y_pred_proba = model.predict_proba(X_train)[:, 1]\n",
    "    roc_auc = roc_auc_score(y_train, y_pred_proba)\n",
    "    return -roc_auc\n",
    "\n",
    "n_calls = 20\n",
    "with tqdm(total=n_calls, desc=\"Optimizing\", position=0) as pbar:\n",
    "    result = gp_minimize(objective, space, n_calls=n_calls, random_state=42, callback=lambda _: pbar.update(1))\n",
    "\n",
    "best_params = result.x\n",
    "best_score = -result.fun\n",
    "print(\"Best parameters:\", best_params)\n",
    "print(\"Best ROC AUC:\", best_score)\n"
   ]
  },
  {
   "cell_type": "code",
   "execution_count": 17,
   "metadata": {},
   "outputs": [
    {
     "name": "stdout",
     "output_type": "stream",
     "text": [
      "Accuracy: 0.7729192730092929\n",
      "Precision: 0.5143648030868598\n",
      "Recall: 0.7179627280710313\n",
      "F1 Score: 0.5993451382214475\n",
      "ROC AUC: 0.8167890775745943\n",
      "Confusion Matrix:\n",
      "[[130637  34737]\n",
      " [ 14453  36792]]\n"
     ]
    }
   ],
   "source": [
    "best_C = 79.65429888948032\n",
    "best_solver = 'newton-cg'\n",
    "\n",
    "best_model = Pipeline(steps=[('preprocessor', preprocessor),\n",
    "                        ('classifier', LogisticRegression(C=best_C, solver=best_solver, class_weight='balanced'))])\n",
    "\n",
    "best_model.fit(X_train, y_train)\n",
    "\n",
    "y_pred = best_model.predict(X_test)\n",
    "y_pred_proba = best_model.predict_proba(X_test)[:, 1]\n",
    "\n",
    "print(\"Accuracy:\", accuracy_score(y_test, y_pred))\n",
    "print(\"Precision:\", precision_score(y_test, y_pred))\n",
    "print(\"Recall:\", recall_score(y_test, y_pred))\n",
    "print(\"F1 Score:\", f1_score(y_test, y_pred))\n",
    "print(\"ROC AUC:\", roc_auc_score(y_test, y_pred_proba))\n",
    "\n",
    "conf_matrix = confusion_matrix(y_test, y_pred)\n",
    "print(\"Confusion Matrix:\")\n",
    "print(conf_matrix)"
   ]
  },
  {
   "cell_type": "code",
   "execution_count": 18,
   "metadata": {},
   "outputs": [
    {
     "data": {
      "image/png": "[encoded data removed]",
      "text/plain": [
       "<Figure size 640x480 with 1 Axes>"
      ]
     },
     "metadata": {},
     "output_type": "display_data"
    }
   ],
   "source": [
    "fpr, tpr, thresholds = roc_curve(y_test, y_pred_proba)\n",
    "roc_auc = auc(fpr, tpr)\n",
    "\n",
    "plt.figure() \n",
    "plt.plot(fpr, tpr, label='ROC curve (area = %0.2f)' % roc_auc)\n",
    "plt.plot([0, 1], [0, 1], 'k--', label='No Skill')\n",
    "plt.xlim([0.0, 1.0])\n",
    "plt.ylim([0.0, 1.05])\n",
    "plt.xlabel('False Positive Rate')\n",
    "plt.ylabel('True Positive Rate')\n",
    "plt.title('ROC Curve for Tweets Sentiment Prediction')\n",
    "plt.legend()\n",
    "plt.show()"
   ]
  },
  {
   "cell_type": "markdown",
   "metadata": {},
   "source": [
    "### tfidf trigrams models"
   ]
  },
  {
   "cell_type": "code",
   "execution_count": 21,
   "metadata": {},
   "outputs": [],
   "source": [
    "tfidf_preprocessor = ColumnTransformer(\n",
    "    transformers=[\n",
    "        ('num', StandardScaler(), numeric_features),\n",
    "        ('text', TfidfVectorizer(ngram_range=(1, 3)), text_feature)])"
   ]
  },
  {
   "cell_type": "code",
   "execution_count": 20,
   "metadata": {},
   "outputs": [
    {
     "name": "stdout",
     "output_type": "stream",
     "text": [
      "[LightGBM] [Info] Number of positive: 119507, number of negative: 386105\n",
      "[LightGBM] [Info] Auto-choosing row-wise multi-threading, the overhead of testing was 73.140839 seconds.\n",
      "You can set `force_row_wise=true` to remove the overhead.\n",
      "And if memory is not enough, you can set `force_col_wise=true`.\n",
      "[LightGBM] [Info] Total Bins 409868\n",
      "[LightGBM] [Info] Number of data points in the train set: 505612, number of used features: 29111\n",
      "[LightGBM] [Info] [binary:BoostFromScore]: pavg=0.236361 -> initscore=-1.172734\n",
      "[LightGBM] [Info] Start training from score -1.172734\n",
      "LINEARSVC\n",
      "==================================\n",
      "Model Performance for Test Set:\n",
      "- Accuracy: 0.8417\n",
      "- F1 Score: 0.8347\n",
      "- Precision: 0.8335\n",
      "- Recall: 0.8417\n",
      "- ROC AUC Score: 0.7439\n",
      "==================================\n",
      "\n",
      "\n",
      "LOGISTICREGRESSION\n",
      "==================================\n",
      "Model Performance for Test Set:\n",
      "- Accuracy: 0.8419\n",
      "- F1 Score: 0.8329\n",
      "- Precision: 0.8331\n",
      "- Recall: 0.8419\n",
      "- ROC AUC Score: 0.7350\n",
      "==================================\n",
      "\n",
      "\n",
      "LGBMCLASSIFIER\n",
      "==================================\n",
      "Model Performance for Test Set:\n",
      "- Accuracy: 0.8198\n",
      "- F1 Score: 0.8007\n",
      "- Precision: 0.8069\n",
      "- Recall: 0.8198\n",
      "- ROC AUC Score: 0.6761\n",
      "==================================\n",
      "\n",
      "\n",
      "XGBCLASSIFIER\n",
      "==================================\n",
      "Model Performance for Test Set:\n",
      "- Accuracy: 0.8167\n",
      "- F1 Score: 0.7962\n",
      "- Precision: 0.8030\n",
      "- Recall: 0.8167\n",
      "- ROC AUC Score: 0.6690\n",
      "==================================\n",
      "\n",
      "\n",
      "DECISIONTREECLASSIFIER\n",
      "==================================\n",
      "Model Performance for Test Set:\n",
      "- Accuracy: 0.7636\n",
      "- F1 Score: 0.6657\n",
      "- Precision: 0.7076\n",
      "- Recall: 0.7636\n",
      "- ROC AUC Score: 0.5038\n",
      "==================================\n",
      "\n",
      "\n"
     ]
    }
   ],
   "source": [
    "models_to_test = {\n",
    "    'LinearSVC': Pipeline(steps=[('preprocessor', tfidf_preprocessor), ('classifier', LinearSVC())]),\n",
    "    'LogisticRegression': Pipeline(steps=[('preprocessor', tfidf_preprocessor), ('classifier', LogisticRegression())]),\n",
    "    'LGBMClassifier': Pipeline(steps=[('preprocessor', tfidf_preprocessor), ('classifier', LGBMClassifier())]),\n",
    "    'XGBClassifier': Pipeline(steps=[('preprocessor', tfidf_preprocessor), ('classifier', XGBClassifier(objective='binary:logistic',\n",
    "                                   eval_metric='logloss',\n",
    "                                   n_estimators=100,\n",
    "                                   max_depth=5))] ),\n",
    "    'DecisionTreeClassifier': Pipeline(steps=[('preprocessor', tfidf_preprocessor), ('classifier', DecisionTreeClassifier(max_depth=10,\n",
    "                                                      min_samples_split=10,\n",
    "                                                      min_samples_leaf=5,\n",
    "                                                      max_features='sqrt',\n",
    "                                                      criterion='gini'))])\n",
    "}\n",
    "\n",
    "tfidf_reports = model_classification_reports(models_to_test, X_train, y_train, X_test, y_test)\n",
    "print_classification_reports(tfidf_reports)\n"
   ]
  },
  {
   "cell_type": "markdown",
   "metadata": {},
   "source": [
    "### Linear SVC for TF-IDF"
   ]
  },
  {
   "cell_type": "code",
   "execution_count": 21,
   "metadata": {},
   "outputs": [
    {
     "data": {
      "text/plain": [
       "LinearSVC()"
      ]
     },
     "execution_count": 21,
     "metadata": {},
     "output_type": "execute_result"
    }
   ],
   "source": [
    "l_SVC=LinearSVC()\n",
    "l_SVC.fit(tfidf_vector_train,y_train)"
   ]
  },
  {
   "cell_type": "code",
   "execution_count": 22,
   "metadata": {},
   "outputs": [
    {
     "data": {
      "text/html": [
       "<div>\n",
       "<style scoped>\n",
       "    .dataframe tbody tr th:only-of-type {\n",
       "        vertical-align: middle;\n",
       "    }\n",
       "\n",
       "    .dataframe tbody tr th {\n",
       "        vertical-align: top;\n",
       "    }\n",
       "\n",
       "    .dataframe thead th {\n",
       "        text-align: right;\n",
       "    }\n",
       "</style>\n",
       "<table border=\"1\" class=\"dataframe\">\n",
       "  <thead>\n",
       "    <tr style=\"text-align: right;\">\n",
       "      <th></th>\n",
       "      <th>precision</th>\n",
       "      <th>recall</th>\n",
       "      <th>f1-score</th>\n",
       "      <th>support</th>\n",
       "    </tr>\n",
       "  </thead>\n",
       "  <tbody>\n",
       "    <tr>\n",
       "      <th>0</th>\n",
       "      <td>0.856212</td>\n",
       "      <td>0.934065</td>\n",
       "      <td>0.893445</td>\n",
       "      <td>165374.000000</td>\n",
       "    </tr>\n",
       "    <tr>\n",
       "      <th>1</th>\n",
       "      <td>0.698851</td>\n",
       "      <td>0.493785</td>\n",
       "      <td>0.578688</td>\n",
       "      <td>51245.000000</td>\n",
       "    </tr>\n",
       "    <tr>\n",
       "      <th>accuracy</th>\n",
       "      <td>0.829909</td>\n",
       "      <td>0.829909</td>\n",
       "      <td>0.829909</td>\n",
       "      <td>0.829909</td>\n",
       "    </tr>\n",
       "    <tr>\n",
       "      <th>macro avg</th>\n",
       "      <td>0.777531</td>\n",
       "      <td>0.713925</td>\n",
       "      <td>0.736067</td>\n",
       "      <td>216619.000000</td>\n",
       "    </tr>\n",
       "    <tr>\n",
       "      <th>weighted avg</th>\n",
       "      <td>0.818985</td>\n",
       "      <td>0.829909</td>\n",
       "      <td>0.818984</td>\n",
       "      <td>216619.000000</td>\n",
       "    </tr>\n",
       "  </tbody>\n",
       "</table>\n",
       "</div>"
      ],
      "text/plain": [
       "              precision    recall  f1-score        support\n",
       "0              0.856212  0.934065  0.893445  165374.000000\n",
       "1              0.698851  0.493785  0.578688   51245.000000\n",
       "accuracy       0.829909  0.829909  0.829909       0.829909\n",
       "macro avg      0.777531  0.713925  0.736067  216619.000000\n",
       "weighted avg   0.818985  0.829909  0.818984  216619.000000"
      ]
     },
     "execution_count": 22,
     "metadata": {},
     "output_type": "execute_result"
    }
   ],
   "source": [
    "y_pred_test = l_SVC.predict(tfidf_vector_test)\n",
    "report = classification_report(y_test, y_pred_test, output_dict=True)\n",
    "\n",
    "report_df = pd.DataFrame(report).transpose()\n",
    "report_df"
   ]
  },
  {
   "cell_type": "markdown",
   "metadata": {},
   "source": [
    "### Using trigrams"
   ]
  },
  {
   "cell_type": "code",
   "execution_count": 48,
   "metadata": {},
   "outputs": [
    {
     "data": {
      "text/plain": [
       "LinearSVC(class_weight='balanced')"
      ]
     },
     "execution_count": 48,
     "metadata": {},
     "output_type": "execute_result"
    }
   ],
   "source": [
    "l_SVC_trigrams=LinearSVC(class_weight='balanced')\n",
    "l_SVC_trigrams.fit(tfidf_trigrams_vector_train,y_train)"
   ]
  },
  {
   "cell_type": "code",
   "execution_count": 24,
   "metadata": {},
   "outputs": [
    {
     "data": {
      "text/html": [
       "<div>\n",
       "<style scoped>\n",
       "    .dataframe tbody tr th:only-of-type {\n",
       "        vertical-align: middle;\n",
       "    }\n",
       "\n",
       "    .dataframe tbody tr th {\n",
       "        vertical-align: top;\n",
       "    }\n",
       "\n",
       "    .dataframe thead th {\n",
       "        text-align: right;\n",
       "    }\n",
       "</style>\n",
       "<table border=\"1\" class=\"dataframe\">\n",
       "  <thead>\n",
       "    <tr style=\"text-align: right;\">\n",
       "      <th></th>\n",
       "      <th>precision</th>\n",
       "      <th>recall</th>\n",
       "      <th>f1-score</th>\n",
       "      <th>support</th>\n",
       "    </tr>\n",
       "  </thead>\n",
       "  <tbody>\n",
       "    <tr>\n",
       "      <th>0</th>\n",
       "      <td>0.893035</td>\n",
       "      <td>0.880048</td>\n",
       "      <td>0.886494</td>\n",
       "      <td>165374.000000</td>\n",
       "    </tr>\n",
       "    <tr>\n",
       "      <th>1</th>\n",
       "      <td>0.630252</td>\n",
       "      <td>0.659830</td>\n",
       "      <td>0.644702</td>\n",
       "      <td>51245.000000</td>\n",
       "    </tr>\n",
       "    <tr>\n",
       "      <th>accuracy</th>\n",
       "      <td>0.827951</td>\n",
       "      <td>0.827951</td>\n",
       "      <td>0.827951</td>\n",
       "      <td>0.827951</td>\n",
       "    </tr>\n",
       "    <tr>\n",
       "      <th>macro avg</th>\n",
       "      <td>0.761643</td>\n",
       "      <td>0.769939</td>\n",
       "      <td>0.765598</td>\n",
       "      <td>216619.000000</td>\n",
       "    </tr>\n",
       "    <tr>\n",
       "      <th>weighted avg</th>\n",
       "      <td>0.830869</td>\n",
       "      <td>0.827951</td>\n",
       "      <td>0.829294</td>\n",
       "      <td>216619.000000</td>\n",
       "    </tr>\n",
       "  </tbody>\n",
       "</table>\n",
       "</div>"
      ],
      "text/plain": [
       "              precision    recall  f1-score        support\n",
       "0              0.893035  0.880048  0.886494  165374.000000\n",
       "1              0.630252  0.659830  0.644702   51245.000000\n",
       "accuracy       0.827951  0.827951  0.827951       0.827951\n",
       "macro avg      0.761643  0.769939  0.765598  216619.000000\n",
       "weighted avg   0.830869  0.827951  0.829294  216619.000000"
      ]
     },
     "execution_count": 24,
     "metadata": {},
     "output_type": "execute_result"
    }
   ],
   "source": [
    "y_pred_trigrams_test = l_SVC_trigrams.predict(tfidf_trigrams_vector_test)\n",
    "report = classification_report(y_test, y_pred_trigrams_test, output_dict=True)\n",
    "\n",
    "report_df = pd.DataFrame(report).transpose()\n",
    "report_df"
   ]
  },
  {
   "cell_type": "markdown",
   "metadata": {},
   "source": [
    "### Bayes optimization for LinearSVC"
   ]
  },
  {
   "cell_type": "code",
   "execution_count": 49,
   "metadata": {},
   "outputs": [
    {
     "ename": "ValueError",
     "evalue": "Found input variables with inconsistent numbers of samples: [3, 404489]",
     "output_type": "error",
     "traceback": [
      "\u001b[1;31m---------------------------------------------------------------------------\u001b[0m",
      "\u001b[1;31m_RemoteTraceback\u001b[0m                          Traceback (most recent call last)",
      "\u001b[1;31m_RemoteTraceback\u001b[0m: \n\"\"\"\nTraceback (most recent call last):\n  File \"C:\\Users\\soboc\\anaconda3\\lib\\site-packages\\joblib\\externals\\loky\\process_executor.py\", line 436, in _process_worker\n    r = call_item()\n  File \"C:\\Users\\soboc\\anaconda3\\lib\\site-packages\\joblib\\externals\\loky\\process_executor.py\", line 288, in __call__\n    return self.fn(*self.args, **self.kwargs)\n  File \"C:\\Users\\soboc\\anaconda3\\lib\\site-packages\\joblib\\_parallel_backends.py\", line 595, in __call__\n    return self.func(*args, **kwargs)\n  File \"C:\\Users\\soboc\\anaconda3\\lib\\site-packages\\joblib\\parallel.py\", line 262, in __call__\n    return [func(*args, **kwargs)\n  File \"C:\\Users\\soboc\\anaconda3\\lib\\site-packages\\joblib\\parallel.py\", line 262, in <listcomp>\n    return [func(*args, **kwargs)\n  File \"C:\\Users\\soboc\\anaconda3\\lib\\site-packages\\sklearn\\utils\\fixes.py\", line 216, in __call__\n    return self.function(*args, **kwargs)\n  File \"C:\\Users\\soboc\\anaconda3\\lib\\site-packages\\sklearn\\model_selection\\_validation.py\", line 680, in _fit_and_score\n    estimator.fit(X_train, y_train, **fit_params)\n  File \"C:\\Users\\soboc\\anaconda3\\lib\\site-packages\\sklearn\\pipeline.py\", line 394, in fit\n    self._final_estimator.fit(Xt, y, **fit_params_last_step)\n  File \"C:\\Users\\soboc\\anaconda3\\lib\\site-packages\\sklearn\\svm\\_classes.py\", line 246, in fit\n    X, y = self._validate_data(\n  File \"C:\\Users\\soboc\\anaconda3\\lib\\site-packages\\sklearn\\base.py\", line 581, in _validate_data\n    X, y = check_X_y(X, y, **check_params)\n  File \"C:\\Users\\soboc\\anaconda3\\lib\\site-packages\\sklearn\\utils\\validation.py\", line 981, in check_X_y\n    check_consistent_length(X, y)\n  File \"C:\\Users\\soboc\\anaconda3\\lib\\site-packages\\sklearn\\utils\\validation.py\", line 332, in check_consistent_length\n    raise ValueError(\nValueError: Found input variables with inconsistent numbers of samples: [3, 404489]\n\"\"\"",
      "\nThe above exception was the direct cause of the following exception:\n",
      "\u001b[1;31mValueError\u001b[0m                                Traceback (most recent call last)",
      "\u001b[1;32m~\\AppData\\Local\\Temp\\ipykernel_1872\\1379442653.py\u001b[0m in \u001b[0;36m<module>\u001b[1;34m\u001b[0m\n\u001b[0;32m     19\u001b[0m )\n\u001b[0;32m     20\u001b[0m \u001b[1;33m\u001b[0m\u001b[0m\n\u001b[1;32m---> 21\u001b[1;33m \u001b[0mopt\u001b[0m\u001b[1;33m.\u001b[0m\u001b[0mfit\u001b[0m\u001b[1;33m(\u001b[0m\u001b[0mX_train\u001b[0m\u001b[1;33m,\u001b[0m \u001b[0my_train\u001b[0m\u001b[1;33m)\u001b[0m\u001b[1;33m\u001b[0m\u001b[1;33m\u001b[0m\u001b[0m\n\u001b[0m\u001b[0;32m     22\u001b[0m \u001b[0mprint\u001b[0m\u001b[1;33m(\u001b[0m\u001b[1;34m\"Best parameters:\"\u001b[0m\u001b[1;33m,\u001b[0m \u001b[0mopt\u001b[0m\u001b[1;33m.\u001b[0m\u001b[0mbest_params_\u001b[0m\u001b[1;33m)\u001b[0m\u001b[1;33m\u001b[0m\u001b[1;33m\u001b[0m\u001b[0m\n\u001b[0;32m     23\u001b[0m \u001b[0mprint\u001b[0m\u001b[1;33m(\u001b[0m\u001b[1;34m\"Best ROC AUC:\"\u001b[0m\u001b[1;33m,\u001b[0m \u001b[0mopt\u001b[0m\u001b[1;33m.\u001b[0m\u001b[0mbest_score_\u001b[0m\u001b[1;33m)\u001b[0m\u001b[1;33m\u001b[0m\u001b[1;33m\u001b[0m\u001b[0m\n",
      "\u001b[1;32m~\\anaconda3\\lib\\site-packages\\skopt\\searchcv.py\u001b[0m in \u001b[0;36mfit\u001b[1;34m(self, X, y, groups, callback, **fit_params)\u001b[0m\n\u001b[0;32m    536\u001b[0m             )\n\u001b[0;32m    537\u001b[0m \u001b[1;33m\u001b[0m\u001b[0m\n\u001b[1;32m--> 538\u001b[1;33m         \u001b[0msuper\u001b[0m\u001b[1;33m(\u001b[0m\u001b[1;33m)\u001b[0m\u001b[1;33m.\u001b[0m\u001b[0mfit\u001b[0m\u001b[1;33m(\u001b[0m\u001b[0mX\u001b[0m\u001b[1;33m=\u001b[0m\u001b[0mX\u001b[0m\u001b[1;33m,\u001b[0m \u001b[0my\u001b[0m\u001b[1;33m=\u001b[0m\u001b[0my\u001b[0m\u001b[1;33m,\u001b[0m \u001b[0mgroups\u001b[0m\u001b[1;33m=\u001b[0m\u001b[0mgroups\u001b[0m\u001b[1;33m,\u001b[0m \u001b[1;33m**\u001b[0m\u001b[0mfit_params\u001b[0m\u001b[1;33m)\u001b[0m\u001b[1;33m\u001b[0m\u001b[1;33m\u001b[0m\u001b[0m\n\u001b[0m\u001b[0;32m    539\u001b[0m \u001b[1;33m\u001b[0m\u001b[0m\n\u001b[0;32m    540\u001b[0m         \u001b[1;31m# BaseSearchCV never ranked train scores,\u001b[0m\u001b[1;33m\u001b[0m\u001b[1;33m\u001b[0m\u001b[0m\n",
      "\u001b[1;32m~\\anaconda3\\lib\\site-packages\\sklearn\\model_selection\\_search.py\u001b[0m in \u001b[0;36mfit\u001b[1;34m(self, X, y, groups, **fit_params)\u001b[0m\n\u001b[0;32m    889\u001b[0m                 \u001b[1;32mreturn\u001b[0m \u001b[0mresults\u001b[0m\u001b[1;33m\u001b[0m\u001b[1;33m\u001b[0m\u001b[0m\n\u001b[0;32m    890\u001b[0m \u001b[1;33m\u001b[0m\u001b[0m\n\u001b[1;32m--> 891\u001b[1;33m             \u001b[0mself\u001b[0m\u001b[1;33m.\u001b[0m\u001b[0m_run_search\u001b[0m\u001b[1;33m(\u001b[0m\u001b[0mevaluate_candidates\u001b[0m\u001b[1;33m)\u001b[0m\u001b[1;33m\u001b[0m\u001b[1;33m\u001b[0m\u001b[0m\n\u001b[0m\u001b[0;32m    892\u001b[0m \u001b[1;33m\u001b[0m\u001b[0m\n\u001b[0;32m    893\u001b[0m             \u001b[1;31m# multimetric is determined here because in the case of a callable\u001b[0m\u001b[1;33m\u001b[0m\u001b[1;33m\u001b[0m\u001b[0m\n",
      "\u001b[1;32m~\\anaconda3\\lib\\site-packages\\skopt\\searchcv.py\u001b[0m in \u001b[0;36m_run_search\u001b[1;34m(self, evaluate_candidates)\u001b[0m\n\u001b[0;32m    593\u001b[0m                 \u001b[0mn_points_adjusted\u001b[0m \u001b[1;33m=\u001b[0m \u001b[0mmin\u001b[0m\u001b[1;33m(\u001b[0m\u001b[0mn_iter\u001b[0m\u001b[1;33m,\u001b[0m \u001b[0mn_points\u001b[0m\u001b[1;33m)\u001b[0m\u001b[1;33m\u001b[0m\u001b[1;33m\u001b[0m\u001b[0m\n\u001b[0;32m    594\u001b[0m \u001b[1;33m\u001b[0m\u001b[0m\n\u001b[1;32m--> 595\u001b[1;33m                 optim_result, score_name = self._step(\n\u001b[0m\u001b[0;32m    596\u001b[0m                     \u001b[0msearch_space\u001b[0m\u001b[1;33m,\u001b[0m\u001b[1;33m\u001b[0m\u001b[1;33m\u001b[0m\u001b[0m\n\u001b[0;32m    597\u001b[0m                     \u001b[0moptimizer\u001b[0m\u001b[1;33m,\u001b[0m\u001b[1;33m\u001b[0m\u001b[1;33m\u001b[0m\u001b[0m\n",
      "\u001b[1;32m~\\anaconda3\\lib\\site-packages\\skopt\\searchcv.py\u001b[0m in \u001b[0;36m_step\u001b[1;34m(self, search_space, optimizer, score_name, evaluate_candidates, n_points)\u001b[0m\n\u001b[0;32m    447\u001b[0m         \u001b[0mparams_dict\u001b[0m \u001b[1;33m=\u001b[0m \u001b[1;33m[\u001b[0m\u001b[0mpoint_asdict\u001b[0m\u001b[1;33m(\u001b[0m\u001b[0msearch_space\u001b[0m\u001b[1;33m,\u001b[0m \u001b[0mp\u001b[0m\u001b[1;33m)\u001b[0m \u001b[1;32mfor\u001b[0m \u001b[0mp\u001b[0m \u001b[1;32min\u001b[0m \u001b[0mparams\u001b[0m\u001b[1;33m]\u001b[0m\u001b[1;33m\u001b[0m\u001b[1;33m\u001b[0m\u001b[0m\n\u001b[0;32m    448\u001b[0m \u001b[1;33m\u001b[0m\u001b[0m\n\u001b[1;32m--> 449\u001b[1;33m         \u001b[0mall_results\u001b[0m \u001b[1;33m=\u001b[0m \u001b[0mevaluate_candidates\u001b[0m\u001b[1;33m(\u001b[0m\u001b[0mparams_dict\u001b[0m\u001b[1;33m)\u001b[0m\u001b[1;33m\u001b[0m\u001b[1;33m\u001b[0m\u001b[0m\n\u001b[0m\u001b[0;32m    450\u001b[0m \u001b[1;33m\u001b[0m\u001b[0m\n\u001b[0;32m    451\u001b[0m         \u001b[1;31m# if self.scoring is a callable, we have to wait until here\u001b[0m\u001b[1;33m\u001b[0m\u001b[1;33m\u001b[0m\u001b[0m\n",
      "\u001b[1;32m~\\anaconda3\\lib\\site-packages\\sklearn\\model_selection\\_search.py\u001b[0m in \u001b[0;36mevaluate_candidates\u001b[1;34m(candidate_params, cv, more_results)\u001b[0m\n\u001b[0;32m    836\u001b[0m                     )\n\u001b[0;32m    837\u001b[0m \u001b[1;33m\u001b[0m\u001b[0m\n\u001b[1;32m--> 838\u001b[1;33m                 out = parallel(\n\u001b[0m\u001b[0;32m    839\u001b[0m                     delayed(_fit_and_score)(\n\u001b[0;32m    840\u001b[0m                         \u001b[0mclone\u001b[0m\u001b[1;33m(\u001b[0m\u001b[0mbase_estimator\u001b[0m\u001b[1;33m)\u001b[0m\u001b[1;33m,\u001b[0m\u001b[1;33m\u001b[0m\u001b[1;33m\u001b[0m\u001b[0m\n",
      "\u001b[1;32m~\\anaconda3\\lib\\site-packages\\joblib\\parallel.py\u001b[0m in \u001b[0;36m__call__\u001b[1;34m(self, iterable)\u001b[0m\n\u001b[0;32m   1054\u001b[0m \u001b[1;33m\u001b[0m\u001b[0m\n\u001b[0;32m   1055\u001b[0m             \u001b[1;32mwith\u001b[0m \u001b[0mself\u001b[0m\u001b[1;33m.\u001b[0m\u001b[0m_backend\u001b[0m\u001b[1;33m.\u001b[0m\u001b[0mretrieval_context\u001b[0m\u001b[1;33m(\u001b[0m\u001b[1;33m)\u001b[0m\u001b[1;33m:\u001b[0m\u001b[1;33m\u001b[0m\u001b[1;33m\u001b[0m\u001b[0m\n\u001b[1;32m-> 1056\u001b[1;33m                 \u001b[0mself\u001b[0m\u001b[1;33m.\u001b[0m\u001b[0mretrieve\u001b[0m\u001b[1;33m(\u001b[0m\u001b[1;33m)\u001b[0m\u001b[1;33m\u001b[0m\u001b[1;33m\u001b[0m\u001b[0m\n\u001b[0m\u001b[0;32m   1057\u001b[0m             \u001b[1;31m# Make sure that we get a last message telling us we are done\u001b[0m\u001b[1;33m\u001b[0m\u001b[1;33m\u001b[0m\u001b[0m\n\u001b[0;32m   1058\u001b[0m             \u001b[0melapsed_time\u001b[0m \u001b[1;33m=\u001b[0m \u001b[0mtime\u001b[0m\u001b[1;33m.\u001b[0m\u001b[0mtime\u001b[0m\u001b[1;33m(\u001b[0m\u001b[1;33m)\u001b[0m \u001b[1;33m-\u001b[0m \u001b[0mself\u001b[0m\u001b[1;33m.\u001b[0m\u001b[0m_start_time\u001b[0m\u001b[1;33m\u001b[0m\u001b[1;33m\u001b[0m\u001b[0m\n",
      "\u001b[1;32m~\\anaconda3\\lib\\site-packages\\joblib\\parallel.py\u001b[0m in \u001b[0;36mretrieve\u001b[1;34m(self)\u001b[0m\n\u001b[0;32m    933\u001b[0m             \u001b[1;32mtry\u001b[0m\u001b[1;33m:\u001b[0m\u001b[1;33m\u001b[0m\u001b[1;33m\u001b[0m\u001b[0m\n\u001b[0;32m    934\u001b[0m                 \u001b[1;32mif\u001b[0m \u001b[0mgetattr\u001b[0m\u001b[1;33m(\u001b[0m\u001b[0mself\u001b[0m\u001b[1;33m.\u001b[0m\u001b[0m_backend\u001b[0m\u001b[1;33m,\u001b[0m \u001b[1;34m'supports_timeout'\u001b[0m\u001b[1;33m,\u001b[0m \u001b[1;32mFalse\u001b[0m\u001b[1;33m)\u001b[0m\u001b[1;33m:\u001b[0m\u001b[1;33m\u001b[0m\u001b[1;33m\u001b[0m\u001b[0m\n\u001b[1;32m--> 935\u001b[1;33m                     \u001b[0mself\u001b[0m\u001b[1;33m.\u001b[0m\u001b[0m_output\u001b[0m\u001b[1;33m.\u001b[0m\u001b[0mextend\u001b[0m\u001b[1;33m(\u001b[0m\u001b[0mjob\u001b[0m\u001b[1;33m.\u001b[0m\u001b[0mget\u001b[0m\u001b[1;33m(\u001b[0m\u001b[0mtimeout\u001b[0m\u001b[1;33m=\u001b[0m\u001b[0mself\u001b[0m\u001b[1;33m.\u001b[0m\u001b[0mtimeout\u001b[0m\u001b[1;33m)\u001b[0m\u001b[1;33m)\u001b[0m\u001b[1;33m\u001b[0m\u001b[1;33m\u001b[0m\u001b[0m\n\u001b[0m\u001b[0;32m    936\u001b[0m                 \u001b[1;32melse\u001b[0m\u001b[1;33m:\u001b[0m\u001b[1;33m\u001b[0m\u001b[1;33m\u001b[0m\u001b[0m\n\u001b[0;32m    937\u001b[0m                     \u001b[0mself\u001b[0m\u001b[1;33m.\u001b[0m\u001b[0m_output\u001b[0m\u001b[1;33m.\u001b[0m\u001b[0mextend\u001b[0m\u001b[1;33m(\u001b[0m\u001b[0mjob\u001b[0m\u001b[1;33m.\u001b[0m\u001b[0mget\u001b[0m\u001b[1;33m(\u001b[0m\u001b[1;33m)\u001b[0m\u001b[1;33m)\u001b[0m\u001b[1;33m\u001b[0m\u001b[1;33m\u001b[0m\u001b[0m\n",
      "\u001b[1;32m~\\anaconda3\\lib\\site-packages\\joblib\\_parallel_backends.py\u001b[0m in \u001b[0;36mwrap_future_result\u001b[1;34m(future, timeout)\u001b[0m\n\u001b[0;32m    540\u001b[0m         AsyncResults.get from multiprocessing.\"\"\"\n\u001b[0;32m    541\u001b[0m         \u001b[1;32mtry\u001b[0m\u001b[1;33m:\u001b[0m\u001b[1;33m\u001b[0m\u001b[1;33m\u001b[0m\u001b[0m\n\u001b[1;32m--> 542\u001b[1;33m             \u001b[1;32mreturn\u001b[0m \u001b[0mfuture\u001b[0m\u001b[1;33m.\u001b[0m\u001b[0mresult\u001b[0m\u001b[1;33m(\u001b[0m\u001b[0mtimeout\u001b[0m\u001b[1;33m=\u001b[0m\u001b[0mtimeout\u001b[0m\u001b[1;33m)\u001b[0m\u001b[1;33m\u001b[0m\u001b[1;33m\u001b[0m\u001b[0m\n\u001b[0m\u001b[0;32m    543\u001b[0m         \u001b[1;32mexcept\u001b[0m \u001b[0mCfTimeoutError\u001b[0m \u001b[1;32mas\u001b[0m \u001b[0me\u001b[0m\u001b[1;33m:\u001b[0m\u001b[1;33m\u001b[0m\u001b[1;33m\u001b[0m\u001b[0m\n\u001b[0;32m    544\u001b[0m             \u001b[1;32mraise\u001b[0m \u001b[0mTimeoutError\u001b[0m \u001b[1;32mfrom\u001b[0m \u001b[0me\u001b[0m\u001b[1;33m\u001b[0m\u001b[1;33m\u001b[0m\u001b[0m\n",
      "\u001b[1;32m~\\anaconda3\\lib\\concurrent\\futures\\_base.py\u001b[0m in \u001b[0;36mresult\u001b[1;34m(self, timeout)\u001b[0m\n\u001b[0;32m    444\u001b[0m                     \u001b[1;32mraise\u001b[0m \u001b[0mCancelledError\u001b[0m\u001b[1;33m(\u001b[0m\u001b[1;33m)\u001b[0m\u001b[1;33m\u001b[0m\u001b[1;33m\u001b[0m\u001b[0m\n\u001b[0;32m    445\u001b[0m                 \u001b[1;32melif\u001b[0m \u001b[0mself\u001b[0m\u001b[1;33m.\u001b[0m\u001b[0m_state\u001b[0m \u001b[1;33m==\u001b[0m \u001b[0mFINISHED\u001b[0m\u001b[1;33m:\u001b[0m\u001b[1;33m\u001b[0m\u001b[1;33m\u001b[0m\u001b[0m\n\u001b[1;32m--> 446\u001b[1;33m                     \u001b[1;32mreturn\u001b[0m \u001b[0mself\u001b[0m\u001b[1;33m.\u001b[0m\u001b[0m__get_result\u001b[0m\u001b[1;33m(\u001b[0m\u001b[1;33m)\u001b[0m\u001b[1;33m\u001b[0m\u001b[1;33m\u001b[0m\u001b[0m\n\u001b[0m\u001b[0;32m    447\u001b[0m                 \u001b[1;32melse\u001b[0m\u001b[1;33m:\u001b[0m\u001b[1;33m\u001b[0m\u001b[1;33m\u001b[0m\u001b[0m\n\u001b[0;32m    448\u001b[0m                     \u001b[1;32mraise\u001b[0m \u001b[0mTimeoutError\u001b[0m\u001b[1;33m(\u001b[0m\u001b[1;33m)\u001b[0m\u001b[1;33m\u001b[0m\u001b[1;33m\u001b[0m\u001b[0m\n",
      "\u001b[1;32m~\\anaconda3\\lib\\concurrent\\futures\\_base.py\u001b[0m in \u001b[0;36m__get_result\u001b[1;34m(self)\u001b[0m\n\u001b[0;32m    389\u001b[0m         \u001b[1;32mif\u001b[0m \u001b[0mself\u001b[0m\u001b[1;33m.\u001b[0m\u001b[0m_exception\u001b[0m\u001b[1;33m:\u001b[0m\u001b[1;33m\u001b[0m\u001b[1;33m\u001b[0m\u001b[0m\n\u001b[0;32m    390\u001b[0m             \u001b[1;32mtry\u001b[0m\u001b[1;33m:\u001b[0m\u001b[1;33m\u001b[0m\u001b[1;33m\u001b[0m\u001b[0m\n\u001b[1;32m--> 391\u001b[1;33m                 \u001b[1;32mraise\u001b[0m \u001b[0mself\u001b[0m\u001b[1;33m.\u001b[0m\u001b[0m_exception\u001b[0m\u001b[1;33m\u001b[0m\u001b[1;33m\u001b[0m\u001b[0m\n\u001b[0m\u001b[0;32m    392\u001b[0m             \u001b[1;32mfinally\u001b[0m\u001b[1;33m:\u001b[0m\u001b[1;33m\u001b[0m\u001b[1;33m\u001b[0m\u001b[0m\n\u001b[0;32m    393\u001b[0m                 \u001b[1;31m# Break a reference cycle with the exception in self._exception\u001b[0m\u001b[1;33m\u001b[0m\u001b[1;33m\u001b[0m\u001b[0m\n",
      "\u001b[1;31mValueError\u001b[0m: Found input variables with inconsistent numbers of samples: [3, 404489]"
     ]
    }
   ],
   "source": [
    "#TO RUN\n",
    "\n",
    "tfidf_model = Pipeline(steps=[('preprocessor', tfidf_preprocessor),\n",
    "                        ('classifier', LinearSVC())])\n",
    "\n",
    "opt = BayesSearchCV(\n",
    "    estimator=tfidf_model,\n",
    "    search_spaces={\n",
    "        #'classifier__C': reciprocal(0.001, 1000),\n",
    "        'classifier__penalty': ['l1', 'l2'],\n",
    "        'classifier__dual': [False],\n",
    "        'classifier__tol': [1e-3, 1e-4, 1e-5],\n",
    "        'classifier__max_iter': [1000, 2000, 3000]\n",
    "    },\n",
    "    n_iter=5, #20\n",
    "    cv=StratifiedKFold(n_splits=5),\n",
    "    random_state=42,\n",
    "    n_jobs=-1\n",
    ")\n",
    "\n",
    "opt.fit(X_train, y_train)\n",
    "print(\"Best parameters:\", opt.best_params_)\n",
    "print(\"Best ROC AUC:\", opt.best_score_)\n"
   ]
  },
  {
   "cell_type": "markdown",
   "metadata": {},
   "source": [
    "### Hyperparameters for LinearSVC\n",
    "using trigrams tfidf vectors"
   ]
  },
  {
   "cell_type": "code",
   "execution_count": 54,
   "metadata": {},
   "outputs": [
    {
     "name": "stderr",
     "output_type": "stream",
     "text": [
      "Random Grid Search:  20%|████████████▌                                                  | 1/5 [09:17<37:11, 557.91s/it]"
     ]
    },
    {
     "name": "stdout",
     "output_type": "stream",
     "text": [
      "Best ROC AUC score: 0.788498 using {'C': 0.311954562091293, 'dual': False, 'max_iter': 1000, 'penalty': 'l1', 'tol': 0.0001}\n"
     ]
    },
    {
     "name": "stderr",
     "output_type": "stream",
     "text": [
      "\n"
     ]
    }
   ],
   "source": [
    "#RandomGridSearch\n",
    "\n",
    "param_grid = {\n",
    "    'C': reciprocal(0.1, 10), #0.001, 1000\n",
    "    'penalty': ['l1', 'l2'],\n",
    "    'dual': [False],\n",
    "    'tol': [1e-3, 1e-4], #1e-3, 1e-4, 1e-5\n",
    "    'max_iter': [1000] # 1000, 2000, 3000\n",
    "}\n",
    "\n",
    "#small_tfidf_trigrams_vector_train = tfidf_trigrams_vector_train\n",
    "#small_y_train = y_train\n",
    "\n",
    "roc_auc_scorer = make_scorer(roc_auc_score, greater_is_better=True)\n",
    "\n",
    "random = RandomizedSearchCV(estimator=l_SVC_trigrams, param_distributions=param_grid,\n",
    "                            cv=3, n_jobs=-1, n_iter=5, scoring=roc_auc_scorer)\n",
    "\n",
    "with tqdm(total=5, desc=\"Random Grid Search\") as pbar:\n",
    "    random_result = random.fit(tfidf_biagrams_vector_train, y_train)\n",
    "    pbar.update(1)\n",
    "\n",
    "print(\"Best ROC AUC score: %f using %s\" % (random_result.best_score_, random_result.best_params_))"
   ]
  },
  {
   "cell_type": "code",
   "execution_count": null,
   "metadata": {},
   "outputs": [],
   "source": [
    "best_model=random_result.best_estimator_\n",
    "best_model.score(X_test, y_test)\n",
    "#coś nie działa nie wiem czemu"
   ]
  },
  {
   "cell_type": "code",
   "execution_count": 27,
   "metadata": {},
   "outputs": [
    {
     "name": "stdout",
     "output_type": "stream",
     "text": [
      "Fitting 5 folds for each of 3 candidates, totalling 15 fits\n",
      "[CV 1/5] END .............................C=0.1;, score=0.833 total time=   5.8s\n",
      "[CV 2/5] END .............................C=0.1;, score=0.833 total time=   5.5s\n",
      "[CV 3/5] END .............................C=0.1;, score=0.833 total time=   3.9s\n",
      "[CV 4/5] END .............................C=0.1;, score=0.833 total time=   3.5s\n",
      "[CV 5/5] END .............................C=0.1;, score=0.832 total time=   4.5s\n",
      "[CV 1/5] END ...............................C=1;, score=0.839 total time=  15.3s\n",
      "[CV 2/5] END ...............................C=1;, score=0.840 total time=  13.9s\n",
      "[CV 3/5] END ...............................C=1;, score=0.838 total time=  12.3s\n",
      "[CV 4/5] END ...............................C=1;, score=0.839 total time=  12.2s\n",
      "[CV 5/5] END ...............................C=1;, score=0.839 total time=  13.0s\n",
      "[CV 1/5] END ..............................C=10;, score=0.828 total time= 2.8min\n",
      "[CV 2/5] END ..............................C=10;, score=0.827 total time= 2.7min\n",
      "[CV 3/5] END ..............................C=10;, score=0.827 total time= 2.8min\n",
      "[CV 4/5] END ..............................C=10;, score=0.827 total time= 2.6min\n",
      "[CV 5/5] END ..............................C=10;, score=0.828 total time= 3.0min\n",
      "Tuned hyperparameters (best parameters):  {'C': 1}\n",
      "Accuracy: 0.8389397389500987\n"
     ]
    }
   ],
   "source": [
    "param_grid = {'C': [0.1, 1, 10]}\n",
    "\n",
    "linearSVC_grid = GridSearchCV(LinearSVC(), param_grid, refit=True, verbose=3)\n",
    "linearSVC_grid.fit(tfidf_trigrams_vector_train, y_train)\n",
    "\n",
    "print(\"Tuned hyperparameters (best parameters): \", linearSVC_grid.best_params_)\n",
    "print(\"Accuracy:\", linearSVC_grid.best_score_)"
   ]
  },
  {
   "cell_type": "markdown",
   "metadata": {},
   "source": [
    "## Logistic Regression"
   ]
  },
  {
   "cell_type": "code",
   "execution_count": 28,
   "metadata": {},
   "outputs": [
    {
     "name": "stdout",
     "output_type": "stream",
     "text": [
      "Train Accuracy: 85.609%\n",
      "Test Accuracy: 83.695%\n"
     ]
    }
   ],
   "source": [
    "lr=LogisticRegression(solver='sag')\n",
    "lr.fit(tfidf_vector_train,y_train)\n",
    "print(f\"Train Accuracy: {lr.score(tfidf_vector_train, y_train) * 100:.3f}%\", )\n",
    "print(f\"Test Accuracy: {lr.score(tfidf_vector_test, y_test) * 100:.3f}%\")"
   ]
  },
  {
   "cell_type": "code",
   "execution_count": 29,
   "metadata": {},
   "outputs": [
    {
     "data": {
      "text/html": [
       "<div>\n",
       "<style scoped>\n",
       "    .dataframe tbody tr th:only-of-type {\n",
       "        vertical-align: middle;\n",
       "    }\n",
       "\n",
       "    .dataframe tbody tr th {\n",
       "        vertical-align: top;\n",
       "    }\n",
       "\n",
       "    .dataframe thead th {\n",
       "        text-align: right;\n",
       "    }\n",
       "</style>\n",
       "<table border=\"1\" class=\"dataframe\">\n",
       "  <thead>\n",
       "    <tr style=\"text-align: right;\">\n",
       "      <th></th>\n",
       "      <th>precision</th>\n",
       "      <th>recall</th>\n",
       "      <th>f1-score</th>\n",
       "      <th>support</th>\n",
       "    </tr>\n",
       "  </thead>\n",
       "  <tbody>\n",
       "    <tr>\n",
       "      <th>0</th>\n",
       "      <td>0.855416</td>\n",
       "      <td>0.946382</td>\n",
       "      <td>0.898603</td>\n",
       "      <td>165374.000000</td>\n",
       "    </tr>\n",
       "    <tr>\n",
       "      <th>1</th>\n",
       "      <td>0.736564</td>\n",
       "      <td>0.483794</td>\n",
       "      <td>0.584001</td>\n",
       "      <td>51245.000000</td>\n",
       "    </tr>\n",
       "    <tr>\n",
       "      <th>accuracy</th>\n",
       "      <td>0.836949</td>\n",
       "      <td>0.836949</td>\n",
       "      <td>0.836949</td>\n",
       "      <td>0.836949</td>\n",
       "    </tr>\n",
       "    <tr>\n",
       "      <th>macro avg</th>\n",
       "      <td>0.795990</td>\n",
       "      <td>0.715088</td>\n",
       "      <td>0.741302</td>\n",
       "      <td>216619.000000</td>\n",
       "    </tr>\n",
       "    <tr>\n",
       "      <th>weighted avg</th>\n",
       "      <td>0.827300</td>\n",
       "      <td>0.836949</td>\n",
       "      <td>0.824178</td>\n",
       "      <td>216619.000000</td>\n",
       "    </tr>\n",
       "  </tbody>\n",
       "</table>\n",
       "</div>"
      ],
      "text/plain": [
       "              precision    recall  f1-score        support\n",
       "0              0.855416  0.946382  0.898603  165374.000000\n",
       "1              0.736564  0.483794  0.584001   51245.000000\n",
       "accuracy       0.836949  0.836949  0.836949       0.836949\n",
       "macro avg      0.795990  0.715088  0.741302  216619.000000\n",
       "weighted avg   0.827300  0.836949  0.824178  216619.000000"
      ]
     },
     "execution_count": 29,
     "metadata": {},
     "output_type": "execute_result"
    }
   ],
   "source": [
    "y_pred_train = lr.predict(tfidf_vector_test)\n",
    "report = classification_report(y_test, y_pred_train, output_dict=True)\n",
    "\n",
    "report_df = pd.DataFrame(report).transpose()\n",
    "report_df"
   ]
  },
  {
   "cell_type": "markdown",
   "metadata": {},
   "source": [
    "### Hyperparameters for logistic regression for TFIDF"
   ]
  },
  {
   "cell_type": "code",
   "execution_count": null,
   "metadata": {
    "scrolled": true
   },
   "outputs": [
    {
     "name": "stdout",
     "output_type": "stream",
     "text": [
      "Fitting 3 folds for each of 28 candidates, totalling 84 fits\n",
      "[CV 1/3] END C=0.001, penalty=l1, solver=liblinear;, score=0.764 total time=   0.4s\n",
      "[CV 2/3] END C=0.001, penalty=l1, solver=liblinear;, score=0.764 total time=   0.5s\n",
      "[CV 3/3] END C=0.001, penalty=l1, solver=liblinear;, score=0.764 total time=   0.5s\n",
      "[CV 1/3] END ..C=0.001, penalty=l1, solver=saga;, score=0.764 total time=   5.0s\n",
      "[CV 2/3] END ..C=0.001, penalty=l1, solver=saga;, score=0.764 total time=   4.8s\n",
      "[CV 3/3] END ..C=0.001, penalty=l1, solver=saga;, score=0.764 total time=   4.8s\n",
      "[CV 1/3] END C=0.001, penalty=l2, solver=liblinear;, score=0.764 total time=   0.6s\n",
      "[CV 2/3] END C=0.001, penalty=l2, solver=liblinear;, score=0.764 total time=   0.6s\n",
      "[CV 3/3] END C=0.001, penalty=l2, solver=liblinear;, score=0.764 total time=   0.6s\n",
      "[CV 1/3] END ..C=0.001, penalty=l2, solver=saga;, score=0.764 total time=   4.9s\n",
      "[CV 2/3] END ..C=0.001, penalty=l2, solver=saga;, score=0.764 total time=   5.6s\n",
      "[CV 3/3] END ..C=0.001, penalty=l2, solver=saga;, score=0.764 total time=   5.5s\n",
      "[CV 1/3] END C=0.01, penalty=l1, solver=liblinear;, score=0.791 total time=   1.0s\n",
      "[CV 2/3] END C=0.01, penalty=l1, solver=liblinear;, score=0.790 total time=   1.3s\n",
      "[CV 3/3] END C=0.01, penalty=l1, solver=liblinear;, score=0.789 total time=   1.4s\n",
      "[CV 1/3] END ...C=0.01, penalty=l1, solver=saga;, score=0.791 total time=   7.6s\n",
      "[CV 2/3] END ...C=0.01, penalty=l1, solver=saga;, score=0.790 total time=   5.8s\n",
      "[CV 3/3] END ...C=0.01, penalty=l1, solver=saga;, score=0.789 total time=   6.9s\n",
      "[CV 1/3] END C=0.01, penalty=l2, solver=liblinear;, score=0.788 total time=   1.2s\n",
      "[CV 2/3] END C=0.01, penalty=l2, solver=liblinear;, score=0.788 total time=   1.0s\n",
      "[CV 3/3] END C=0.01, penalty=l2, solver=liblinear;, score=0.787 total time=   1.0s\n",
      "[CV 1/3] END ...C=0.01, penalty=l2, solver=saga;, score=0.788 total time=   5.8s\n",
      "[CV 2/3] END ...C=0.01, penalty=l2, solver=saga;, score=0.788 total time=   5.1s\n",
      "[CV 3/3] END ...C=0.01, penalty=l2, solver=saga;, score=0.787 total time=   6.7s\n",
      "[CV 1/3] END C=0.1, penalty=l1, solver=liblinear;, score=0.820 total time=   2.0s\n",
      "[CV 2/3] END C=0.1, penalty=l1, solver=liblinear;, score=0.820 total time=   2.5s\n",
      "[CV 3/3] END C=0.1, penalty=l1, solver=liblinear;, score=0.819 total time=   2.3s\n",
      "[CV 1/3] END ....C=0.1, penalty=l1, solver=saga;, score=0.820 total time=  14.1s\n",
      "[CV 2/3] END ....C=0.1, penalty=l1, solver=saga;, score=0.820 total time=  15.7s\n",
      "[CV 3/3] END ....C=0.1, penalty=l1, solver=saga;, score=0.819 total time=  15.1s\n",
      "[CV 1/3] END C=0.1, penalty=l2, solver=liblinear;, score=0.822 total time=   1.8s\n",
      "[CV 2/3] END C=0.1, penalty=l2, solver=liblinear;, score=0.823 total time=   2.3s\n",
      "[CV 3/3] END C=0.1, penalty=l2, solver=liblinear;, score=0.822 total time=   2.2s\n",
      "[CV 1/3] END ....C=0.1, penalty=l2, solver=saga;, score=0.822 total time=   6.5s\n",
      "[CV 2/3] END ....C=0.1, penalty=l2, solver=saga;, score=0.823 total time=   6.9s\n",
      "[CV 3/3] END ....C=0.1, penalty=l2, solver=saga;, score=0.822 total time=   8.8s\n",
      "[CV 1/3] END C=1.0, penalty=l1, solver=liblinear;, score=0.835 total time=   4.0s\n",
      "[CV 2/3] END C=1.0, penalty=l1, solver=liblinear;, score=0.834 total time=   4.3s\n",
      "[CV 3/3] END C=1.0, penalty=l1, solver=liblinear;, score=0.834 total time=   4.5s\n",
      "[CV 1/3] END ....C=1.0, penalty=l1, solver=saga;, score=0.835 total time= 4.2min\n",
      "[CV 2/3] END ....C=1.0, penalty=l1, solver=saga;, score=0.834 total time= 5.1min\n",
      "[CV 3/3] END ....C=1.0, penalty=l1, solver=saga;, score=0.834 total time= 5.0min\n",
      "[CV 1/3] END C=1.0, penalty=l2, solver=liblinear;, score=0.835 total time=   3.6s\n",
      "[CV 2/3] END C=1.0, penalty=l2, solver=liblinear;, score=0.835 total time=   3.7s\n",
      "[CV 3/3] END C=1.0, penalty=l2, solver=liblinear;, score=0.835 total time=   3.9s\n",
      "[CV 1/3] END ....C=1.0, penalty=l2, solver=saga;, score=0.835 total time=   8.2s\n",
      "[CV 2/3] END ....C=1.0, penalty=l2, solver=saga;, score=0.835 total time=   6.1s\n",
      "[CV 3/3] END ....C=1.0, penalty=l2, solver=saga;, score=0.835 total time=   6.6s\n",
      "[CV 1/3] END C=10.0, penalty=l1, solver=liblinear;, score=0.824 total time=   8.1s\n",
      "[CV 2/3] END C=10.0, penalty=l1, solver=liblinear;, score=0.824 total time=   8.3s\n",
      "[CV 3/3] END C=10.0, penalty=l1, solver=liblinear;, score=0.823 total time=   8.5s\n"
     ]
    }
   ],
   "source": [
    "grid = {\"C\": np.logspace(-3, 3, 7), \"penalty\": [\"l1\", \"l2\"], \"solver\": [\"liblinear\", \"saga\"]} # l1 lasso l2 ridge\n",
    "logreg=LogisticRegression(max_iter=100)\n",
    "logreg_cv=GridSearchCV(logreg,grid,cv=3,verbose=3,refit=True)\n",
    "logreg_cv.fit(tfidf_vector_train,y_train)\n",
    "\n",
    "print(\"tuned hpyerparameters :(best parameters) \", logreg_cv.best_params_)\n",
    "print(\"accuracy :\",logreg_cv.best_score_)"
   ]
  },
  {
   "cell_type": "markdown",
   "metadata": {},
   "source": [
    "### Linear SVC for word embeddings"
   ]
  },
  {
   "cell_type": "code",
   "execution_count": 17,
   "metadata": {},
   "outputs": [
    {
     "data": {
      "text/html": [
       "<div>\n",
       "<style scoped>\n",
       "    .dataframe tbody tr th:only-of-type {\n",
       "        vertical-align: middle;\n",
       "    }\n",
       "\n",
       "    .dataframe tbody tr th {\n",
       "        vertical-align: top;\n",
       "    }\n",
       "\n",
       "    .dataframe thead th {\n",
       "        text-align: right;\n",
       "    }\n",
       "</style>\n",
       "<table border=\"1\" class=\"dataframe\">\n",
       "  <thead>\n",
       "    <tr style=\"text-align: right;\">\n",
       "      <th></th>\n",
       "      <th>precision</th>\n",
       "      <th>recall</th>\n",
       "      <th>f1-score</th>\n",
       "      <th>support</th>\n",
       "    </tr>\n",
       "  </thead>\n",
       "  <tbody>\n",
       "    <tr>\n",
       "      <th>0</th>\n",
       "      <td>0.824393</td>\n",
       "      <td>0.964916</td>\n",
       "      <td>0.889137</td>\n",
       "      <td>165374.0000</td>\n",
       "    </tr>\n",
       "    <tr>\n",
       "      <th>1</th>\n",
       "      <td>0.748352</td>\n",
       "      <td>0.336696</td>\n",
       "      <td>0.464435</td>\n",
       "      <td>51245.0000</td>\n",
       "    </tr>\n",
       "    <tr>\n",
       "      <th>accuracy</th>\n",
       "      <td>0.816300</td>\n",
       "      <td>0.816300</td>\n",
       "      <td>0.816300</td>\n",
       "      <td>0.8163</td>\n",
       "    </tr>\n",
       "    <tr>\n",
       "      <th>macro avg</th>\n",
       "      <td>0.786372</td>\n",
       "      <td>0.650806</td>\n",
       "      <td>0.676786</td>\n",
       "      <td>216619.0000</td>\n",
       "    </tr>\n",
       "    <tr>\n",
       "      <th>weighted avg</th>\n",
       "      <td>0.806404</td>\n",
       "      <td>0.816300</td>\n",
       "      <td>0.788666</td>\n",
       "      <td>216619.0000</td>\n",
       "    </tr>\n",
       "  </tbody>\n",
       "</table>\n",
       "</div>"
      ],
      "text/plain": [
       "              precision    recall  f1-score      support\n",
       "0              0.824393  0.964916  0.889137  165374.0000\n",
       "1              0.748352  0.336696  0.464435   51245.0000\n",
       "accuracy       0.816300  0.816300  0.816300       0.8163\n",
       "macro avg      0.786372  0.650806  0.676786  216619.0000\n",
       "weighted avg   0.806404  0.816300  0.788666  216619.0000"
      ]
     },
     "execution_count": 17,
     "metadata": {},
     "output_type": "execute_result"
    }
   ],
   "source": [
    "lsvc_word_embeddings = LinearSVC()\n",
    "\n",
    "lsvc_word_embeddings.fit(X_train_w2v_pad, y_train)\n",
    "y_pred_word_embeddings = lsvc_word_embeddings.predict(X_test_w2v_pad)\n",
    "report_word_embeddings = classification_report(y_test, y_pred_word_embeddings, output_dict=True)\n",
    "report_df_word_embeddings = pd.DataFrame(report_word_embeddings).transpose()\n",
    "\n",
    "report_df_word_embeddings"
   ]
  },
  {
   "cell_type": "markdown",
   "metadata": {},
   "source": [
    "### Logistic Regression for word embedding"
   ]
  },
  {
   "cell_type": "code",
   "execution_count": 75,
   "metadata": {},
   "outputs": [
    {
     "name": "stdout",
     "output_type": "stream",
     "text": [
      "Train Accuracy: 81.851%\n",
      "Test Accuracy: 81.819%\n"
     ]
    }
   ],
   "source": [
    "lr_wordembedding=LogisticRegression(solver='sag')\n",
    "lr_wordembedding.fit(X_train_w2v_pad,y_train)\n",
    "print(f\"Train Accuracy: {lr_wordembedding.score(X_train_w2v_pad, y_train) * 100:.3f}%\", )\n",
    "print(f\"Test Accuracy: {lr_wordembedding.score(X_test_w2v_pad, y_test) * 100:.3f}%\")"
   ]
  },
  {
   "cell_type": "markdown",
   "metadata": {},
   "source": [
    "### Hyperparameters for logistic regression for Word Embeddings"
   ]
  },
  {
   "cell_type": "code",
   "execution_count": 76,
   "metadata": {},
   "outputs": [
    {
     "name": "stdout",
     "output_type": "stream",
     "text": [
      "Fitting 3 folds for each of 28 candidates, totalling 84 fits\n",
      "[CV 1/3] END C=0.001, penalty=l1, solver=liblinear;, score=0.789 total time=   4.7s\n",
      "[CV 2/3] END C=0.001, penalty=l1, solver=liblinear;, score=0.789 total time=   5.3s\n",
      "[CV 3/3] END C=0.001, penalty=l1, solver=liblinear;, score=0.788 total time=   4.2s\n",
      "[CV 1/3] END ..C=0.001, penalty=l1, solver=saga;, score=0.789 total time=  11.4s\n",
      "[CV 2/3] END ..C=0.001, penalty=l1, solver=saga;, score=0.789 total time=  11.3s\n",
      "[CV 3/3] END ..C=0.001, penalty=l1, solver=saga;, score=0.788 total time=  10.9s\n",
      "[CV 1/3] END C=0.001, penalty=l2, solver=liblinear;, score=0.802 total time=   3.9s\n",
      "[CV 2/3] END C=0.001, penalty=l2, solver=liblinear;, score=0.803 total time=   3.9s\n",
      "[CV 3/3] END C=0.001, penalty=l2, solver=liblinear;, score=0.801 total time=   3.7s\n",
      "[CV 1/3] END ..C=0.001, penalty=l2, solver=saga;, score=0.802 total time=   9.2s\n",
      "[CV 2/3] END ..C=0.001, penalty=l2, solver=saga;, score=0.802 total time=   9.6s\n",
      "[CV 3/3] END ..C=0.001, penalty=l2, solver=saga;, score=0.801 total time=   9.4s\n",
      "[CV 1/3] END C=0.01, penalty=l1, solver=liblinear;, score=0.817 total time=  34.3s\n",
      "[CV 2/3] END C=0.01, penalty=l1, solver=liblinear;, score=0.817 total time=  48.4s\n",
      "[CV 3/3] END C=0.01, penalty=l1, solver=liblinear;, score=0.816 total time=  57.4s\n",
      "[CV 1/3] END ...C=0.01, penalty=l1, solver=saga;, score=0.817 total time=  15.4s\n",
      "[CV 2/3] END ...C=0.01, penalty=l1, solver=saga;, score=0.817 total time=  17.5s\n",
      "[CV 3/3] END ...C=0.01, penalty=l1, solver=saga;, score=0.815 total time=  16.8s\n",
      "[CV 1/3] END C=0.01, penalty=l2, solver=liblinear;, score=0.817 total time=   7.5s\n",
      "[CV 2/3] END C=0.01, penalty=l2, solver=liblinear;, score=0.818 total time=   7.3s\n",
      "[CV 3/3] END C=0.01, penalty=l2, solver=liblinear;, score=0.816 total time=   7.9s\n",
      "[CV 1/3] END ...C=0.01, penalty=l2, solver=saga;, score=0.818 total time=  11.4s\n",
      "[CV 2/3] END ...C=0.01, penalty=l2, solver=saga;, score=0.818 total time=  11.2s\n",
      "[CV 3/3] END ...C=0.01, penalty=l2, solver=saga;, score=0.816 total time=  13.5s\n",
      "[CV 1/3] END C=0.1, penalty=l1, solver=liblinear;, score=0.819 total time= 1.2min\n",
      "[CV 2/3] END C=0.1, penalty=l1, solver=liblinear;, score=0.819 total time= 1.1min\n",
      "[CV 3/3] END C=0.1, penalty=l1, solver=liblinear;, score=0.817 total time= 1.2min\n",
      "[CV 1/3] END ....C=0.1, penalty=l1, solver=saga;, score=0.819 total time=  15.7s\n",
      "[CV 2/3] END ....C=0.1, penalty=l1, solver=saga;, score=0.819 total time=  16.0s\n",
      "[CV 3/3] END ....C=0.1, penalty=l1, solver=saga;, score=0.817 total time=  16.4s\n",
      "[CV 1/3] END C=0.1, penalty=l2, solver=liblinear;, score=0.819 total time=   8.4s\n",
      "[CV 2/3] END C=0.1, penalty=l2, solver=liblinear;, score=0.819 total time=   7.8s\n",
      "[CV 3/3] END C=0.1, penalty=l2, solver=liblinear;, score=0.817 total time=   8.1s\n",
      "[CV 1/3] END ....C=0.1, penalty=l2, solver=saga;, score=0.819 total time=  12.3s\n",
      "[CV 2/3] END ....C=0.1, penalty=l2, solver=saga;, score=0.819 total time=  11.4s\n",
      "[CV 3/3] END ....C=0.1, penalty=l2, solver=saga;, score=0.817 total time=  12.1s\n",
      "[CV 1/3] END C=1.0, penalty=l1, solver=liblinear;, score=0.819 total time= 1.2min\n",
      "[CV 2/3] END C=1.0, penalty=l1, solver=liblinear;, score=0.819 total time= 1.3min\n",
      "[CV 3/3] END C=1.0, penalty=l1, solver=liblinear;, score=0.818 total time= 1.4min\n",
      "[CV 1/3] END ....C=1.0, penalty=l1, solver=saga;, score=0.819 total time=  18.8s\n",
      "[CV 2/3] END ....C=1.0, penalty=l1, solver=saga;, score=0.819 total time=  15.7s\n",
      "[CV 3/3] END ....C=1.0, penalty=l1, solver=saga;, score=0.818 total time=  15.5s\n",
      "[CV 1/3] END C=1.0, penalty=l2, solver=liblinear;, score=0.819 total time=   9.1s\n",
      "[CV 2/3] END C=1.0, penalty=l2, solver=liblinear;, score=0.819 total time=   9.6s\n",
      "[CV 3/3] END C=1.0, penalty=l2, solver=liblinear;, score=0.818 total time=   7.5s\n",
      "[CV 1/3] END ....C=1.0, penalty=l2, solver=saga;, score=0.819 total time=  11.5s\n",
      "[CV 2/3] END ....C=1.0, penalty=l2, solver=saga;, score=0.819 total time=  12.1s\n",
      "[CV 3/3] END ....C=1.0, penalty=l2, solver=saga;, score=0.818 total time=  13.0s\n",
      "[CV 1/3] END C=10.0, penalty=l1, solver=liblinear;, score=0.819 total time= 1.3min\n",
      "[CV 2/3] END C=10.0, penalty=l1, solver=liblinear;, score=0.819 total time= 1.2min\n",
      "[CV 3/3] END C=10.0, penalty=l1, solver=liblinear;, score=0.818 total time= 1.3min\n",
      "[CV 1/3] END ...C=10.0, penalty=l1, solver=saga;, score=0.819 total time=  14.7s\n",
      "[CV 2/3] END ...C=10.0, penalty=l1, solver=saga;, score=0.819 total time=  18.2s\n",
      "[CV 3/3] END ...C=10.0, penalty=l1, solver=saga;, score=0.817 total time=  16.9s\n",
      "[CV 1/3] END C=10.0, penalty=l2, solver=liblinear;, score=0.819 total time=   8.6s\n",
      "[CV 2/3] END C=10.0, penalty=l2, solver=liblinear;, score=0.819 total time=   9.8s\n",
      "[CV 3/3] END C=10.0, penalty=l2, solver=liblinear;, score=0.817 total time=   9.0s\n",
      "[CV 1/3] END ...C=10.0, penalty=l2, solver=saga;, score=0.819 total time=  13.5s\n",
      "[CV 2/3] END ...C=10.0, penalty=l2, solver=saga;, score=0.819 total time= 5.7min\n",
      "[CV 3/3] END ...C=10.0, penalty=l2, solver=saga;, score=0.817 total time=   9.6s\n",
      "[CV 1/3] END C=100.0, penalty=l1, solver=liblinear;, score=0.819 total time=  42.7s\n",
      "[CV 2/3] END C=100.0, penalty=l1, solver=liblinear;, score=0.819 total time=  45.7s\n",
      "[CV 3/3] END C=100.0, penalty=l1, solver=liblinear;, score=0.818 total time=  57.3s\n",
      "[CV 1/3] END ..C=100.0, penalty=l1, solver=saga;, score=0.819 total time=  14.9s\n",
      "[CV 2/3] END ..C=100.0, penalty=l1, solver=saga;, score=0.819 total time=  17.0s\n",
      "[CV 3/3] END ..C=100.0, penalty=l1, solver=saga;, score=0.817 total time=  13.8s\n",
      "[CV 1/3] END C=100.0, penalty=l2, solver=liblinear;, score=0.819 total time=  10.3s\n",
      "[CV 2/3] END C=100.0, penalty=l2, solver=liblinear;, score=0.819 total time=  10.8s\n",
      "[CV 3/3] END C=100.0, penalty=l2, solver=liblinear;, score=0.817 total time=   9.9s\n",
      "[CV 1/3] END ..C=100.0, penalty=l2, solver=saga;, score=0.819 total time=  10.5s\n",
      "[CV 2/3] END ..C=100.0, penalty=l2, solver=saga;, score=0.819 total time=  11.5s\n",
      "[CV 3/3] END ..C=100.0, penalty=l2, solver=saga;, score=0.817 total time=  12.1s\n",
      "[CV 1/3] END C=1000.0, penalty=l1, solver=liblinear;, score=0.819 total time= 1.3min\n",
      "[CV 2/3] END C=1000.0, penalty=l1, solver=liblinear;, score=0.819 total time= 1.4min\n",
      "[CV 3/3] END C=1000.0, penalty=l1, solver=liblinear;, score=0.818 total time= 1.3min\n",
      "[CV 1/3] END .C=1000.0, penalty=l1, solver=saga;, score=0.819 total time=  24.9s\n",
      "[CV 2/3] END .C=1000.0, penalty=l1, solver=saga;, score=0.819 total time=  25.1s\n",
      "[CV 3/3] END .C=1000.0, penalty=l1, solver=saga;, score=0.817 total time=  19.9s\n",
      "[CV 1/3] END C=1000.0, penalty=l2, solver=liblinear;, score=0.819 total time=  10.1s\n",
      "[CV 2/3] END C=1000.0, penalty=l2, solver=liblinear;, score=0.819 total time=   9.9s\n",
      "[CV 3/3] END C=1000.0, penalty=l2, solver=liblinear;, score=0.817 total time=   9.6s\n",
      "[CV 1/3] END .C=1000.0, penalty=l2, solver=saga;, score=0.819 total time=  15.4s\n",
      "[CV 2/3] END .C=1000.0, penalty=l2, solver=saga;, score=0.819 total time=  15.4s\n",
      "[CV 3/3] END .C=1000.0, penalty=l2, solver=saga;, score=0.817 total time=  16.6s\n",
      "tuned hpyerparameters :(best parameters)  {'C': 1.0, 'penalty': 'l1', 'solver': 'liblinear'}\n",
      "accuracy : 0.8185149870481947\n"
     ]
    }
   ],
   "source": [
    "grid = {\"C\": np.logspace(-3, 3, 7), \"penalty\": [\"l1\", \"l2\"], \"solver\": [\"liblinear\", \"saga\"]}\n",
    "logreg_wordembedding=LogisticRegression(max_iter=100)\n",
    "logreg_cv_wordembedding=GridSearchCV(logreg_wordembedding,grid,cv=3,verbose=3,refit=True)\n",
    "logreg_cv_wordembedding.fit(X_train_w2v_pad,y_train)\n",
    "\n",
    "print(\"tuned hpyerparameters :(best parameters) \", logreg_cv_wordembedding.best_params_)\n",
    "print(\"accuracy :\",logreg_cv_wordembedding.best_score_)"
   ]
  },
  {
   "cell_type": "markdown",
   "metadata": {},
   "source": [
    "### Random Forest for TFIDF"
   ]
  },
  {
   "cell_type": "code",
   "execution_count": 69,
   "metadata": {},
   "outputs": [
    {
     "name": "stdout",
     "output_type": "stream",
     "text": [
      "Accuracy Random Forest: 0.8176291091732489\n"
     ]
    }
   ],
   "source": [
    "X_train_rf_1, _, y_train_rf_1, _ = train_test_split(tfidf_vector_train, y_train, test_size=0.5, random_state=42)\n",
    "\n",
    "rf_model_1 = RandomForestClassifier(n_estimators=20, random_state=42, n_jobs=-1)\n",
    "rf_model_1.fit(X_train_rf_1, y_train_rf_1)\n",
    "\n",
    "y_pred_rf_1 = rf_model_1.predict(tfidf_vector_test)\n",
    "\n",
    "accuracy_rf_1 = accuracy_score(y_test, y_pred_rf_1)\n",
    "print(\"Accuracy Random Forest:\", accuracy_rf_1)\n"
   ]
  },
  {
   "cell_type": "markdown",
   "metadata": {},
   "source": [
    "### Random Forest for word embeddings"
   ]
  },
  {
   "cell_type": "code",
   "execution_count": 74,
   "metadata": {},
   "outputs": [
    {
     "name": "stdout",
     "output_type": "stream",
     "text": [
      "Accuracy Random Forest: 0.8115816248805506\n"
     ]
    }
   ],
   "source": [
    "X_train_rf_2, _, y_train_rf_2, _ = train_test_split(X_train_w2v_pad, y_train, test_size=0.5, random_state=42)\n",
    "\n",
    "rf_model_2 = RandomForestClassifier(n_estimators=100, random_state=42)\n",
    "rf_model_2.fit(X_train_rf_2, y_train_rf_2)\n",
    "\n",
    "y_pred_rf_2 = rf_model_2.predict(X_test_w2v_pad)\n",
    "\n",
    "accuracy_rf_2 = accuracy_score(y_test, y_pred_rf_2)\n",
    "print(\"Accuracy Random Forest:\", accuracy_rf_2)\n"
   ]
  },
  {
   "cell_type": "code",
   "execution_count": 63,
   "metadata": {},
   "outputs": [
    {
     "ename": "ModuleNotFoundError",
     "evalue": "No module named 'torch'",
     "output_type": "error",
     "traceback": [
      "\u001b[1;31m---------------------------------------------------------------------------\u001b[0m",
      "\u001b[1;31mModuleNotFoundError\u001b[0m                       Traceback (most recent call last)",
      "\u001b[1;32m~\\AppData\\Local\\Temp\\ipykernel_1872\\1979105449.py\u001b[0m in \u001b[0;36m<module>\u001b[1;34m\u001b[0m\n\u001b[0;32m      1\u001b[0m \u001b[1;32mfrom\u001b[0m \u001b[0mtransformers\u001b[0m \u001b[1;32mimport\u001b[0m \u001b[0mBertTokenizer\u001b[0m\u001b[1;33m,\u001b[0m \u001b[0mBertModel\u001b[0m\u001b[1;33m\u001b[0m\u001b[1;33m\u001b[0m\u001b[0m\n\u001b[1;32m----> 2\u001b[1;33m \u001b[1;32mimport\u001b[0m \u001b[0mtorch\u001b[0m\u001b[1;33m\u001b[0m\u001b[1;33m\u001b[0m\u001b[0m\n\u001b[0m\u001b[0;32m      3\u001b[0m \u001b[1;33m\u001b[0m\u001b[0m\n\u001b[0;32m      4\u001b[0m \u001b[1;31m# Załadowanie BERT\u001b[0m\u001b[1;33m\u001b[0m\u001b[1;33m\u001b[0m\u001b[0m\n\u001b[0;32m      5\u001b[0m \u001b[0mtokenizer\u001b[0m \u001b[1;33m=\u001b[0m \u001b[0mBertTokenizer\u001b[0m\u001b[1;33m.\u001b[0m\u001b[0mfrom_pretrained\u001b[0m\u001b[1;33m(\u001b[0m\u001b[1;34m'bert-base-uncased'\u001b[0m\u001b[1;33m)\u001b[0m\u001b[1;33m\u001b[0m\u001b[1;33m\u001b[0m\u001b[0m\n",
      "\u001b[1;31mModuleNotFoundError\u001b[0m: No module named 'torch'"
     ]
    }
   ],
   "source": [
    "# nie działa mi biblioteka torch\n",
    "\n",
    "from transformers import BertTokenizer, BertModel\n",
    "import torch\n",
    "\n",
    "tokenizer = BertTokenizer.from_pretrained('bert-base-uncased')\n",
    "model = BertModel.from_pretrained('bert-base-uncased')\n",
    "\n",
    "def encode_text(text):\n",
    "    input_ids = tokenizer.encode(text, add_special_tokens=True)\n",
    "    input_ids = torch.tensor(input_ids).unsqueeze(0) \n",
    "    with torch.no_grad():\n",
    "        outputs = model(input_ids)\n",
    "    last_hidden_states = outputs.last_hidden_state\n",
    "    return last_hidden_states.numpy()\n",
    "\n",
    "X_train_bert = [encode_text(text) for text in X_train['text']]\n",
    "X_test_bert = [encode_text(text) for text in X_test['text']]"
   ]
  },
  {
   "cell_type": "code",
   "execution_count": 83,
   "metadata": {},
   "outputs": [
    {
     "name": "stdout",
     "output_type": "stream",
     "text": [
      "Accuracy Multinomial Naive Bayes: 0.7839063055410652\n"
     ]
    }
   ],
   "source": [
    "from sklearn.naive_bayes import MultinomialNB\n",
    "from sklearn.metrics import accuracy_score\n",
    "\n",
    "nb_model = MultinomialNB()\n",
    "nb_model.fit(tfidf_vector_train, y_train)\n",
    "\n",
    "y_pred_nb = nb_model.predict(tfidf_vector_test)\n",
    "\n",
    "accuracy_nb = accuracy_score(y_test, y_pred_nb)\n",
    "print(\"Accuracy Multinomial Naive Bayes:\", accuracy_nb)\n"
   ]
  },
  {
   "cell_type": "code",
   "execution_count": null,
   "metadata": {},
   "outputs": [
    {
     "data": {
      "image/png": "[encoded data removed]",
      "text/plain": [
       "<Figure size 1000x600 with 1 Axes>"
      ]
     },
     "metadata": {},
     "output_type": "display_data"
    },
    {
     "data": {
      "image/png": "[encoded data removed]",
      "text/plain": [
       "<Figure size 1000x600 with 1 Axes>"
      ]
     },
     "metadata": {},
     "output_type": "display_data"
    },
    {
     "data": {
      "image/png": "[encoded data removed]",
      "text/plain": [
       "<Figure size 1000x600 with 1 Axes>"
      ]
     },
     "metadata": {},
     "output_type": "display_data"
    },
    {
     "data": {
      "image/png": "[encoded data removed]",
      "text/plain": [
       "<Figure size 1000x600 with 1 Axes>"
      ]
     },
     "metadata": {},
     "output_type": "display_data"
    },
    {
     "data": {
      "image/png": "[encoded data removed]",
      "text/plain": [
       "<Figure size 1000x600 with 1 Axes>"
      ]
     },
     "metadata": {},
     "output_type": "display_data"
    }
   ],
   "source": [
    "import matplotlib.pyplot as plt\n",
    "import numpy as np\n",
    "from sklearn.metrics import accuracy_score, precision_score, recall_score, f1_score, roc_auc_score\n",
    "from sklearn.ensemble import RandomForestClassifier, GradientBoostingClassifier, AdaBoostClassifier\n",
    "from sklearn.linear_model import LogisticRegression, RidgeClassifier\n",
    "from sklearn.svm import SVC, LinearSVC\n",
    "from sklearn.neighbors import KNeighborsClassifier\n",
    "from sklearn.naive_bayes import GaussianNB\n",
    "from sklearn.neural_network import MLPClassifier\n",
    "from sklearn.tree import DecisionTreeClassifier\n",
    "from xgboost import XGBClassifier\n",
    "\n",
    "def evaluate_models(X_train, y_train, X_test, y_test, models, metrics):\n",
    "    for model_name, model in models.items():\n",
    "        model_results = {}\n",
    "        for metric_name, metric_func in metrics.items():\n",
    "            model.fit(X_train, y_train)\n",
    "            y_pred = model.predict(X_test)\n",
    "            score = metric_func(y_test, y_pred)\n",
    "            model_results[metric_name] = score\n",
    "        \n",
    "        plt.figure(figsize=(10, 6))\n",
    "        plt.bar(np.arange(len(metrics)), list(model_results.values()), align='center')\n",
    "        plt.xticks(np.arange(len(metrics)), list(model_results.keys()))\n",
    "        plt.title(f'{model_name} Metrics Evaluation')\n",
    "        plt.xlabel('Metrics')\n",
    "        plt.ylabel('Score')\n",
    "        plt.ylim(0, 1) \n",
    "        plt.tight_layout()\n",
    "        plt.show()\n",
    "\n",
    "models = {\n",
    "    'GradientBoostingClassifier': GradientBoostingClassifier(n_estimators=3, max_depth=3),\n",
    "    'RandomForestClassifier': RandomForestClassifier(n_estimators=10, random_state=42, n_jobs=-1),\n",
    "    'LogisticRegression': LogisticRegression(),\n",
    "    'AdaBoostClassifier': AdaBoostClassifier(n_estimators=10),\n",
    "    'RidgeClassifier': RidgeClassifier(alpha=1.0),\n",
    "    'LinearSVC': LinearSVC(),\n",
    "    'KNeighborsClassifier': KNeighborsClassifier(n_neighbors=5),\n",
    "    'GaussianNB': GaussianNB(),\n",
    "    'MLPClassifier': MLPClassifier(hidden_layer_sizes=(100,), activation='relu', solver='adam', alpha=0.0001),\n",
    "    'DecisionTreeClassifier': DecisionTreeClassifier(max_depth=5, min_samples_split=2, min_samples_leaf=1, criterion='gini'),\n",
    "    'XGBClassifier': XGBClassifier(n_estimators=10)\n",
    "}\n",
    "\n",
    "metrics = {\n",
    "    'accuracy': accuracy_score,\n",
    "    'precision': precision_score,\n",
    "    'recall': recall_score,\n",
    "    'f1': f1_score,\n",
    "    'roc_auc': roc_auc_score\n",
    "}\n",
    "\n",
    "evaluate_models(X_train_w2v_pad, y_train, X_test_w2v_pad, y_test, models, metrics)\n",
    "\n"
   ]
  }
 ],
 "metadata": {
  "kernelspec": {
   "display_name": "Python 3 (ipykernel)",
   "language": "python",
   "name": "python3"
  },
  "language_info": {
   "codemirror_mode": {
    "name": "ipython",
    "version": 3
   },
   "file_extension": ".py",
   "mimetype": "text/x-python",
   "name": "python",
   "nbconvert_exporter": "python",
   "pygments_lexer": "ipython3",
   "version": "3.9.13"
  }
 },
 "nbformat": 4,
 "nbformat_minor": 2
}
