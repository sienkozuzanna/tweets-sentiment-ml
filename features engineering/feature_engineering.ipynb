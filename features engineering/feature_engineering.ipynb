{
 "cells": [
  {
   "cell_type": "code",
   "execution_count": 175,
   "metadata": {},
   "outputs": [
    {
     "name": "stderr",
     "output_type": "stream",
     "text": [
      "[nltk_data] Downloading package stopwords to\n",
      "[nltk_data]     C:\\Users\\abc\\AppData\\Roaming\\nltk_data...\n",
      "[nltk_data]   Package stopwords is already up-to-date!\n",
      "[nltk_data] Downloading package averaged_perceptron_tagger to\n",
      "[nltk_data]     C:\\Users\\abc\\AppData\\Roaming\\nltk_data...\n",
      "[nltk_data]   Package averaged_perceptron_tagger is already up-to-\n",
      "[nltk_data]       date!\n"
     ]
    }
   ],
   "source": [
    "import pandas as pd\n",
    "import numpy as np\n",
    "import re\n",
    "import seaborn as sns\n",
    "import string\n",
    "\n",
    "import nltk\n",
    "nltk.download('stopwords')\n",
    "nltk.download('averaged_perceptron_tagger')\n",
    "from nltk.corpus import stopwords\n",
    "from nltk.tokenize import word_tokenize\n",
    "from nltk.stem import WordNetLemmatizer\n",
    "from contractions import contractions_dict, fix\n",
    "\n",
    "from sklearn.svm import LinearSVC\n",
    "from sklearn.linear_model import LogisticRegression\n",
    "from sklearn.model_selection import train_test_split\n",
    "from sklearn.feature_extraction.text import TfidfVectorizer\n",
    "from nltk import pos_tag\n",
    "from sklearn.decomposition import PCA\n",
    "import matplotlib.pyplot as plt\n",
    "from gensim.models import Word2Vec\n",
    "from sklearn.metrics import confusion_matrix\n",
    "from sklearn.base import BaseEstimator, TransformerMixin\n",
    "from sklearn.pipeline import Pipeline\n",
    "from sklearn.metrics import classification_report\n",
    "from textblob import TextBlob\n",
    "from sklearn.feature_extraction.text import CountVectorizer\n",
    "from sklearn.naive_bayes import MultinomialNB\n",
    "from sklearn import metrics\n"
   ]
  },
  {
   "cell_type": "code",
   "execution_count": 100,
   "metadata": {},
   "outputs": [],
   "source": [
    "column_names=['target','id','date','flag','user','text']\n",
    "df=pd.read_csv('../data/raw data/train_data.csv',encoding='ISO-8859-1')\n",
    "df.columns=column_names"
   ]
  },
  {
   "cell_type": "code",
   "execution_count": 74,
   "metadata": {},
   "outputs": [
    {
     "data": {
      "text/html": [
       "<div>\n",
       "<style scoped>\n",
       "    .dataframe tbody tr th:only-of-type {\n",
       "        vertical-align: middle;\n",
       "    }\n",
       "\n",
       "    .dataframe tbody tr th {\n",
       "        vertical-align: top;\n",
       "    }\n",
       "\n",
       "    .dataframe thead th {\n",
       "        text-align: right;\n",
       "    }\n",
       "</style>\n",
       "<table border=\"1\" class=\"dataframe\">\n",
       "  <thead>\n",
       "    <tr style=\"text-align: right;\">\n",
       "      <th></th>\n",
       "      <th>target</th>\n",
       "      <th>id</th>\n",
       "      <th>date</th>\n",
       "      <th>flag</th>\n",
       "      <th>user</th>\n",
       "      <th>text</th>\n",
       "    </tr>\n",
       "  </thead>\n",
       "  <tbody>\n",
       "    <tr>\n",
       "      <th>0</th>\n",
       "      <td>0</td>\n",
       "      <td>1557995356</td>\n",
       "      <td>Sun Apr 19 06:52:38 PDT 2009</td>\n",
       "      <td>NO_QUERY</td>\n",
       "      <td>dove1996</td>\n",
       "      <td>really bored doing nothing!!!!!!  don't wanna ...</td>\n",
       "    </tr>\n",
       "    <tr>\n",
       "      <th>1</th>\n",
       "      <td>4</td>\n",
       "      <td>1687098117</td>\n",
       "      <td>Sun May 03 07:45:34 PDT 2009</td>\n",
       "      <td>NO_QUERY</td>\n",
       "      <td>SweetOne76</td>\n",
       "      <td>Running on 4 hrs of sleep.. Whoo hoo! Lol 4pm ...</td>\n",
       "    </tr>\n",
       "    <tr>\n",
       "      <th>2</th>\n",
       "      <td>0</td>\n",
       "      <td>2051623322</td>\n",
       "      <td>Fri Jun 05 22:25:48 PDT 2009</td>\n",
       "      <td>NO_QUERY</td>\n",
       "      <td>mzjaisuperstarr</td>\n",
       "      <td>thinks that reality is finally setting in now....</td>\n",
       "    </tr>\n",
       "    <tr>\n",
       "      <th>3</th>\n",
       "      <td>4</td>\n",
       "      <td>1694664325</td>\n",
       "      <td>Mon May 04 03:37:36 PDT 2009</td>\n",
       "      <td>NO_QUERY</td>\n",
       "      <td>Hend__X</td>\n",
       "      <td>Exploring Twitter's world! me 2</td>\n",
       "    </tr>\n",
       "    <tr>\n",
       "      <th>4</th>\n",
       "      <td>0</td>\n",
       "      <td>2264413988</td>\n",
       "      <td>Sun Jun 21 03:47:49 PDT 2009</td>\n",
       "      <td>NO_QUERY</td>\n",
       "      <td>akaSylvia</td>\n",
       "      <td>Too hungover to make it through the day</td>\n",
       "    </tr>\n",
       "  </tbody>\n",
       "</table>\n",
       "</div>"
      ],
      "text/plain": [
       "   target          id                          date      flag  \\\n",
       "0       0  1557995356  Sun Apr 19 06:52:38 PDT 2009  NO_QUERY   \n",
       "1       4  1687098117  Sun May 03 07:45:34 PDT 2009  NO_QUERY   \n",
       "2       0  2051623322  Fri Jun 05 22:25:48 PDT 2009  NO_QUERY   \n",
       "3       4  1694664325  Mon May 04 03:37:36 PDT 2009  NO_QUERY   \n",
       "4       0  2264413988  Sun Jun 21 03:47:49 PDT 2009  NO_QUERY   \n",
       "\n",
       "              user                                               text  \n",
       "0         dove1996  really bored doing nothing!!!!!!  don't wanna ...  \n",
       "1       SweetOne76  Running on 4 hrs of sleep.. Whoo hoo! Lol 4pm ...  \n",
       "2  mzjaisuperstarr  thinks that reality is finally setting in now....  \n",
       "3          Hend__X                   Exploring Twitter's world! me 2   \n",
       "4        akaSylvia           Too hungover to make it through the day   "
      ]
     },
     "execution_count": 74,
     "metadata": {},
     "output_type": "execute_result"
    }
   ],
   "source": [
    "df.head()"
   ]
  },
  {
   "cell_type": "code",
   "execution_count": 75,
   "metadata": {},
   "outputs": [
    {
     "data": {
      "text/html": [
       "<div>\n",
       "<style scoped>\n",
       "    .dataframe tbody tr th:only-of-type {\n",
       "        vertical-align: middle;\n",
       "    }\n",
       "\n",
       "    .dataframe tbody tr th {\n",
       "        vertical-align: top;\n",
       "    }\n",
       "\n",
       "    .dataframe thead th {\n",
       "        text-align: right;\n",
       "    }\n",
       "</style>\n",
       "<table border=\"1\" class=\"dataframe\">\n",
       "  <thead>\n",
       "    <tr style=\"text-align: right;\">\n",
       "      <th></th>\n",
       "      <th>target</th>\n",
       "      <th>text</th>\n",
       "    </tr>\n",
       "  </thead>\n",
       "  <tbody>\n",
       "    <tr>\n",
       "      <th>0</th>\n",
       "      <td>0</td>\n",
       "      <td>really bored doing nothing!!!!!!  don't wanna ...</td>\n",
       "    </tr>\n",
       "    <tr>\n",
       "      <th>1</th>\n",
       "      <td>4</td>\n",
       "      <td>Running on 4 hrs of sleep.. Whoo hoo! Lol 4pm ...</td>\n",
       "    </tr>\n",
       "    <tr>\n",
       "      <th>2</th>\n",
       "      <td>0</td>\n",
       "      <td>thinks that reality is finally setting in now....</td>\n",
       "    </tr>\n",
       "    <tr>\n",
       "      <th>3</th>\n",
       "      <td>4</td>\n",
       "      <td>Exploring Twitter's world! me 2</td>\n",
       "    </tr>\n",
       "    <tr>\n",
       "      <th>4</th>\n",
       "      <td>0</td>\n",
       "      <td>Too hungover to make it through the day</td>\n",
       "    </tr>\n",
       "  </tbody>\n",
       "</table>\n",
       "</div>"
      ],
      "text/plain": [
       "   target                                               text\n",
       "0       0  really bored doing nothing!!!!!!  don't wanna ...\n",
       "1       4  Running on 4 hrs of sleep.. Whoo hoo! Lol 4pm ...\n",
       "2       0  thinks that reality is finally setting in now....\n",
       "3       4                   Exploring Twitter's world! me 2 \n",
       "4       0           Too hungover to make it through the day "
      ]
     },
     "execution_count": 75,
     "metadata": {},
     "output_type": "execute_result"
    }
   ],
   "source": [
    "#Starting now, we'll exclusively utilize the text and target columns, as none of the others demonstrated \n",
    "#significant impact during exploratory data analysis.\n",
    "\n",
    "df=df[['target','text']]\n",
    "df.head()"
   ]
  },
  {
   "cell_type": "code",
   "execution_count": 76,
   "metadata": {},
   "outputs": [],
   "source": [
    "tweets=df.copy()"
   ]
  },
  {
   "cell_type": "markdown",
   "metadata": {},
   "source": [
    "# Features engineering"
   ]
  },
  {
   "cell_type": "markdown",
   "metadata": {},
   "source": [
    "## Loooking for outliers"
   ]
  },
  {
   "cell_type": "code",
   "execution_count": 77,
   "metadata": {},
   "outputs": [
    {
     "name": "stdout",
     "output_type": "stream",
     "text": [
      "<class 'pandas.core.series.Series'>\n",
      "Int64Index: 5541 entries, 66 to 513552\n",
      "Series name: text\n",
      "Non-Null Count  Dtype \n",
      "--------------  ----- \n",
      "5541 non-null   object\n",
      "dtypes: object(1)\n",
      "memory usage: 86.6+ KB\n"
     ]
    }
   ],
   "source": [
    "# Twitter originally limited tweets to 140 characters when it was launched in 2006.\n",
    "# This constraint was based on the 160-character limit of SMS messages, with 20 characters reserved for the username.\n",
    "# In November 2017, Twitter doubled the character limit to 280 characters, allowing users more space for expression.\n",
    "# Our data is from 2009 so we are looking for outliers as tweets are limited to 140 characters.\n",
    "\n",
    "tweets['char_count'] = tweets['text'].apply(lambda x: len(str(x)))\n",
    "tweets['text'] = tweets['text'].replace({'&amp;': '&', '&quot;': '\"', \"ï¿½\" : '�',\"&lt;\":\"<\",\"&gt;\":\">\",'quot':\"'\",'amp':'&'}, regex=True)\n",
    "\n",
    "# Records with more than 140 characters are shown below, as we can see outliers may be caused by encoding issues or text processing errors.\n",
    "tweets.loc[tweets['char_count']>140]['text'].info()\n",
    "\n",
    "# So we decided to drop these records\n",
    "tweets=tweets.loc[tweets['char_count']<=140]\n",
    "tweets=tweets.drop(columns=['char_count'])"
   ]
  },
  {
   "cell_type": "code",
   "execution_count": 78,
   "metadata": {},
   "outputs": [
    {
     "name": "stdout",
     "output_type": "stream",
     "text": [
      "<class 'pandas.core.frame.DataFrame'>\n",
      "Int64Index: 508260 entries, 0 to 513800\n",
      "Data columns (total 2 columns):\n",
      " #   Column  Non-Null Count   Dtype \n",
      "---  ------  --------------   ----- \n",
      " 0   target  508260 non-null  int64 \n",
      " 1   text    508260 non-null  object\n",
      "dtypes: int64(1), object(1)\n",
      "memory usage: 11.6+ MB\n"
     ]
    }
   ],
   "source": [
    "tweets.info()"
   ]
  },
  {
   "cell_type": "markdown",
   "metadata": {},
   "source": [
    "### Polarity and sentiment before cleaning text"
   ]
  },
  {
   "cell_type": "code",
   "execution_count": 55,
   "metadata": {},
   "outputs": [],
   "source": [
    "def analyze_sentiment(text):\n",
    "    blob = TextBlob(text)\n",
    "    return pd.Series({'polarity': blob.sentiment.polarity})\n",
    "\n",
    "sentiment_data = tweets['text'].apply(analyze_sentiment)\n",
    "\n",
    "tweets = pd.concat([tweets, sentiment_data], axis=1)"
   ]
  },
  {
   "cell_type": "markdown",
   "metadata": {},
   "source": [
    "## The text cleaning process involves several steps to prepare the text data for analysis:\n",
    "\n",
    "1. **Remove @mentions:** Eliminate any mentions of Twitter usernames.\n",
    "2. **Remove # symbol:** Get rid of '#' symbols typically used for hashtags.\n",
    "3. **Remove RT (retweet):** Discard any \"RT\" markers indicating retweets.\n",
    "4. **Remove hyperlinks:** Delete any hyperlinks starting with \"http\" or \"https\".\n",
    "5. **Remove colons:** Eliminate any colons from the text.\n",
    "6. **Remove double dashes:** Discard any occurrences of double dashes.\n",
    "7. **Remove single quotes:** Eliminate any single quotes from the text.\n",
    "8. **Convert to lowercase:** Convert all text to lowercase to ensure consistency.\n",
    "9. **Strip whitespace:** Remove any leading or trailing whitespace from the text.\n",
    "10. **Expand contractions:** Replace contractions with their full forms for text standardization. This ensures consistency in the text by converting contractions like \"can't\" to \"cannot\".\n",
    "\n",
    "These steps ensure that the text data is cleaned and standardized, making it ready for further analysis or processing. After cleaning, the text is often more suitable for natural language processing tasks."
   ]
  },
  {
   "cell_type": "code",
   "execution_count": 57,
   "metadata": {},
   "outputs": [],
   "source": [
    "my_contractions={\n",
    "            \"a'ight\": \"alright\",\n",
    "            \"ain't\": \"am not\",\n",
    "            \"amn't\": \"am not\",\n",
    "            \"n\": \"and\",\n",
    "            \"arencha\": \"are not you\",\n",
    "            \"aren't\": \"are not\",\n",
    "            \"'bout\": \"about\",\n",
    "            \"can't\": \"can not\",\n",
    "            \"cant\": \"can not\",\n",
    "            \"cap'n\": \"captain\",\n",
    "            \"'cause\": \"because\",\n",
    "            \"cuz\": \"because\",\n",
    "            \"'cept\": \"except\",\n",
    "            \"c'mon\": \"come on\",\n",
    "            \"could've\": \"could have\",\n",
    "            \"couldn't\": \"could not\",\n",
    "            \"couldn't've\": \"could not have\",\n",
    "            \"cuppa\": \"cup of\",\n",
    "            \"daren't\": \"dare not\",\n",
    "            \"daresn't\": \"dare not\",\n",
    "            \"dasn't\": \"dare not\",\n",
    "            \"didn't\": \"did not\",\n",
    "            \"doesn't\": \"does not\",\n",
    "            \"don't\": \"do not\",\n",
    "            \"dunno\": \"do not know\",\n",
    "            \"d'ye\": \"do you\",\n",
    "            \"d'ya\": \"do you\",\n",
    "            \"e'en\": \"even\",\n",
    "            \"e'er\": \"ever\",\n",
    "            \"'em\": \"them\",\n",
    "            \"everybody's\": \"everybody has\",\n",
    "            \"everyone's\": \"everyone is\",\n",
    "            \"everything's\": \"everything is\",\n",
    "            \"finna\": \"fixing to\",\n",
    "            \"fo'c'sle\": \"forecastle\",\n",
    "            \"'gainst\": \"against\",\n",
    "            \"g'day\": \"good day\",\n",
    "            \"gimme\": \"give me\",\n",
    "            \"giv'n\": \"given\",\n",
    "            \"gi'z\": \"give us\",\n",
    "            \"gonna\": \"going to\",\n",
    "            \"gon't\": \"go not\",\n",
    "            \"gotta\": \"got to\",\n",
    "            \"hadn't\": \"had not\",\n",
    "            \"had've\": \"had have\",\n",
    "            \"hasn't\": \"has not\",\n",
    "            \"haven't\": \"have not\",\n",
    "            \"he'd\": \"he would\",\n",
    "            \"he'll\": \"he will\",\n",
    "            \"helluva\": \"hell of a\",\n",
    "            \"yes'nt\": \"yes not\",\n",
    "            \"he's\": \"he is\",\n",
    "            \"here's\": \"here is\",\n",
    "            \"how'd\": \"how would\",\n",
    "            \"howdy\": \"how do you do\",\n",
    "            \"how'll\": \"how will\",\n",
    "            \"how're\": \"how are\",\n",
    "            \"how's\": \"how is\",\n",
    "            \"I'd\": \"I would\",\n",
    "            \"I'd've\": \"I would have\",\n",
    "            \"I'd'nt\": \"I would not\",\n",
    "            \"I'd'nt've\": \"I would not have\",\n",
    "            \"If'n\": \"If and when\",\n",
    "            \"I'll\": \"I will\",\n",
    "            \"I'm\": \"I am\",\n",
    "            \"I'm 'onna\": \"I am going to\",\n",
    "            \"Imma\": \"I am about to\",\n",
    "            \"I'm'o\": \"I am going to\",\n",
    "            \"I'm'na\": \"I am going to\",\n",
    "            \"Ion\": \"I do not\",\n",
    "            \"I've\": \"I have\",\n",
    "            \"isn't\": \"is not\",\n",
    "            \"it'd\": \"it would\",\n",
    "            \"it'll\": \"it will\",\n",
    "            \"it's\": \"it is\",\n",
    "            \"its\": \"it is\",\n",
    "            \"Idunno\": \"I do not know\",\n",
    "            \"kinda\": \"kind of\",\n",
    "            \"lemme\": \"let me\",\n",
    "            \"let's\": \"let us\",\n",
    "            \"loven't\": \"love not\",\n",
    "            \"ma'am\": \"madam\",\n",
    "            \"mayn't\": \"may not\",\n",
    "            \"may've\": \"may have\",\n",
    "            \"methinks\": \"I think\",\n",
    "            \"mightn't\": \"might not\",\n",
    "            \"might've\": \"might have\",\n",
    "            \"mine's\": \"mine is\",\n",
    "            \"mustn't\": \"must not\",\n",
    "            \"mustn't've\": \"must not have\",\n",
    "            \"must've\": \"must have\",\n",
    "            \"'neath\": \"beneath\",\n",
    "            \"needn't\": \"need not\",\n",
    "            \"nal\": \"and all\",\n",
    "            \"ne'er\": \"never\",\n",
    "            \"o'clock\": \"of the clock\",\n",
    "            \"o'er\": \"over\",\n",
    "            \"ol'\": \"old\",\n",
    "            \"ought've\": \"ought have\",\n",
    "            \"oughtn't\": \"ought not\",\n",
    "            \"oughtn't've\": \"ought not have\",\n",
    "            \"'round\": \"around\",\n",
    "            \"shalln't\": \"shall not\",\n",
    "            \"shan'\": \"shall not\",\n",
    "            \"shan't\": \"shall not\",\n",
    "            \"she'd\": \"she would\",\n",
    "            \"she'll\": \"she will\",\n",
    "            \"she's\": \"she is\",\n",
    "            \"should've\": \"should have\",\n",
    "            \"shouldn't\": \"should not\",\n",
    "            \"shouldn't've\": \"should not have\",\n",
    "            \"somebody's\": \"somebody has\",\n",
    "            \"someone's\": \"someone has\",\n",
    "            \"something's\": \"something is\",\n",
    "            \"so's\": \"so is\",\n",
    "            \"so've\": \"so have\",\n",
    "            \"that'll\": \"that will\",\n",
    "            \"that're\": \"that are\",\n",
    "            \"that's\": \"that is\",\n",
    "            \"there'll\": \"there will\",\n",
    "            \"there're\": \"there are\",\n",
    "            \"there's\": \"there is\",\n",
    "            \"these're\": \"these are\",\n",
    "            \"these've\": \"these have\",\n",
    "            \"these've\": \"these have\",\n",
    "            \"they'd\": \"they would\",\n",
    "            \"they'd've\": \"they would have\",\n",
    "            \"they'll\": \"they will\",\n",
    "            \"they're\": \"they are \",\n",
    "            \"they've\": \"they have\",\n",
    "            \"this's\": \"this is\",\n",
    "            \"those're\": \"those are\",\n",
    "            \"those've\": \"those have\",\n",
    "            \"'thout\": \"without\",\n",
    "            \"'til\": \"until\",\n",
    "            \"til\": \"until\"}\n",
    "\n",
    "contractions_dict.update(my_contractions)\n",
    "\n",
    "punctuation_chars = ''.join([c for c in string.punctuation if c != '_'])\n",
    "\n",
    "class TextCleaner(BaseEstimator, TransformerMixin):\n",
    "    def __init__(self):\n",
    "        pass\n",
    "\n",
    "    def fit(self, X, y=None):\n",
    "        return self\n",
    "\n",
    "    def transform(self, X):\n",
    "        return X.apply(self.cleantxt)\n",
    "\n",
    "    def cleantxt(self, text):\n",
    "        text = fix(text)\n",
    "\n",
    "        pattern = r'|'.join([\n",
    "            r'@[\\w_]+',                                          # removed @mentions\n",
    "            r'#',                                                # removed # symbol\n",
    "            r'RT[\\s]+',                                          # removed RT (retweet)\n",
    "            r'https?:\\/\\/\\S+',                                   # removed the hyperlink\n",
    "            r'http|\\'',                                          # removed http and '\n",
    "            r'[' + re.escape(punctuation_chars + '_') + r']',    # removed all punctuations\n",
    "            r'\\d+'                                               # removed numbers\n",
    "        ])\n",
    "\n",
    "        text = re.sub(pattern, '', text)\n",
    "        text = ' '.join(word for word in text.split() if len(word) > 2)\n",
    "        text = text.lower().strip()\n",
    "        return text"
   ]
  },
  {
   "cell_type": "markdown",
   "metadata": {},
   "source": [
    "## Tokenization\n",
    "Tokenization is the process of breaking down text into smaller units called tokens. Tokens can represent individual words, numbers, punctuation marks, or other elements of text, depending on the context and application. Tokenization is a fundamental step in text processing and natural language processing (NLP)."
   ]
  },
  {
   "cell_type": "code",
   "execution_count": 16,
   "metadata": {},
   "outputs": [],
   "source": [
    "class WordTokenizer(BaseEstimator, TransformerMixin):\n",
    "    def __init__(self, separator=' '):\n",
    "        self.separator = separator\n",
    "\n",
    "    def fit(self, X, y=None):\n",
    "        return self\n",
    "\n",
    "    def transform(self, X):\n",
    "        return X.apply(self.tokenize)\n",
    "\n",
    "    def tokenize(self, text):\n",
    "        return text.split(self.separator)"
   ]
  },
  {
   "cell_type": "code",
   "execution_count": 17,
   "metadata": {},
   "outputs": [],
   "source": [
    "class TokensToSentences(BaseEstimator, TransformerMixin):\n",
    "    def __init__(self):\n",
    "        pass\n",
    "\n",
    "    def fit(self, X, y=None):\n",
    "        return self\n",
    "\n",
    "    def transform(self, X):\n",
    "        return X.apply(self.tokens_to_sentence)\n",
    "    \n",
    "    def tokens_to_sentence(self, tokens):\n",
    "        cleaned_tokens = [token.strip() for token in tokens]\n",
    "        return ' '.join(cleaned_tokens)"
   ]
  },
  {
   "cell_type": "markdown",
   "metadata": {},
   "source": [
    "## Lemmatization and Stopword Removal\n",
    "\n",
    "The text cleaning process involves the following steps:\n",
    "\n",
    "1. **Stopword Removal**: Stopwords, which are commonly occurring words in a language and often do not carry significant meaning (e.g., \"the\", \"a\", \"in\"), are removed from the text. This step helps in focusing on the most important words in the text, which are likely to carry more semantic meaning.\n",
    "\n",
    "2. **Lemmatization**: The text is first lemmatized, which involves reducing words to their base or dictionary form. This helps in standardizing words and reducing inflectional forms to a common base, thereby simplifying the analysis.\n",
    "\n",
    "### Stopword Removal\n",
    "\n",
    "Stopwords are common words in a language that are often filtered out because they do not carry significant meaning. Examples of stopwords in English include \"the\", \"a\", \"an\", \"in\", \"on\", etc. By removing stopwords, the text becomes more focused on the content words that are likely to carry more semantic meaning.\n",
    "\n",
    "### Lemmatization\n",
    "\n",
    "Lemmatization involves reducing words to their base form, or lemma. For example:\n",
    "- \"running\" -> \"run\"\n",
    "- \"cars\" -> \"car\"\n",
    "- \"better\" -> \"good\"\n",
    "\n",
    "After applying both lemmatization and stopwords removal, the text is cleaned and ready for further analysis.\n"
   ]
  },
  {
   "cell_type": "code",
   "execution_count": 18,
   "metadata": {},
   "outputs": [],
   "source": [
    "class Lemmatizer(BaseEstimator, TransformerMixin):\n",
    "    def __init__(self):\n",
    "        self.lemmatizer = WordNetLemmatizer()\n",
    "        self.pos_mapping = {'N': 'n', 'V': 'v', 'J': 'a', 'R': 'r'}\n",
    "\n",
    "    def fit(self, X, y=None):\n",
    "        return self\n",
    "\n",
    "    def transform(self, X):\n",
    "        return X.apply(self.lemmatize_tokens)\n",
    "\n",
    "    def lemmatize_tokens(self, tokens):\n",
    "        lemmatized_tokens = []\n",
    "        for tok, tag in pos_tag(tokens):\n",
    "            pos = self.pos_mapping.get(tag[0], 'n')\n",
    "            lemma = self.lemmatizer.lemmatize(tok, pos=pos)\n",
    "            lemmatized_tokens.append(lemma)\n",
    "        return lemmatized_tokens"
   ]
  },
  {
   "cell_type": "code",
   "execution_count": 19,
   "metadata": {},
   "outputs": [],
   "source": [
    "class StopwordsRemover(BaseEstimator, TransformerMixin):\n",
    "    def __init__(self):\n",
    "        self.stop_words = set(stopwords.words('english'))\n",
    "        words_to_remove = [\"not\", \"against\", \"most\", \"only\", \"same\", \"very\", \"down\", \"nor\",\"such\"]\n",
    "        self.stop_words.update([\"im\", \"i\", \"u\"])\n",
    "        self.stop_words=[word for word in self.stop_words if word not in words_to_remove]\n",
    "\n",
    "    def fit(self, X, y=None):\n",
    "        return self\n",
    "\n",
    "    def transform(self, X):\n",
    "        return X.apply(lambda tokens: [token for token in tokens if token not in self.stop_words])"
   ]
  },
  {
   "cell_type": "markdown",
   "metadata": {},
   "source": [
    "## Not vs target"
   ]
  },
  {
   "cell_type": "code",
   "execution_count": 20,
   "metadata": {},
   "outputs": [],
   "source": [
    "def contains_not_numeric(text):\n",
    "    return int('not' in text)"
   ]
  },
  {
   "cell_type": "markdown",
   "metadata": {},
   "source": [
    "## Processing pipeline"
   ]
  },
  {
   "cell_type": "code",
   "execution_count": 58,
   "metadata": {},
   "outputs": [],
   "source": [
    "text_processing = Pipeline([\n",
    "    ('cleaner', TextCleaner()),                       # Text cleaning\n",
    "    ('tokenizer', WordTokenizer()),                   # Tokenization\n",
    "    ('stopwords_remover', StopwordsRemover()),        # Removing stopwords\n",
    "    ('lemmatizer', Lemmatizer()),                     # Lemmatization\n",
    "    ('tokens_to_sentences', TokensToSentences())      # Tokens to sentences\n",
    "])\n",
    "processed_data = text_processing.fit_transform(tweets['text'])"
   ]
  },
  {
   "cell_type": "code",
   "execution_count": 59,
   "metadata": {},
   "outputs": [],
   "source": [
    "processed_df = pd.DataFrame({\n",
    "    'target': tweets['target'],\n",
    "    'text': processed_data,\n",
    "    'polarity': tweets['polarity'],\n",
    "    'contains_not': processed_data.apply(contains_not_numeric)\n",
    "})"
   ]
  },
  {
   "cell_type": "code",
   "execution_count": 177,
   "metadata": {},
   "outputs": [
    {
     "data": {
      "text/plain": [
       "['really bore nothing not want tomoz lazy nothing look forward',\n",
       " 'run hrs sleep whoo hoo lol come around head home guess nap course',\n",
       " 'think reality finally set nowin day half heart afganman miss baby month',\n",
       " 'explore twitter world',\n",
       " 'hungover make day',\n",
       " 'apparently official word archive sad',\n",
       " 'good good afternoon pick min agoi think go shop',\n",
       " 'suddenly miss christmas much',\n",
       " 'sorry kitty',\n",
       " 'satellite still break',\n",
       " 'life cannot get bad',\n",
       " 'time nerd',\n",
       " 'need see boy take away pain funny rely much',\n",
       " 'use abused huh feel like sometimes especially client ignore invoice',\n",
       " 'hellow sir exactly fine work terrible cross bewitch hour every since day since last month miss home',\n",
       " 'yea hear large mammal not great heat lol',\n",
       " 'not say bye',\n",
       " 'wonder source food counsel free smoke friend',\n",
       " 'lot prev classmate transfer school ill miss yall',\n",
       " 'bacon fail gulb lack chef']"
      ]
     },
     "execution_count": 177,
     "metadata": {},
     "output_type": "execute_result"
    }
   ],
   "source": [
    "processed_df['text'].tolist()[:20]"
   ]
  },
  {
   "cell_type": "code",
   "execution_count": 130,
   "metadata": {},
   "outputs": [
    {
     "data": {
      "text/html": [
       "<div>\n",
       "<style scoped>\n",
       "    .dataframe tbody tr th:only-of-type {\n",
       "        vertical-align: middle;\n",
       "    }\n",
       "\n",
       "    .dataframe tbody tr th {\n",
       "        vertical-align: top;\n",
       "    }\n",
       "\n",
       "    .dataframe thead th {\n",
       "        text-align: right;\n",
       "    }\n",
       "</style>\n",
       "<table border=\"1\" class=\"dataframe\">\n",
       "  <thead>\n",
       "    <tr style=\"text-align: right;\">\n",
       "      <th></th>\n",
       "      <th>target</th>\n",
       "      <th>text</th>\n",
       "      <th>polarity</th>\n",
       "      <th>contains_not</th>\n",
       "    </tr>\n",
       "  </thead>\n",
       "  <tbody>\n",
       "  </tbody>\n",
       "</table>\n",
       "</div>"
      ],
      "text/plain": [
       "Empty DataFrame\n",
       "Columns: [target, text, polarity, contains_not]\n",
       "Index: []"
      ]
     },
     "execution_count": 130,
     "metadata": {},
     "output_type": "execute_result"
    }
   ],
   "source": [
    "# Find records in the `processed_df` dataframe that contain empty values in the 'text' column \n",
    "# (which may occur after text processing), in order to delete these records from the dataframe.\n",
    "processed_df[processed_df['text'].isna()]"
   ]
  },
  {
   "cell_type": "code",
   "execution_count": 131,
   "metadata": {},
   "outputs": [
    {
     "data": {
      "text/html": [
       "<div>\n",
       "<style scoped>\n",
       "    .dataframe tbody tr th:only-of-type {\n",
       "        vertical-align: middle;\n",
       "    }\n",
       "\n",
       "    .dataframe tbody tr th {\n",
       "        vertical-align: top;\n",
       "    }\n",
       "\n",
       "    .dataframe thead th {\n",
       "        text-align: right;\n",
       "    }\n",
       "</style>\n",
       "<table border=\"1\" class=\"dataframe\">\n",
       "  <thead>\n",
       "    <tr style=\"text-align: right;\">\n",
       "      <th></th>\n",
       "      <th>target</th>\n",
       "      <th>text</th>\n",
       "    </tr>\n",
       "  </thead>\n",
       "  <tbody>\n",
       "  </tbody>\n",
       "</table>\n",
       "</div>"
      ],
      "text/plain": [
       "Empty DataFrame\n",
       "Columns: [target, text]\n",
       "Index: []"
      ]
     },
     "execution_count": 131,
     "metadata": {},
     "output_type": "execute_result"
    }
   ],
   "source": [
    "nan_indexes = processed_df[processed_df['text'].isna()].index\n",
    "tweets.iloc[nan_indexes]"
   ]
  },
  {
   "cell_type": "code",
   "execution_count": 132,
   "metadata": {},
   "outputs": [],
   "source": [
    "# We can observe that after text cleaning, there are records that do not contain any text.\n",
    "# We can notice that these are mainly tweets with mentions or links, so we decide to drop these records since\n",
    "# they do not provide new information to the model and their quantity is relatively small.\n",
    "processed_df = processed_df.dropna()"
   ]
  },
  {
   "cell_type": "code",
   "execution_count": 178,
   "metadata": {},
   "outputs": [
    {
     "name": "stdout",
     "output_type": "stream",
     "text": [
      "Unique words: 167096\n"
     ]
    }
   ],
   "source": [
    "all_words = ' '.join(processed_df['text'])\n",
    "words_list = all_words.split()\n",
    "unique_words_count = len(set(words_list))\n",
    "\n",
    "print(\"Unique words:\", unique_words_count)"
   ]
  },
  {
   "cell_type": "code",
   "execution_count": 134,
   "metadata": {},
   "outputs": [
    {
     "data": {
      "text/html": [
       "<div>\n",
       "<style scoped>\n",
       "    .dataframe tbody tr th:only-of-type {\n",
       "        vertical-align: middle;\n",
       "    }\n",
       "\n",
       "    .dataframe tbody tr th {\n",
       "        vertical-align: top;\n",
       "    }\n",
       "\n",
       "    .dataframe thead th {\n",
       "        text-align: right;\n",
       "    }\n",
       "</style>\n",
       "<table border=\"1\" class=\"dataframe\">\n",
       "  <thead>\n",
       "    <tr style=\"text-align: right;\">\n",
       "      <th></th>\n",
       "      <th>target</th>\n",
       "      <th>text</th>\n",
       "      <th>polarity</th>\n",
       "      <th>contains_not</th>\n",
       "    </tr>\n",
       "  </thead>\n",
       "  <tbody>\n",
       "    <tr>\n",
       "      <th>0</th>\n",
       "      <td>0</td>\n",
       "      <td>really bore nothing not want tomoz lazy nothin...</td>\n",
       "      <td>-0.656250</td>\n",
       "      <td>1</td>\n",
       "    </tr>\n",
       "    <tr>\n",
       "      <th>1</th>\n",
       "      <td>1</td>\n",
       "      <td>run hrs sleep whoo hoo lol come around head ho...</td>\n",
       "      <td>1.000000</td>\n",
       "      <td>0</td>\n",
       "    </tr>\n",
       "    <tr>\n",
       "      <th>2</th>\n",
       "      <td>0</td>\n",
       "      <td>think reality finally set nowin day half heart...</td>\n",
       "      <td>-0.153472</td>\n",
       "      <td>0</td>\n",
       "    </tr>\n",
       "    <tr>\n",
       "      <th>3</th>\n",
       "      <td>1</td>\n",
       "      <td>explore twitter world</td>\n",
       "      <td>0.000000</td>\n",
       "      <td>0</td>\n",
       "    </tr>\n",
       "    <tr>\n",
       "      <th>4</th>\n",
       "      <td>0</td>\n",
       "      <td>hungover make day</td>\n",
       "      <td>0.000000</td>\n",
       "      <td>0</td>\n",
       "    </tr>\n",
       "  </tbody>\n",
       "</table>\n",
       "</div>"
      ],
      "text/plain": [
       "   target                                               text  polarity  \\\n",
       "0       0  really bore nothing not want tomoz lazy nothin... -0.656250   \n",
       "1       1  run hrs sleep whoo hoo lol come around head ho...  1.000000   \n",
       "2       0  think reality finally set nowin day half heart... -0.153472   \n",
       "3       1                              explore twitter world  0.000000   \n",
       "4       0                                  hungover make day  0.000000   \n",
       "\n",
       "   contains_not  \n",
       "0             1  \n",
       "1             0  \n",
       "2             0  \n",
       "3             0  \n",
       "4             0  "
      ]
     },
     "execution_count": 134,
     "metadata": {},
     "output_type": "execute_result"
    }
   ],
   "source": [
    "processed_df['target'] = processed_df['target'].replace(4, 1)\n",
    "processed_df.head()"
   ]
  },
  {
   "cell_type": "code",
   "execution_count": 135,
   "metadata": {},
   "outputs": [
    {
     "name": "stdout",
     "output_type": "stream",
     "text": [
      "<class 'pandas.core.frame.DataFrame'>\n",
      "RangeIndex: 505612 entries, 0 to 505611\n",
      "Data columns (total 4 columns):\n",
      " #   Column        Non-Null Count   Dtype  \n",
      "---  ------        --------------   -----  \n",
      " 0   target        505612 non-null  int64  \n",
      " 1   text          505612 non-null  object \n",
      " 2   polarity      505612 non-null  float64\n",
      " 3   contains_not  505612 non-null  int64  \n",
      "dtypes: float64(1), int64(2), object(1)\n",
      "memory usage: 15.4+ MB\n"
     ]
    }
   ],
   "source": [
    "processed_df.info()"
   ]
  },
  {
   "cell_type": "code",
   "execution_count": 128,
   "metadata": {},
   "outputs": [],
   "source": [
    "processed_df.to_csv('../data/processed data/processed_train_data.csv', index=False)\n",
    "#same with test and validation dataset\n",
    "#processed_df.to_csv('../data/processed data/processed_val_data.csv', index=False)\n",
    "#processed_df.to_csv(./data/processed data/processed_test_data.csv, index=False)"
   ]
  },
  {
   "cell_type": "markdown",
   "metadata": {},
   "source": [
    "## Getting processed datasets for features engineering\n",
    "\n",
    "To train and evaluate machine learning models effectively, the dataset is split into three subsets:\n",
    "\n",
    "1. **Training Data**: Used to train the model, this subset contains features (input variables) and their corresponding labels (output variable).\n",
    "\n",
    "2. **Validation Data**: Reserved for evaluating the model's performance during training. It allows adjusting model parameters to optimize performance without overfitting.\n",
    "\n",
    "3. **Test Data**: Used for final evaluation of the trained model's performance. It serves to assess the model's ability to generalize to unseen data.\n",
    "\n",
    "Both of them we have already processed so now we are using processed datasets.\n"
   ]
  },
  {
   "cell_type": "code",
   "execution_count": 117,
   "metadata": {},
   "outputs": [],
   "source": [
    "processed_train_data=pd.read_csv('../data/processed data/processed_train_data.csv', encoding='ISO-8859-1')\n",
    "#our test data is from validation data set, validation team has independent test set\n",
    "processed_test_data=pd.read_csv('../data/processed data/processed_val_data.csv', encoding='ISO-8859-1')"
   ]
  },
  {
   "cell_type": "code",
   "execution_count": 118,
   "metadata": {},
   "outputs": [],
   "source": [
    "X_train=processed_train_data.drop('target', axis=1)\n",
    "y_train=processed_train_data['target']\n",
    "X_test=processed_test_data.drop('target',axis=1)\n",
    "y_test=processed_test_data['target']"
   ]
  },
  {
   "cell_type": "code",
   "execution_count": 119,
   "metadata": {},
   "outputs": [
    {
     "data": {
      "text/plain": [
       "((505612, 3), (216619, 3), (505612,), (216619,))"
      ]
     },
     "execution_count": 119,
     "metadata": {},
     "output_type": "execute_result"
    }
   ],
   "source": [
    "X_train.shape, X_test.shape, y_train.shape, y_test.shape"
   ]
  },
  {
   "cell_type": "code",
   "execution_count": 120,
   "metadata": {},
   "outputs": [
    {
     "data": {
      "text/plain": [
       "(                                                text  polarity  contains_not\n",
       " 0  really bore nothing not want tomoz lazy nothin... -0.656250             1\n",
       " 1  run hrs sleep whoo hoo lol come around head ho...  1.000000             0\n",
       " 2  think reality finally set nowin day half heart... -0.153472             0\n",
       " 3                              explore twitter world  0.000000             0\n",
       " 4                                  hungover make day  0.000000             0,\n",
       " 0    0\n",
       " 1    1\n",
       " 2    0\n",
       " 3    1\n",
       " 4    0\n",
       " Name: target, dtype: int64)"
      ]
     },
     "execution_count": 120,
     "metadata": {},
     "output_type": "execute_result"
    }
   ],
   "source": [
    "X_train.head(), y_train.head()"
   ]
  },
  {
   "cell_type": "markdown",
   "metadata": {},
   "source": [
    "## Bag of words\n",
    "The Bag of Words (BoW) model is a technique used in natural language processing (NLP) and machine learning for representing text data. In BoW, each document is represented as an unordered collection or \"bag\" of words, disregarding grammar, syntax, and word order.\n",
    "\n",
    "The process of creating a Bag of Words typically involves the following steps:\n",
    "\n",
    "1. **Tokenization**: The documents are split into individual words or tokens.\n",
    "2. **Building a Vocabulary**: A vocabulary, or dictionary, is constructed containing all unique words found in the corpus of documents. Each word is assigned a unique index.\n",
    "3. **Creating Feature Vectors**: For each document, a feature vector is created representing the frequency or occurrence of each word from the vocabulary in that document.\n"
   ]
  },
  {
   "cell_type": "code",
   "execution_count": 121,
   "metadata": {},
   "outputs": [
    {
     "name": "stdout",
     "output_type": "stream",
     "text": [
      "['aaa' 'aaaa' 'aaaaa' 'aaaaaa' 'aaaaaaa' 'aaaaaaaa' 'aaaaaaaaa'\n",
      " 'aaaaaaaaaa' 'aaaaaaaaaaa' 'aaaaaaaaaaaa']\n"
     ]
    }
   ],
   "source": [
    "count_vectorizer = CountVectorizer(max_df=0.8)\n",
    "count_train = count_vectorizer.fit_transform(X_train['text'])\n",
    "count_test = count_vectorizer.transform(X_test['text'])\n",
    "print(count_vectorizer.get_feature_names_out()[:10])"
   ]
  },
  {
   "cell_type": "markdown",
   "metadata": {},
   "source": [
    "### Basic Models for BoW"
   ]
  },
  {
   "cell_type": "code",
   "execution_count": 136,
   "metadata": {},
   "outputs": [
    {
     "name": "stderr",
     "output_type": "stream",
     "text": [
      "c:\\Users\\abc\\anaconda3\\lib\\site-packages\\sklearn\\svm\\_base.py:1206: ConvergenceWarning: Liblinear failed to converge, increase the number of iterations.\n",
      "  warnings.warn(\n"
     ]
    },
    {
     "data": {
      "text/plain": [
       "LinearSVC(class_weight='balanced')"
      ]
     },
     "execution_count": 136,
     "metadata": {},
     "output_type": "execute_result"
    }
   ],
   "source": [
    "l_SVC_bow=LinearSVC(class_weight='balanced')\n",
    "l_SVC_bow.fit(count_train,y_train)"
   ]
  },
  {
   "cell_type": "code",
   "execution_count": 137,
   "metadata": {},
   "outputs": [
    {
     "data": {
      "text/html": [
       "<div>\n",
       "<style scoped>\n",
       "    .dataframe tbody tr th:only-of-type {\n",
       "        vertical-align: middle;\n",
       "    }\n",
       "\n",
       "    .dataframe tbody tr th {\n",
       "        vertical-align: top;\n",
       "    }\n",
       "\n",
       "    .dataframe thead th {\n",
       "        text-align: right;\n",
       "    }\n",
       "</style>\n",
       "<table border=\"1\" class=\"dataframe\">\n",
       "  <thead>\n",
       "    <tr style=\"text-align: right;\">\n",
       "      <th></th>\n",
       "      <th>precision</th>\n",
       "      <th>recall</th>\n",
       "      <th>f1-score</th>\n",
       "      <th>support</th>\n",
       "    </tr>\n",
       "  </thead>\n",
       "  <tbody>\n",
       "    <tr>\n",
       "      <th>0</th>\n",
       "      <td>0.905414</td>\n",
       "      <td>0.790687</td>\n",
       "      <td>0.844170</td>\n",
       "      <td>165374.000000</td>\n",
       "    </tr>\n",
       "    <tr>\n",
       "      <th>1</th>\n",
       "      <td>0.520568</td>\n",
       "      <td>0.733437</td>\n",
       "      <td>0.608935</td>\n",
       "      <td>51245.000000</td>\n",
       "    </tr>\n",
       "    <tr>\n",
       "      <th>accuracy</th>\n",
       "      <td>0.777143</td>\n",
       "      <td>0.777143</td>\n",
       "      <td>0.777143</td>\n",
       "      <td>0.777143</td>\n",
       "    </tr>\n",
       "    <tr>\n",
       "      <th>macro avg</th>\n",
       "      <td>0.712991</td>\n",
       "      <td>0.762062</td>\n",
       "      <td>0.726553</td>\n",
       "      <td>216619.000000</td>\n",
       "    </tr>\n",
       "    <tr>\n",
       "      <th>weighted avg</th>\n",
       "      <td>0.814372</td>\n",
       "      <td>0.777143</td>\n",
       "      <td>0.788521</td>\n",
       "      <td>216619.000000</td>\n",
       "    </tr>\n",
       "  </tbody>\n",
       "</table>\n",
       "</div>"
      ],
      "text/plain": [
       "              precision    recall  f1-score        support\n",
       "0              0.905414  0.790687  0.844170  165374.000000\n",
       "1              0.520568  0.733437  0.608935   51245.000000\n",
       "accuracy       0.777143  0.777143  0.777143       0.777143\n",
       "macro avg      0.712991  0.762062  0.726553  216619.000000\n",
       "weighted avg   0.814372  0.777143  0.788521  216619.000000"
      ]
     },
     "execution_count": 137,
     "metadata": {},
     "output_type": "execute_result"
    }
   ],
   "source": [
    "y_pred_test = l_SVC_bow.predict(count_test)\n",
    "report = classification_report(y_test, y_pred_test, output_dict=True)\n",
    "\n",
    "report_df = pd.DataFrame(report).transpose()\n",
    "report_df"
   ]
  },
  {
   "cell_type": "code",
   "execution_count": 138,
   "metadata": {},
   "outputs": [
    {
     "name": "stdout",
     "output_type": "stream",
     "text": [
      "0.7620619867628933\n"
     ]
    }
   ],
   "source": [
    "print(metrics.roc_auc_score(y_test,y_pred_test))"
   ]
  },
  {
   "cell_type": "code",
   "execution_count": 139,
   "metadata": {},
   "outputs": [
    {
     "data": {
      "image/png": "[encoded data removed]",
      "text/plain": [
       "<Figure size 576x432 with 1 Axes>"
      ]
     },
     "metadata": {
      "needs_background": "light"
     },
     "output_type": "display_data"
    }
   ],
   "source": [
    "y_pred_test = l_SVC_bow.predict(count_test)\n",
    "cm = confusion_matrix(y_test, y_pred_test)\n",
    "\n",
    "plt.figure(figsize=(8, 6))\n",
    "sns.heatmap(cm, annot=True, fmt=\"d\", cmap=\"Blues\", cbar=False)\n",
    "plt.xlabel(\"Predicted labels\")\n",
    "plt.ylabel(\"True labels\")\n",
    "plt.title(\"Confusion Matrix - Training Data\")\n",
    "plt.show()"
   ]
  },
  {
   "cell_type": "code",
   "execution_count": 140,
   "metadata": {},
   "outputs": [
    {
     "name": "stderr",
     "output_type": "stream",
     "text": [
      "c:\\Users\\abc\\anaconda3\\lib\\site-packages\\sklearn\\linear_model\\_sag.py:352: ConvergenceWarning: The max_iter was reached which means the coef_ did not converge\n",
      "  warnings.warn(\n"
     ]
    },
    {
     "data": {
      "text/plain": [
       "LogisticRegression(solver='sag')"
      ]
     },
     "execution_count": 140,
     "metadata": {},
     "output_type": "execute_result"
    }
   ],
   "source": [
    "lr_bow=LogisticRegression(solver='sag')\n",
    "lr_bow.fit(count_train,y_train)"
   ]
  },
  {
   "cell_type": "code",
   "execution_count": 141,
   "metadata": {},
   "outputs": [
    {
     "data": {
      "text/html": [
       "<div>\n",
       "<style scoped>\n",
       "    .dataframe tbody tr th:only-of-type {\n",
       "        vertical-align: middle;\n",
       "    }\n",
       "\n",
       "    .dataframe tbody tr th {\n",
       "        vertical-align: top;\n",
       "    }\n",
       "\n",
       "    .dataframe thead th {\n",
       "        text-align: right;\n",
       "    }\n",
       "</style>\n",
       "<table border=\"1\" class=\"dataframe\">\n",
       "  <thead>\n",
       "    <tr style=\"text-align: right;\">\n",
       "      <th></th>\n",
       "      <th>precision</th>\n",
       "      <th>recall</th>\n",
       "      <th>f1-score</th>\n",
       "      <th>support</th>\n",
       "    </tr>\n",
       "  </thead>\n",
       "  <tbody>\n",
       "    <tr>\n",
       "      <th>0</th>\n",
       "      <td>0.853667</td>\n",
       "      <td>0.943492</td>\n",
       "      <td>0.896335</td>\n",
       "      <td>165374.000000</td>\n",
       "    </tr>\n",
       "    <tr>\n",
       "      <th>1</th>\n",
       "      <td>0.723880</td>\n",
       "      <td>0.478076</td>\n",
       "      <td>0.575844</td>\n",
       "      <td>51245.000000</td>\n",
       "    </tr>\n",
       "    <tr>\n",
       "      <th>accuracy</th>\n",
       "      <td>0.833389</td>\n",
       "      <td>0.833389</td>\n",
       "      <td>0.833389</td>\n",
       "      <td>0.833389</td>\n",
       "    </tr>\n",
       "    <tr>\n",
       "      <th>macro avg</th>\n",
       "      <td>0.788774</td>\n",
       "      <td>0.710784</td>\n",
       "      <td>0.736089</td>\n",
       "      <td>216619.000000</td>\n",
       "    </tr>\n",
       "    <tr>\n",
       "      <th>weighted avg</th>\n",
       "      <td>0.822964</td>\n",
       "      <td>0.833389</td>\n",
       "      <td>0.820517</td>\n",
       "      <td>216619.000000</td>\n",
       "    </tr>\n",
       "  </tbody>\n",
       "</table>\n",
       "</div>"
      ],
      "text/plain": [
       "              precision    recall  f1-score        support\n",
       "0              0.853667  0.943492  0.896335  165374.000000\n",
       "1              0.723880  0.478076  0.575844   51245.000000\n",
       "accuracy       0.833389  0.833389  0.833389       0.833389\n",
       "macro avg      0.788774  0.710784  0.736089  216619.000000\n",
       "weighted avg   0.822964  0.833389  0.820517  216619.000000"
      ]
     },
     "execution_count": 141,
     "metadata": {},
     "output_type": "execute_result"
    }
   ],
   "source": [
    "y_pred_test = lr_bow.predict(count_test)\n",
    "report = classification_report(y_test, y_pred_test, output_dict=True)\n",
    "\n",
    "report_df = pd.DataFrame(report).transpose()\n",
    "report_df"
   ]
  },
  {
   "cell_type": "code",
   "execution_count": 142,
   "metadata": {},
   "outputs": [
    {
     "name": "stdout",
     "output_type": "stream",
     "text": [
      "0.7107838158195496\n"
     ]
    }
   ],
   "source": [
    "print(metrics.roc_auc_score(y_test,y_pred_test))"
   ]
  },
  {
   "cell_type": "code",
   "execution_count": 143,
   "metadata": {},
   "outputs": [
    {
     "data": {
      "image/png": "[encoded data removed]",
      "text/plain": [
       "<Figure size 576x432 with 1 Axes>"
      ]
     },
     "metadata": {
      "needs_background": "light"
     },
     "output_type": "display_data"
    }
   ],
   "source": [
    "y_pred_test = lr_bow.predict(count_test)\n",
    "cm = confusion_matrix(y_test, y_pred_test)\n",
    "\n",
    "plt.figure(figsize=(8, 6))\n",
    "sns.heatmap(cm, annot=True, fmt=\"d\", cmap=\"Blues\", cbar=False)\n",
    "plt.xlabel(\"Predicted labels\")\n",
    "plt.ylabel(\"True labels\")\n",
    "plt.title(\"Confusion Matrix - Training Data\")\n",
    "plt.show()"
   ]
  },
  {
   "cell_type": "code",
   "execution_count": 144,
   "metadata": {},
   "outputs": [
    {
     "data": {
      "text/plain": [
       "MultinomialNB()"
      ]
     },
     "execution_count": 144,
     "metadata": {},
     "output_type": "execute_result"
    }
   ],
   "source": [
    "nb_classifier = MultinomialNB()\n",
    "nb_classifier.fit(count_train,y_train)"
   ]
  },
  {
   "cell_type": "code",
   "execution_count": 145,
   "metadata": {},
   "outputs": [
    {
     "data": {
      "text/html": [
       "<div>\n",
       "<style scoped>\n",
       "    .dataframe tbody tr th:only-of-type {\n",
       "        vertical-align: middle;\n",
       "    }\n",
       "\n",
       "    .dataframe tbody tr th {\n",
       "        vertical-align: top;\n",
       "    }\n",
       "\n",
       "    .dataframe thead th {\n",
       "        text-align: right;\n",
       "    }\n",
       "</style>\n",
       "<table border=\"1\" class=\"dataframe\">\n",
       "  <thead>\n",
       "    <tr style=\"text-align: right;\">\n",
       "      <th></th>\n",
       "      <th>precision</th>\n",
       "      <th>recall</th>\n",
       "      <th>f1-score</th>\n",
       "      <th>support</th>\n",
       "    </tr>\n",
       "  </thead>\n",
       "  <tbody>\n",
       "    <tr>\n",
       "      <th>0</th>\n",
       "      <td>0.830429</td>\n",
       "      <td>0.961953</td>\n",
       "      <td>0.891365</td>\n",
       "      <td>165374.000000</td>\n",
       "    </tr>\n",
       "    <tr>\n",
       "      <th>1</th>\n",
       "      <td>0.748852</td>\n",
       "      <td>0.366104</td>\n",
       "      <td>0.491782</td>\n",
       "      <td>51245.000000</td>\n",
       "    </tr>\n",
       "    <tr>\n",
       "      <th>accuracy</th>\n",
       "      <td>0.820994</td>\n",
       "      <td>0.820994</td>\n",
       "      <td>0.820994</td>\n",
       "      <td>0.820994</td>\n",
       "    </tr>\n",
       "    <tr>\n",
       "      <th>macro avg</th>\n",
       "      <td>0.789641</td>\n",
       "      <td>0.664028</td>\n",
       "      <td>0.691574</td>\n",
       "      <td>216619.000000</td>\n",
       "    </tr>\n",
       "    <tr>\n",
       "      <th>weighted avg</th>\n",
       "      <td>0.811131</td>\n",
       "      <td>0.820994</td>\n",
       "      <td>0.796837</td>\n",
       "      <td>216619.000000</td>\n",
       "    </tr>\n",
       "  </tbody>\n",
       "</table>\n",
       "</div>"
      ],
      "text/plain": [
       "              precision    recall  f1-score        support\n",
       "0              0.830429  0.961953  0.891365  165374.000000\n",
       "1              0.748852  0.366104  0.491782   51245.000000\n",
       "accuracy       0.820994  0.820994  0.820994       0.820994\n",
       "macro avg      0.789641  0.664028  0.691574  216619.000000\n",
       "weighted avg   0.811131  0.820994  0.796837  216619.000000"
      ]
     },
     "execution_count": 145,
     "metadata": {},
     "output_type": "execute_result"
    }
   ],
   "source": [
    "y_pred_test = nb_classifier.predict(count_test)\n",
    "report = classification_report(y_test, y_pred_test, output_dict=True)\n",
    "\n",
    "report_df = pd.DataFrame(report).transpose()\n",
    "report_df"
   ]
  },
  {
   "cell_type": "code",
   "execution_count": 146,
   "metadata": {},
   "outputs": [
    {
     "name": "stdout",
     "output_type": "stream",
     "text": [
      "0.6640284584460217\n"
     ]
    }
   ],
   "source": [
    "print(metrics.roc_auc_score(y_test,y_pred_test))"
   ]
  },
  {
   "cell_type": "markdown",
   "metadata": {},
   "source": [
    "## TF-IDF (Term Frequency-Inverse Document Frequency)\n",
    "\n",
    "TF-IDF is a statistical measure used to evaluate the importance of a term in a document relative to a collection of documents. It is commonly used in natural language processing and information retrieval to extract relevant information from text data.\n",
    "\n",
    "### Term Frequency (TF)\n",
    "\n",
    "Term Frequency measures the frequency of a term (word) in a document. It is calculated as the number of times a term appears in a document divided by the total number of terms in the document. TF is used to represent how often a term occurs within a document.\n",
    "\n",
    "TF(t) = (Number of times term t appears in a document) / (Total number of terms in the document)\n",
    "\n",
    "### Inverse Document Frequency (IDF)\n",
    "\n",
    "Inverse Document Frequency measures the importance of a term across a collection of documents. It is calculated as the logarithm of the total number of documents divided by the number of documents containing the term, then the result is inverted. IDF is used to represent how unique or rare a term is across the entire document collection.\n",
    "\n",
    "IDF(t) = log_e(Total number of documents / Number of documents containing term t)\n",
    "\n",
    "### TF-IDF Calculation\n",
    "\n",
    "TF-IDF is computed as the product of TF and IDF:\n",
    "\n",
    "TF-IDF(t, d) = TF(t) * IDF(t)\n",
    "\n",
    "Where:\n",
    "- TF-IDF(t, d) is the TF-IDF score for term t in document d.\n",
    "- TF(t) is the Term Frequency of term t in document d.\n",
    "- IDF(t) is the Inverse Document Frequency of term t.\n",
    "\n",
    "### Applications of TF-IDF\n",
    "\n",
    "- Information retrieval: TF-IDF is used to rank the relevance of documents to a query in search engines.\n",
    "- Text mining: TF-IDF helps in extracting important features from text data for tasks such as classification, clustering, and sentiment analysis.\n",
    "- Keyword extraction: TF-IDF identifies significant keywords in documents for indexing and summarization."
   ]
  },
  {
   "cell_type": "code",
   "execution_count": 147,
   "metadata": {},
   "outputs": [],
   "source": [
    "# Performing TF-IDF Vectorization with Both Unigrams and Bigrams.\n",
    "# Here we're utilizing TF-IDF vectorization to convert our text data into numerical features,\n",
    "# aiming to capture both single words (unigrams) and sequences of two words (bigrams).\n",
    "# By specifying ngram_range=(1, 2), we ensure that our TF-IDF representation includes both\n",
    "# individual words and meaningful pairs of adjacent words.\n",
    "\n",
    "# Including bigrams enables us to detect not only individual words but also collocations,\n",
    "# such as negations or emphatic expressions, which can significantly impact sentiment analysis results.\n",
    "\n",
    "tfidf = TfidfVectorizer(norm='l2')\n",
    "tfidf_vector=tfidf.fit_transform(X_train['text'])\n",
    "\n",
    "tfidf_biagrams = TfidfVectorizer(ngram_range=(1, 2),norm='l2')\n",
    "tfidf_biagrams_vector=tfidf_biagrams.fit_transform(X_train['text'])"
   ]
  },
  {
   "cell_type": "code",
   "execution_count": 148,
   "metadata": {},
   "outputs": [],
   "source": [
    "tfidf_vector_test=tfidf.transform(X_test['text'])\n",
    "tfidf_biagrams_vector_test=tfidf_biagrams.transform(X_test['text'])"
   ]
  },
  {
   "cell_type": "code",
   "execution_count": 149,
   "metadata": {},
   "outputs": [
    {
     "name": "stdout",
     "output_type": "stream",
     "text": [
      "  (0, 50931)\t0.31352684174137296\n",
      "  (0, 82647)\t0.23266635722882933\n",
      "  (0, 79371)\t0.3622244908924406\n",
      "  (0, 144657)\t0.4650906585220032\n",
      "  (0, 155327)\t0.19125824123932605\n",
      "  (0, 99000)\t0.12743938740434393\n",
      "  (0, 99090)\t0.5700679234159668\n",
      "  (0, 17910)\t0.276934396103799\n",
      "  (0, 115796)\t0.21344969879975353\n",
      "  (1, 30657)\t0.2936496196756181\n",
      "  (1, 95247)\t0.2961765890801822\n",
      "  (1, 58527)\t0.24278231045931017\n",
      "  (1, 64368)\t0.19335152733216548\n",
      "  (1, 61352)\t0.23712170188258969\n",
      "  (1, 7973)\t0.26071005898521393\n",
      "  (1, 28385)\t0.19264203330271082\n",
      "  (1, 82126)\t0.19063176577744953\n",
      "  (1, 64887)\t0.3594132389115824\n",
      "  (1, 158279)\t0.41324509555658345\n",
      "  (1, 128743)\t0.2017864126421686\n",
      "  (1, 65966)\t0.3573677300382783\n",
      "  (1, 120471)\t0.2523778317665004\n",
      "  (2, 91729)\t0.233639827137946\n",
      "  (2, 10862)\t0.2215796981934975\n",
      "  (2, 90271)\t0.1507237524489683\n",
      "  :\t:\n",
      "  (505609, 52601)\t0.26382387436537597\n",
      "  (505609, 81346)\t0.2432440228958278\n",
      "  (505609, 160224)\t0.14863428697180106\n",
      "  (505609, 55845)\t0.1416464919746426\n",
      "  (505610, 161988)\t0.5444313582236552\n",
      "  (505610, 109142)\t0.3709155119335114\n",
      "  (505610, 145596)\t0.28961540184392115\n",
      "  (505610, 33779)\t0.2916161611650753\n",
      "  (505610, 158131)\t0.3070854059425952\n",
      "  (505610, 136930)\t0.23646970246392712\n",
      "  (505610, 24861)\t0.25264199267412013\n",
      "  (505610, 36835)\t0.35768704757043573\n",
      "  (505610, 85101)\t0.1782145233322163\n",
      "  (505610, 33955)\t0.1528114172342338\n",
      "  (505611, 148470)\t0.4805519752314351\n",
      "  (505611, 123500)\t0.43098592794034063\n",
      "  (505611, 20410)\t0.3164375084078087\n",
      "  (505611, 158054)\t0.31887838502128185\n",
      "  (505611, 124708)\t0.3350665875780134\n",
      "  (505611, 147815)\t0.27561801321404966\n",
      "  (505611, 24417)\t0.2275006658814846\n",
      "  (505611, 95104)\t0.24018874814368643\n",
      "  (505611, 48722)\t0.1837143301303072\n",
      "  (505611, 160224)\t0.1361096326067248\n",
      "  (505611, 148545)\t0.17761172721218907\n"
     ]
    }
   ],
   "source": [
    "print(tfidf_vector)"
   ]
  },
  {
   "cell_type": "markdown",
   "metadata": {},
   "source": [
    "### Basic models"
   ]
  },
  {
   "cell_type": "markdown",
   "metadata": {},
   "source": [
    "### Linear SVC for TF-IDF"
   ]
  },
  {
   "cell_type": "code",
   "execution_count": 150,
   "metadata": {},
   "outputs": [
    {
     "data": {
      "text/plain": [
       "LinearSVC()"
      ]
     },
     "execution_count": 150,
     "metadata": {},
     "output_type": "execute_result"
    }
   ],
   "source": [
    "l_SVC=LinearSVC()\n",
    "l_SVC.fit(tfidf_vector,y_train)"
   ]
  },
  {
   "cell_type": "code",
   "execution_count": 151,
   "metadata": {},
   "outputs": [
    {
     "data": {
      "text/html": [
       "<div>\n",
       "<style scoped>\n",
       "    .dataframe tbody tr th:only-of-type {\n",
       "        vertical-align: middle;\n",
       "    }\n",
       "\n",
       "    .dataframe tbody tr th {\n",
       "        vertical-align: top;\n",
       "    }\n",
       "\n",
       "    .dataframe thead th {\n",
       "        text-align: right;\n",
       "    }\n",
       "</style>\n",
       "<table border=\"1\" class=\"dataframe\">\n",
       "  <thead>\n",
       "    <tr style=\"text-align: right;\">\n",
       "      <th></th>\n",
       "      <th>precision</th>\n",
       "      <th>recall</th>\n",
       "      <th>f1-score</th>\n",
       "      <th>support</th>\n",
       "    </tr>\n",
       "  </thead>\n",
       "  <tbody>\n",
       "    <tr>\n",
       "      <th>0</th>\n",
       "      <td>0.856212</td>\n",
       "      <td>0.934065</td>\n",
       "      <td>0.893445</td>\n",
       "      <td>165374.000000</td>\n",
       "    </tr>\n",
       "    <tr>\n",
       "      <th>1</th>\n",
       "      <td>0.698851</td>\n",
       "      <td>0.493785</td>\n",
       "      <td>0.578688</td>\n",
       "      <td>51245.000000</td>\n",
       "    </tr>\n",
       "    <tr>\n",
       "      <th>accuracy</th>\n",
       "      <td>0.829909</td>\n",
       "      <td>0.829909</td>\n",
       "      <td>0.829909</td>\n",
       "      <td>0.829909</td>\n",
       "    </tr>\n",
       "    <tr>\n",
       "      <th>macro avg</th>\n",
       "      <td>0.777531</td>\n",
       "      <td>0.713925</td>\n",
       "      <td>0.736067</td>\n",
       "      <td>216619.000000</td>\n",
       "    </tr>\n",
       "    <tr>\n",
       "      <th>weighted avg</th>\n",
       "      <td>0.818985</td>\n",
       "      <td>0.829909</td>\n",
       "      <td>0.818984</td>\n",
       "      <td>216619.000000</td>\n",
       "    </tr>\n",
       "  </tbody>\n",
       "</table>\n",
       "</div>"
      ],
      "text/plain": [
       "              precision    recall  f1-score        support\n",
       "0              0.856212  0.934065  0.893445  165374.000000\n",
       "1              0.698851  0.493785  0.578688   51245.000000\n",
       "accuracy       0.829909  0.829909  0.829909       0.829909\n",
       "macro avg      0.777531  0.713925  0.736067  216619.000000\n",
       "weighted avg   0.818985  0.829909  0.818984  216619.000000"
      ]
     },
     "execution_count": 151,
     "metadata": {},
     "output_type": "execute_result"
    }
   ],
   "source": [
    "y_pred_test = l_SVC.predict(tfidf_vector_test)\n",
    "report = classification_report(y_test, y_pred_test, output_dict=True)\n",
    "\n",
    "report_df = pd.DataFrame(report).transpose()\n",
    "report_df"
   ]
  },
  {
   "cell_type": "code",
   "execution_count": 152,
   "metadata": {},
   "outputs": [
    {
     "name": "stdout",
     "output_type": "stream",
     "text": [
      "0.7139246822828538\n"
     ]
    }
   ],
   "source": [
    "print(metrics.roc_auc_score(y_test,y_pred_test))"
   ]
  },
  {
   "cell_type": "code",
   "execution_count": 153,
   "metadata": {},
   "outputs": [
    {
     "data": {
      "image/png": "[encoded data removed]",
      "text/plain": [
       "<Figure size 576x432 with 1 Axes>"
      ]
     },
     "metadata": {
      "needs_background": "light"
     },
     "output_type": "display_data"
    }
   ],
   "source": [
    "y_pred_test = l_SVC.predict(tfidf_vector_test)\n",
    "cm = confusion_matrix(y_test, y_pred_test)\n",
    "\n",
    "plt.figure(figsize=(8, 6))\n",
    "sns.heatmap(cm, annot=True, fmt=\"d\", cmap=\"Blues\", cbar=False)\n",
    "plt.xlabel(\"Predicted labels\")\n",
    "plt.ylabel(\"True labels\")\n",
    "plt.title(\"Confusion Matrix - Training Data\")\n",
    "plt.show()"
   ]
  },
  {
   "cell_type": "markdown",
   "metadata": {},
   "source": [
    "### Linear SVC for TF-IDF using biagrams"
   ]
  },
  {
   "cell_type": "code",
   "execution_count": 154,
   "metadata": {},
   "outputs": [
    {
     "data": {
      "text/plain": [
       "LinearSVC()"
      ]
     },
     "execution_count": 154,
     "metadata": {},
     "output_type": "execute_result"
    }
   ],
   "source": [
    "l_SVC_biagrams=LinearSVC()\n",
    "l_SVC_biagrams.fit(tfidf_biagrams_vector,y_train)"
   ]
  },
  {
   "cell_type": "code",
   "execution_count": 155,
   "metadata": {},
   "outputs": [
    {
     "data": {
      "text/html": [
       "<div>\n",
       "<style scoped>\n",
       "    .dataframe tbody tr th:only-of-type {\n",
       "        vertical-align: middle;\n",
       "    }\n",
       "\n",
       "    .dataframe tbody tr th {\n",
       "        vertical-align: top;\n",
       "    }\n",
       "\n",
       "    .dataframe thead th {\n",
       "        text-align: right;\n",
       "    }\n",
       "</style>\n",
       "<table border=\"1\" class=\"dataframe\">\n",
       "  <thead>\n",
       "    <tr style=\"text-align: right;\">\n",
       "      <th></th>\n",
       "      <th>precision</th>\n",
       "      <th>recall</th>\n",
       "      <th>f1-score</th>\n",
       "      <th>support</th>\n",
       "    </tr>\n",
       "  </thead>\n",
       "  <tbody>\n",
       "    <tr>\n",
       "      <th>0</th>\n",
       "      <td>0.868028</td>\n",
       "      <td>0.929808</td>\n",
       "      <td>0.897856</td>\n",
       "      <td>165374.000000</td>\n",
       "    </tr>\n",
       "    <tr>\n",
       "      <th>1</th>\n",
       "      <td>0.705940</td>\n",
       "      <td>0.543799</td>\n",
       "      <td>0.614352</td>\n",
       "      <td>51245.000000</td>\n",
       "    </tr>\n",
       "    <tr>\n",
       "      <th>accuracy</th>\n",
       "      <td>0.838491</td>\n",
       "      <td>0.838491</td>\n",
       "      <td>0.838491</td>\n",
       "      <td>0.838491</td>\n",
       "    </tr>\n",
       "    <tr>\n",
       "      <th>macro avg</th>\n",
       "      <td>0.786984</td>\n",
       "      <td>0.736803</td>\n",
       "      <td>0.756104</td>\n",
       "      <td>216619.000000</td>\n",
       "    </tr>\n",
       "    <tr>\n",
       "      <th>weighted avg</th>\n",
       "      <td>0.829684</td>\n",
       "      <td>0.838491</td>\n",
       "      <td>0.830789</td>\n",
       "      <td>216619.000000</td>\n",
       "    </tr>\n",
       "  </tbody>\n",
       "</table>\n",
       "</div>"
      ],
      "text/plain": [
       "              precision    recall  f1-score        support\n",
       "0              0.868028  0.929808  0.897856  165374.000000\n",
       "1              0.705940  0.543799  0.614352   51245.000000\n",
       "accuracy       0.838491  0.838491  0.838491       0.838491\n",
       "macro avg      0.786984  0.736803  0.756104  216619.000000\n",
       "weighted avg   0.829684  0.838491  0.830789  216619.000000"
      ]
     },
     "execution_count": 155,
     "metadata": {},
     "output_type": "execute_result"
    }
   ],
   "source": [
    "y_pred_test = l_SVC_biagrams.predict(tfidf_biagrams_vector_test)\n",
    "report = classification_report(y_test, y_pred_test, output_dict=True)\n",
    "\n",
    "report_df = pd.DataFrame(report).transpose()\n",
    "report_df"
   ]
  },
  {
   "cell_type": "code",
   "execution_count": 156,
   "metadata": {},
   "outputs": [
    {
     "name": "stdout",
     "output_type": "stream",
     "text": [
      "0.7368034913563725\n"
     ]
    }
   ],
   "source": [
    "print(metrics.roc_auc_score(y_test,y_pred_test))"
   ]
  },
  {
   "cell_type": "code",
   "execution_count": 157,
   "metadata": {},
   "outputs": [
    {
     "data": {
      "image/png": "[encoded data removed]",
      "text/plain": [
       "<Figure size 576x432 with 1 Axes>"
      ]
     },
     "metadata": {
      "needs_background": "light"
     },
     "output_type": "display_data"
    }
   ],
   "source": [
    "y_pred_test = l_SVC_biagrams.predict(tfidf_biagrams_vector_test)\n",
    "cm = confusion_matrix(y_test, y_pred_test)\n",
    "\n",
    "plt.figure(figsize=(8, 6))\n",
    "sns.heatmap(cm, annot=True, fmt=\"d\", cmap=\"Blues\", cbar=False)\n",
    "plt.xlabel(\"Predicted labels\")\n",
    "plt.ylabel(\"True labels\")\n",
    "plt.title(\"Confusion Matrix - Training Data\")\n",
    "plt.show()"
   ]
  },
  {
   "cell_type": "markdown",
   "metadata": {},
   "source": [
    "### Logistic regression"
   ]
  },
  {
   "cell_type": "code",
   "execution_count": 158,
   "metadata": {},
   "outputs": [
    {
     "data": {
      "text/plain": [
       "LogisticRegression(solver='sag')"
      ]
     },
     "execution_count": 158,
     "metadata": {},
     "output_type": "execute_result"
    }
   ],
   "source": [
    "lr=LogisticRegression(solver='sag')\n",
    "lr.fit(tfidf_vector,y_train)"
   ]
  },
  {
   "cell_type": "code",
   "execution_count": 159,
   "metadata": {},
   "outputs": [
    {
     "data": {
      "text/html": [
       "<div>\n",
       "<style scoped>\n",
       "    .dataframe tbody tr th:only-of-type {\n",
       "        vertical-align: middle;\n",
       "    }\n",
       "\n",
       "    .dataframe tbody tr th {\n",
       "        vertical-align: top;\n",
       "    }\n",
       "\n",
       "    .dataframe thead th {\n",
       "        text-align: right;\n",
       "    }\n",
       "</style>\n",
       "<table border=\"1\" class=\"dataframe\">\n",
       "  <thead>\n",
       "    <tr style=\"text-align: right;\">\n",
       "      <th></th>\n",
       "      <th>precision</th>\n",
       "      <th>recall</th>\n",
       "      <th>f1-score</th>\n",
       "      <th>support</th>\n",
       "    </tr>\n",
       "  </thead>\n",
       "  <tbody>\n",
       "    <tr>\n",
       "      <th>0</th>\n",
       "      <td>0.855416</td>\n",
       "      <td>0.946382</td>\n",
       "      <td>0.898603</td>\n",
       "      <td>165374.000000</td>\n",
       "    </tr>\n",
       "    <tr>\n",
       "      <th>1</th>\n",
       "      <td>0.736564</td>\n",
       "      <td>0.483794</td>\n",
       "      <td>0.584001</td>\n",
       "      <td>51245.000000</td>\n",
       "    </tr>\n",
       "    <tr>\n",
       "      <th>accuracy</th>\n",
       "      <td>0.836949</td>\n",
       "      <td>0.836949</td>\n",
       "      <td>0.836949</td>\n",
       "      <td>0.836949</td>\n",
       "    </tr>\n",
       "    <tr>\n",
       "      <th>macro avg</th>\n",
       "      <td>0.795990</td>\n",
       "      <td>0.715088</td>\n",
       "      <td>0.741302</td>\n",
       "      <td>216619.000000</td>\n",
       "    </tr>\n",
       "    <tr>\n",
       "      <th>weighted avg</th>\n",
       "      <td>0.827300</td>\n",
       "      <td>0.836949</td>\n",
       "      <td>0.824178</td>\n",
       "      <td>216619.000000</td>\n",
       "    </tr>\n",
       "  </tbody>\n",
       "</table>\n",
       "</div>"
      ],
      "text/plain": [
       "              precision    recall  f1-score        support\n",
       "0              0.855416  0.946382  0.898603  165374.000000\n",
       "1              0.736564  0.483794  0.584001   51245.000000\n",
       "accuracy       0.836949  0.836949  0.836949       0.836949\n",
       "macro avg      0.795990  0.715088  0.741302  216619.000000\n",
       "weighted avg   0.827300  0.836949  0.824178  216619.000000"
      ]
     },
     "execution_count": 159,
     "metadata": {},
     "output_type": "execute_result"
    }
   ],
   "source": [
    "y_pred_test = lr.predict(tfidf_vector_test)\n",
    "report = classification_report(y_test, y_pred_test, output_dict=True)\n",
    "\n",
    "report_df = pd.DataFrame(report).transpose()\n",
    "report_df"
   ]
  },
  {
   "cell_type": "code",
   "execution_count": 160,
   "metadata": {},
   "outputs": [
    {
     "name": "stdout",
     "output_type": "stream",
     "text": [
      "0.7150878403550686\n"
     ]
    }
   ],
   "source": [
    "print(metrics.roc_auc_score(y_test,y_pred_test))"
   ]
  },
  {
   "cell_type": "code",
   "execution_count": 161,
   "metadata": {},
   "outputs": [
    {
     "data": {
      "image/png": "[encoded data removed]",
      "text/plain": [
       "<Figure size 576x432 with 1 Axes>"
      ]
     },
     "metadata": {
      "needs_background": "light"
     },
     "output_type": "display_data"
    }
   ],
   "source": [
    "y_pred_test = lr.predict(tfidf_vector_test)\n",
    "cm = confusion_matrix(y_test, y_pred_test)\n",
    "\n",
    "plt.figure(figsize=(8, 6))\n",
    "sns.heatmap(cm, annot=True, fmt=\"d\", cmap=\"Blues\", cbar=False)\n",
    "plt.xlabel(\"Predicted labels\")\n",
    "plt.ylabel(\"True labels\")\n",
    "plt.title(\"Confusion Matrix - Training Data\")\n",
    "plt.show()"
   ]
  },
  {
   "cell_type": "code",
   "execution_count": 103,
   "metadata": {},
   "outputs": [],
   "source": [
    "negative_tweets = X_train[y_train == 0]\n",
    "positive_tweets = X_train[y_train == 1]\n",
    "\n",
    "tfidf_negative = TfidfVectorizer()\n",
    "tfidf_vector_negative = tfidf_negative.fit_transform(negative_tweets)\n",
    "\n",
    "tfidf_positive = TfidfVectorizer()\n",
    "tfidf_vector_positive = tfidf_positive.fit_transform(positive_tweets)"
   ]
  },
  {
   "cell_type": "code",
   "execution_count": 110,
   "metadata": {},
   "outputs": [
    {
     "name": "stdout",
     "output_type": "stream",
     "text": [
      "Most popular words in negative tweets:\n",
      "['awhh', '_hudson', 'whewwwwwww', 'together', 'southworst', 'whhhhhhhhyyyyy', 'sowee', 'whhyy', 'fuckkk', '_hope', 'fuckofffuckofffuckoffffff', 'sowhat', 'apartmentaloneagain', 'sowry', 'boring', '_hoffman', 'full', 'fuck', 'fucccckkkkkkkkkk', 'sowwy', 'wheres', 'borrrrrrredddddd', 'borrrrrreeeeeeeeeeeed', 'borrrreed', 'narm', 'soup', '_ice_queen_', 'sourceforge', 'soursally', 'borreeeddd', 'borreed', 'frozen', 'frustrate', 'fsckvpscom', 'fsdfhjdsfdsjkhjkds', 'naman', 'apathetic', 'fun', 'whoever', 'spa', 'myheartisbroken', '_headedness', 'spammer', 'boredreallybored', 'fuuuuck', 'fuuuuuck', 'fuuuuuuuuuuuuuuuuuuuuuuuuck', 'boredom', 'borednothing', 'spanish', 'mutilate', 'mustsleepnow', 'fyl', 'boredness', 'mustace', 'spacey', 'boreed', 'mzfreeproductcodenotavailableincountry_explination', 'boreedd', 'boreeeeeeeeeeed', 'fund', 'whine', 'boreeeeeeeeed', 'funeral', 'boreeeeeeed', 'boreeeeeeddddd', 'myt', 'funk', 'boreeeeeedd', 'boreeeeed', 'funny', 'boreeeed', 'boreeed', 'boreedddd', 'bosanjenuhbetebetebeteach', 'boseeen', 'sound', 'anything', '_issy', 'soreeeeeeee', 'negative', 'soreeeeeeeeeeee', 'freeeeeeezing', 'boy', '_ising', 'box', 'neeeeein', 'whaaa', 'needtofinishthissong', 'freetoair', 'whaaatttttt', 'freeze', 'need', 'soreeeeee', 'neighbor', 'nasty', 'neighter', 'france', 'nervous', 'nervermind']\n",
      "\n",
      "Most popular words in positive tweets:\n",
      "['humpthestump', 'billy', 'birthday', 'hmm', 'hmmmmmyogurt', 'hmv', 'ho', 'woodgrain', 'hobulduk', 'bingeeating', 'yey', 'hohoho', 'hola', 'gym', 'woo', 'hold', 'hole', 'biggestsquezziestbearhug', 'yeyy', 'holiday', 'wont', 'holy', 'home', 'homebound', 'hiya', 'hit', 'hindsight', 'hill', 'blip', 'blink', 'heyyyyyyyyyyy', 'wooohoooooooooo', 'hi', 'hide', 'highland', 'hihow', 'blank', 'blame', 'hii', 'hiii', 'blackberry', 'hiiii', 'hiiiii', 'hiiiiiiiii', 'woohoooing', 'bitch', 'bit', 'hilarious', 'woohoo', 'wonderwall', 'bff', 'homepage', 'howdyyy', 'believe', 'howre', 'woman', 'hry', 'hug', 'huh', 'beijinhos', 'hun', 'behind', 'hungry', 'begin', 'hurray', 'woken', 'wokeeee', 'woke', 'idea', 'idk', 'idol', 'bee', 'ignore', 'bedsarewaycomfy', 'believeland', 'yip', 'homework', 'belle', 'honest', 'honey', 'betcha', 'honour', 'bet', 'besties', 'hook', 'hoook', 'hop', 'hope', 'best', 'hopefully', 'wonderful', 'hoppusday', 'wonder', 'hot', 'hott', 'hour', 'ben', 'houseeee', 'belong', 'heyyyyyyyyy']\n"
     ]
    }
   ],
   "source": [
    "top_negative_indices = tfidf_vector_negative.max(axis=0).toarray().flatten().argsort()[-100:][::-1]\n",
    "top_positive_indices = tfidf_vector_positive.max(axis=0).toarray().flatten().argsort()[-100:][::-1]\n",
    "\n",
    "negative_words = tfidf_negative.get_feature_names_out()\n",
    "positive_words = tfidf_positive.get_feature_names_out()\n",
    "\n",
    "top_negative_words = [negative_words[i] for i in top_negative_indices]\n",
    "top_positive_words = [positive_words[i] for i in top_positive_indices]\n",
    "\n",
    "print(\"Most popular words in negative tweets:\")\n",
    "print(top_negative_words)\n",
    "\n",
    "print(\"\\nMost popular words in positive tweets:\")\n",
    "print(top_positive_words)\n"
   ]
  },
  {
   "cell_type": "code",
   "execution_count": 113,
   "metadata": {},
   "outputs": [
    {
     "name": "stdout",
     "output_type": "stream",
     "text": [
      "Correlation between presence of top negative words and target:\n",
      "fun          0.037019\n",
      "funny        0.027244\n",
      "sound        0.022963\n",
      "spa          0.006976\n",
      "together     0.004792\n",
      "               ...   \n",
      "frustrate   -0.012278\n",
      "anything    -0.012676\n",
      "boring      -0.016322\n",
      "need        -0.028910\n",
      "fuck        -0.029019\n",
      "Length: 100, dtype: float64\n",
      "\n",
      "Correlation between presence of top positive words and target:\n",
      "wonderful    0.038360\n",
      "birthday     0.037552\n",
      "best         0.034293\n",
      "woo          0.031140\n",
      "hope         0.021461\n",
      "               ...   \n",
      "hour        -0.021511\n",
      "hit         -0.022383\n",
      "home        -0.031140\n",
      "ho          -0.033980\n",
      "wont        -0.042815\n",
      "Length: 100, dtype: float64\n"
     ]
    }
   ],
   "source": [
    "def check_word_presence(tweet, words):\n",
    "    for word in words:\n",
    "        if word in tweet:\n",
    "            return 1\n",
    "    return 0\n",
    "\n",
    "negative_tweets_presence = pd.DataFrame()\n",
    "for word in top_negative_words:\n",
    "    negative_tweets_presence[word] = X_train.apply(lambda tweet: check_word_presence(tweet, [word]))\n",
    "\n",
    "positive_tweets_presence = pd.DataFrame()\n",
    "for word in top_positive_words:\n",
    "    positive_tweets_presence[word] = X_train.apply(lambda tweet: check_word_presence(tweet, [word]))\n",
    "\n",
    "X_train_with_words = pd.concat([X_train, negative_tweets_presence, positive_tweets_presence], axis=1)\n",
    "\n",
    "correlation_negative = X_train_with_words[top_negative_words].corrwith(y_train).sort_values(ascending=False)\n",
    "correlation_positive = X_train_with_words[top_positive_words].corrwith(y_train).sort_values(ascending=False)\n",
    "\n",
    "print(\"Correlation between presence of top negative words and target:\")\n",
    "print(correlation_negative)\n",
    "\n",
    "print(\"\\nCorrelation between presence of top positive words and target:\")\n",
    "print(correlation_positive)\n"
   ]
  },
  {
   "cell_type": "markdown",
   "metadata": {},
   "source": [
    "## Word Embedding\n",
    "\n",
    "Word Embedding is a technique of representing words as real-valued vectors in a multi-dimensional space, where similar words are represented by similar vectors. This technique enables the semantic representation of words, meaning that words with similar meanings will have similar vector representations. Word Embedding is widely used in natural language processing and machine learning, particularly in text analysis.\n",
    "\n",
    "### Word2Vec\n",
    "\n",
    "Word2Vec is a popular algorithm for generating word embeddings. It is based on the distributional hypothesis, which suggests that words appearing in similar contexts tend to have similar meanings. Word2Vec uses a neural network model to learn word embeddings by predicting the probability of neighboring words given a target word or vice versa.\n",
    "\n",
    "#### Mathematics behind Word2Vec:\n",
    "\n",
    "Word2Vec consists of two main models: Continuous Bag of Words (CBOW) and Skip-gram.\n",
    "\n",
    "**1. Continuous Bag of Words (CBOW):**\n",
    "   - Given a target word, CBOW predicts the probability distribution of context words surrounding the target word.\n",
    "   - Let's denote:\n",
    "     - \\( V \\) as the size of the vocabulary.\n",
    "     - \\( N \\) as the dimensionality of the word vectors.\n",
    "     - \\( w_{t} \\) as the target word.\n",
    "     - \\( c_{t} \\) as the context window centered around the target word.\n",
    "     - \\( W_{input} \\) as the input word vectors matrix.\n",
    "     - \\( W_{output} \\) as the output word vectors matrix.\n",
    "     - \\( \\hat{v} \\) as the output of the softmax function.\n",
    "\n",
    "   - The objective of CBOW is to maximize the average log probability:\n",
    "     \\[ \\frac{1}{T} \\sum_{t=1}^{T} \\log P(w_{t} | c_{t}) \\]\n",
    "\n",
    "**2. Skip-gram:**\n",
    "   - Given a target word, Skip-gram predicts the probability distribution of context words within a fixed context window around the target word.\n",
    "   - The objective of Skip-gram is to maximize the average log probability of predicting context words given the target word.\n",
    "\n",
    "Both CBOW and Skip-gram models are trained using the backpropagation algorithm to adjust the word vectors in order to minimize the prediction error.\n",
    "\n",
    "These word vectors, learned by Word2Vec, capture semantic relationships between words and can be used for various natural language processing tasks such as sentiment analysis, document classification, and machine translation.\n",
    "\n"
   ]
  },
  {
   "cell_type": "code",
   "execution_count": 162,
   "metadata": {},
   "outputs": [],
   "source": [
    "tokenized_sentences = [word_tokenize(text) for text in X_train['text']]\n",
    "\n",
    "model = Word2Vec(tokenized_sentences, vector_size=100, window=7, min_count=5, sg=1)\n",
    "#model.save(\"word2vec.model\")"
   ]
  },
  {
   "cell_type": "code",
   "execution_count": 163,
   "metadata": {},
   "outputs": [
    {
     "name": "stdout",
     "output_type": "stream",
     "text": [
      "0         [0.021756165, -0.06688638, -0.10579471, 0.0242...\n",
      "1         [-0.18875071, -0.006752626, -0.09327113, 0.036...\n",
      "2         [-0.16246939, 0.059748642, 0.14143112, 0.17252...\n",
      "3         [-0.41538456, -0.05620629, 0.09774202, -0.0211...\n",
      "4         [-0.26604816, 0.190452, 0.057154793, 0.0015439...\n",
      "                                ...                        \n",
      "505607    [-0.09767956, -0.11111055, 0.070428714, 0.0385...\n",
      "505608    [-0.2661906, -0.043495297, 0.104758516, -0.017...\n",
      "505609    [-0.17602482, -0.06852984, 0.046716165, -0.008...\n",
      "505610    [-0.038899895, 0.24466059, 0.1215664, -0.00942...\n",
      "505611    [-0.31907055, 0.19796632, 0.05641396, 0.051065...\n",
      "Name: text, Length: 505612, dtype: object\n"
     ]
    }
   ],
   "source": [
    "def text_to_vector(text, embedding_model, embedding_dim):\n",
    "    words = text.split()\n",
    "    vectors = []\n",
    "    for word in words:\n",
    "        if word in embedding_model.wv:\n",
    "            vectors.append(embedding_model.wv[word])\n",
    "    if not vectors:\n",
    "        return np.zeros(embedding_dim)\n",
    "    avg_vector = np.mean(vectors, axis=0)\n",
    "    return avg_vector\n",
    "\n",
    "embedding_dim = 10\n",
    "\n",
    "word2vec_vector = X_train['text'].apply(lambda x: text_to_vector(x, model, embedding_dim))\n",
    "word2vec_vector_test = X_test['text'].apply(lambda x: text_to_vector(x, model, embedding_dim))\n",
    "\n",
    "print(word2vec_vector)"
   ]
  },
  {
   "cell_type": "code",
   "execution_count": 164,
   "metadata": {},
   "outputs": [
    {
     "name": "stdout",
     "output_type": "stream",
     "text": [
      "[('horrible', 0.7633162140846252), ('terrible', 0.739584743976593), ('sucky', 0.7324002385139465), ('siick', 0.692584216594696), ('worst', 0.6913172006607056), ('dismiss', 0.6902362704277039), ('baad', 0.6876357197761536), ('awful', 0.6839306354522705), ('reeeally', 0.6829268336296082), ('pissy', 0.6805790662765503)]\n"
     ]
    }
   ],
   "source": [
    "similar_words = model.wv.most_similar(\"bad\", topn=10)\n",
    "print(similar_words)"
   ]
  },
  {
   "cell_type": "code",
   "execution_count": 165,
   "metadata": {},
   "outputs": [
    {
     "data": {
      "image/png": "[encoded data removed]",
      "text/plain": [
       "<Figure size 864x864 with 1 Axes>"
      ]
     },
     "metadata": {
      "needs_background": "light"
     },
     "output_type": "display_data"
    }
   ],
   "source": [
    "words = list(model.wv.index_to_key)[100:200]\n",
    "word_vectors = model.wv[words]\n",
    "\n",
    "pca = PCA(n_components=2)\n",
    "principal_components = pca.fit_transform(word_vectors)\n",
    "\n",
    "plt.figure(figsize=(12, 12))\n",
    "plt.scatter(principal_components[:, 0], principal_components[:, 1], marker='.')\n",
    "for i, word in enumerate(words):\n",
    "    plt.annotate(word, xy=(principal_components[i, 0], principal_components[i, 1]), fontsize=8)\n",
    "plt.xlabel('Principal Component 1')\n",
    "plt.ylabel('Principal Component 2')\n",
    "plt.title('Word Embeddings Visualization')\n",
    "plt.grid(True)\n",
    "\n",
    "plt.show()"
   ]
  },
  {
   "cell_type": "code",
   "execution_count": 166,
   "metadata": {},
   "outputs": [],
   "source": [
    "max_length = 100 \n",
    "\n",
    "def pad_or_truncate_sequences(sequences, max_length):\n",
    "    padded_sequences = []\n",
    "    for seq in sequences:\n",
    "        if len(seq) < max_length:\n",
    "            padded_seq = np.pad(seq, (0, max_length - len(seq)), mode='constant')\n",
    "        else:\n",
    "            padded_seq = seq[:max_length]\n",
    "        padded_sequences.append(padded_seq)\n",
    "    return np.array(padded_sequences)\n",
    "\n",
    "X_train_w2v_pad = pad_or_truncate_sequences(word2vec_vector, max_length)\n",
    "X_test_w2v_pad = pad_or_truncate_sequences(word2vec_vector_test, max_length)"
   ]
  },
  {
   "cell_type": "code",
   "execution_count": 167,
   "metadata": {},
   "outputs": [
    {
     "data": {
      "text/plain": [
       "LinearSVC()"
      ]
     },
     "execution_count": 167,
     "metadata": {},
     "output_type": "execute_result"
    }
   ],
   "source": [
    "l_SVC_w2v = LinearSVC()\n",
    "l_SVC_w2v.fit(X_train_w2v_pad, y_train)"
   ]
  },
  {
   "cell_type": "code",
   "execution_count": 168,
   "metadata": {},
   "outputs": [
    {
     "data": {
      "text/html": [
       "<div>\n",
       "<style scoped>\n",
       "    .dataframe tbody tr th:only-of-type {\n",
       "        vertical-align: middle;\n",
       "    }\n",
       "\n",
       "    .dataframe tbody tr th {\n",
       "        vertical-align: top;\n",
       "    }\n",
       "\n",
       "    .dataframe thead th {\n",
       "        text-align: right;\n",
       "    }\n",
       "</style>\n",
       "<table border=\"1\" class=\"dataframe\">\n",
       "  <thead>\n",
       "    <tr style=\"text-align: right;\">\n",
       "      <th></th>\n",
       "      <th>precision</th>\n",
       "      <th>recall</th>\n",
       "      <th>f1-score</th>\n",
       "      <th>support</th>\n",
       "    </tr>\n",
       "  </thead>\n",
       "  <tbody>\n",
       "    <tr>\n",
       "      <th>0</th>\n",
       "      <td>0.823714</td>\n",
       "      <td>0.965635</td>\n",
       "      <td>0.889047</td>\n",
       "      <td>165374.000000</td>\n",
       "    </tr>\n",
       "    <tr>\n",
       "      <th>1</th>\n",
       "      <td>0.750220</td>\n",
       "      <td>0.333086</td>\n",
       "      <td>0.461343</td>\n",
       "      <td>51245.000000</td>\n",
       "    </tr>\n",
       "    <tr>\n",
       "      <th>accuracy</th>\n",
       "      <td>0.815995</td>\n",
       "      <td>0.815995</td>\n",
       "      <td>0.815995</td>\n",
       "      <td>0.815995</td>\n",
       "    </tr>\n",
       "    <tr>\n",
       "      <th>macro avg</th>\n",
       "      <td>0.786967</td>\n",
       "      <td>0.649361</td>\n",
       "      <td>0.675195</td>\n",
       "      <td>216619.000000</td>\n",
       "    </tr>\n",
       "    <tr>\n",
       "      <th>weighted avg</th>\n",
       "      <td>0.806328</td>\n",
       "      <td>0.815995</td>\n",
       "      <td>0.787866</td>\n",
       "      <td>216619.000000</td>\n",
       "    </tr>\n",
       "  </tbody>\n",
       "</table>\n",
       "</div>"
      ],
      "text/plain": [
       "              precision    recall  f1-score        support\n",
       "0              0.823714  0.965635  0.889047  165374.000000\n",
       "1              0.750220  0.333086  0.461343   51245.000000\n",
       "accuracy       0.815995  0.815995  0.815995       0.815995\n",
       "macro avg      0.786967  0.649361  0.675195  216619.000000\n",
       "weighted avg   0.806328  0.815995  0.787866  216619.000000"
      ]
     },
     "execution_count": 168,
     "metadata": {},
     "output_type": "execute_result"
    }
   ],
   "source": [
    "y_pred_test = l_SVC_w2v.predict(X_test_w2v_pad)\n",
    "report = classification_report(y_test, y_pred_test, output_dict=True)\n",
    "\n",
    "report_df = pd.DataFrame(report).transpose()\n",
    "report_df"
   ]
  },
  {
   "cell_type": "code",
   "execution_count": 169,
   "metadata": {},
   "outputs": [
    {
     "name": "stdout",
     "output_type": "stream",
     "text": [
      "0.7869669783573985\n"
     ]
    }
   ],
   "source": [
    "print(metrics.roc_auc_score(y_pred_test,y_test))"
   ]
  },
  {
   "cell_type": "code",
   "execution_count": 170,
   "metadata": {},
   "outputs": [
    {
     "data": {
      "image/png": "[encoded data removed]",
      "text/plain": [
       "<Figure size 576x432 with 1 Axes>"
      ]
     },
     "metadata": {
      "needs_background": "light"
     },
     "output_type": "display_data"
    }
   ],
   "source": [
    "y_pred_test = l_SVC_w2v.predict(X_test_w2v_pad)\n",
    "cm = confusion_matrix(y_test, y_pred_test)\n",
    "\n",
    "plt.figure(figsize=(8, 6))\n",
    "sns.heatmap(cm, annot=True, fmt=\"d\", cmap=\"Blues\", cbar=False)\n",
    "plt.xlabel(\"Predicted labels\")\n",
    "plt.ylabel(\"True labels\")\n",
    "plt.title(\"Confusion Matrix - Training Data\")\n",
    "plt.show()"
   ]
  },
  {
   "cell_type": "code",
   "execution_count": 171,
   "metadata": {},
   "outputs": [
    {
     "data": {
      "text/plain": [
       "LogisticRegression(solver='sag')"
      ]
     },
     "execution_count": 171,
     "metadata": {},
     "output_type": "execute_result"
    }
   ],
   "source": [
    "lr_w2v=LogisticRegression(solver='sag')\n",
    "lr_w2v.fit(X_train_w2v_pad, y_train)"
   ]
  },
  {
   "cell_type": "code",
   "execution_count": 172,
   "metadata": {},
   "outputs": [
    {
     "data": {
      "text/html": [
       "<div>\n",
       "<style scoped>\n",
       "    .dataframe tbody tr th:only-of-type {\n",
       "        vertical-align: middle;\n",
       "    }\n",
       "\n",
       "    .dataframe tbody tr th {\n",
       "        vertical-align: top;\n",
       "    }\n",
       "\n",
       "    .dataframe thead th {\n",
       "        text-align: right;\n",
       "    }\n",
       "</style>\n",
       "<table border=\"1\" class=\"dataframe\">\n",
       "  <thead>\n",
       "    <tr style=\"text-align: right;\">\n",
       "      <th></th>\n",
       "      <th>precision</th>\n",
       "      <th>recall</th>\n",
       "      <th>f1-score</th>\n",
       "      <th>support</th>\n",
       "    </tr>\n",
       "  </thead>\n",
       "  <tbody>\n",
       "    <tr>\n",
       "      <th>0</th>\n",
       "      <td>0.831619</td>\n",
       "      <td>0.955682</td>\n",
       "      <td>0.889345</td>\n",
       "      <td>165374.000000</td>\n",
       "    </tr>\n",
       "    <tr>\n",
       "      <th>1</th>\n",
       "      <td>0.724204</td>\n",
       "      <td>0.375549</td>\n",
       "      <td>0.494609</td>\n",
       "      <td>51245.000000</td>\n",
       "    </tr>\n",
       "    <tr>\n",
       "      <th>accuracy</th>\n",
       "      <td>0.818442</td>\n",
       "      <td>0.818442</td>\n",
       "      <td>0.818442</td>\n",
       "      <td>0.818442</td>\n",
       "    </tr>\n",
       "    <tr>\n",
       "      <th>macro avg</th>\n",
       "      <td>0.777911</td>\n",
       "      <td>0.665616</td>\n",
       "      <td>0.691977</td>\n",
       "      <td>216619.000000</td>\n",
       "    </tr>\n",
       "    <tr>\n",
       "      <th>weighted avg</th>\n",
       "      <td>0.806208</td>\n",
       "      <td>0.818442</td>\n",
       "      <td>0.795963</td>\n",
       "      <td>216619.000000</td>\n",
       "    </tr>\n",
       "  </tbody>\n",
       "</table>\n",
       "</div>"
      ],
      "text/plain": [
       "              precision    recall  f1-score        support\n",
       "0              0.831619  0.955682  0.889345  165374.000000\n",
       "1              0.724204  0.375549  0.494609   51245.000000\n",
       "accuracy       0.818442  0.818442  0.818442       0.818442\n",
       "macro avg      0.777911  0.665616  0.691977  216619.000000\n",
       "weighted avg   0.806208  0.818442  0.795963  216619.000000"
      ]
     },
     "execution_count": 172,
     "metadata": {},
     "output_type": "execute_result"
    }
   ],
   "source": [
    "y_pred_test = lr_w2v.predict(X_test_w2v_pad)\n",
    "report = classification_report(y_test, y_pred_test, output_dict=True)\n",
    "\n",
    "report_df = pd.DataFrame(report).transpose()\n",
    "report_df"
   ]
  },
  {
   "cell_type": "code",
   "execution_count": 173,
   "metadata": {},
   "outputs": [
    {
     "name": "stdout",
     "output_type": "stream",
     "text": [
      "0.7779114681998198\n"
     ]
    }
   ],
   "source": [
    "print(metrics.roc_auc_score(y_pred_test,y_test))"
   ]
  },
  {
   "cell_type": "code",
   "execution_count": 174,
   "metadata": {},
   "outputs": [
    {
     "data": {
      "image/png": "[encoded data removed]",
      "text/plain": [
       "<Figure size 576x432 with 1 Axes>"
      ]
     },
     "metadata": {
      "needs_background": "light"
     },
     "output_type": "display_data"
    }
   ],
   "source": [
    "y_pred_test = lr_w2v.predict(X_test_w2v_pad)\n",
    "cm = confusion_matrix(y_test, y_pred_test)\n",
    "\n",
    "plt.figure(figsize=(8, 6))\n",
    "sns.heatmap(cm, annot=True, fmt=\"d\", cmap=\"Blues\", cbar=False)\n",
    "plt.xlabel(\"Predicted labels\")\n",
    "plt.ylabel(\"True labels\")\n",
    "plt.title(\"Confusion Matrix - Training Data\")\n",
    "plt.show()"
   ]
  },
  {
   "cell_type": "markdown",
   "metadata": {},
   "source": [
    "While word embedding primarily focuses on the semantic meaning of words, we might assume it's the ideal choice for sentiment classification models. However, as demonstrated by the confusion matrix above, the impressive metric scores are largely due to the vast majority of tweets being classified as negative. This imbalance in the dataset, with significantly more negative tweets, skews the evaluation metrics."
   ]
  }
 ],
 "metadata": {
  "kernelspec": {
   "display_name": "Python 3 (ipykernel)",
   "language": "python",
   "name": "python3"
  },
  "language_info": {
   "codemirror_mode": {
    "name": "ipython",
    "version": 3
   },
   "file_extension": ".py",
   "mimetype": "text/x-python",
   "name": "python",
   "nbconvert_exporter": "python",
   "pygments_lexer": "ipython3",
   "version": "3.9.12"
  }
 },
 "nbformat": 4,
 "nbformat_minor": 2
}
